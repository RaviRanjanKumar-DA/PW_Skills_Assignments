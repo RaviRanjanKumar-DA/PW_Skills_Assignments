{
  "nbformat": 4,
  "nbformat_minor": 0,
  "metadata": {
    "colab": {
      "provenance": []
    },
    "kernelspec": {
      "name": "python3",
      "display_name": "Python 3"
    },
    "language_info": {
      "name": "python"
    }
  },
  "cells": [
    {
      "cell_type": "markdown",
      "source": [
        "# Theory Questions"
      ],
      "metadata": {
        "id": "KhvePU96PVzy"
      }
    },
    {
      "cell_type": "markdown",
      "source": [
        "## 1. What is NumPy, and why is it widely used in Python?"
      ],
      "metadata": {
        "id": "_kb8e42YPloi"
      }
    },
    {
      "cell_type": "markdown",
      "source": [
        "- NumPy (Numerical Python) is a powerful library for numerical computing in python. It provides multi-dimensional arrays, mathematical functions, and efficient operations on large datasets.\n",
        "\n",
        "- It is widely used because of its speed, efficiency, and ability to integrate with other scientific computing libraries."
      ],
      "metadata": {
        "id": "ie99lAtiP6lR"
      }
    },
    {
      "cell_type": "markdown",
      "source": [
        "## 2. How does broadcasting work in NumPy?"
      ],
      "metadata": {
        "id": "2xlwJr4APl8B"
      }
    },
    {
      "cell_type": "markdown",
      "source": [
        "- Broadcasting allows NumPy to perform element-wise operations on arrays of different shapes without explicitly reshaping them.\n",
        "- It follows specific rules to match dimensions, making operations more efficient and reducing memory usage."
      ],
      "metadata": {
        "id": "KuBoK_C7QAkY"
      }
    },
    {
      "cell_type": "markdown",
      "source": [
        "## 3. What is a Pandas DataFrame?"
      ],
      "metadata": {
        "id": "TZoIP-7XPl_H"
      }
    },
    {
      "cell_type": "markdown",
      "source": [
        "- A Pandas DataFrame is a two-dimensional, labeled data structure similar to an Excel spreadsheet or SQL table.\n",
        "- It allows data manipulation, analysis, and visualization with rows and columns."
      ],
      "metadata": {
        "id": "qDCpSOGbQNX4"
      }
    },
    {
      "cell_type": "markdown",
      "source": [
        "## 4. Explain the use of the groupby() method in Pandas."
      ],
      "metadata": {
        "id": "nHFgFRYPPmCx"
      }
    },
    {
      "cell_type": "markdown",
      "source": [
        "- The groupby() method is used for grouping data based on one or more columns and applying aggregation functions like sum, mean, or count.\n",
        "- It is useful for analyzing and summarizing large datasets."
      ],
      "metadata": {
        "id": "npG77F3XQQvT"
      }
    },
    {
      "cell_type": "markdown",
      "source": [
        "## 5. Why is Seaborn preferred for statistical visualizations?"
      ],
      "metadata": {
        "id": "ktD8uqswPmF6"
      }
    },
    {
      "cell_type": "markdown",
      "source": [
        "- Seaborn is preferred because it provides high-level functions for creating attractive and informative statistical graphics.\n",
        "- It integrates well with Pandas and automatically applies better aesthetics."
      ],
      "metadata": {
        "id": "M7oEXKlHQ2NZ"
      }
    },
    {
      "cell_type": "markdown",
      "source": [
        "## 6. What are the differences between NumPy arrays and Python lists?"
      ],
      "metadata": {
        "id": "Ty9sZkPcQ9V8"
      }
    },
    {
      "cell_type": "markdown",
      "source": [
        "- NumPy arrays support vectorized operations, making them faster.\n",
        "- They use less memory than Python lists.\n",
        "- Arrays have fixed data types, while lists can store mixed data types.\n",
        "- NumPy provides advanced mathematical and matrix operations."
      ],
      "metadata": {
        "id": "nIXA85slRBs6"
      }
    },
    {
      "cell_type": "markdown",
      "source": [
        "## 7. What is a heatmap, and when should it be used?"
      ],
      "metadata": {
        "id": "X9Ah9fUyRXEX"
      }
    },
    {
      "cell_type": "markdown",
      "source": [
        "- A heatmap is a visual representation of data where individual values are represented by colors.\n",
        "- It is used for correlation matrices, feature importance, and large-scale data visualization."
      ],
      "metadata": {
        "id": "9BM56AOfRaMi"
      }
    },
    {
      "cell_type": "markdown",
      "source": [
        "## 8. What does the term \"vectorized operation\" mean in NumPy?"
      ],
      "metadata": {
        "id": "nfWBxxz_SAz-"
      }
    },
    {
      "cell_type": "markdown",
      "source": [
        "- Vectorized operations refer to applying operations on entire arrays without explicit loops, making computations faster and more efficient."
      ],
      "metadata": {
        "id": "S4YlOU1OSEwd"
      }
    },
    {
      "cell_type": "markdown",
      "source": [
        "## 9. How does Matplotlib differ from Plotly?"
      ],
      "metadata": {
        "id": "0qoM2W7pSpg0"
      }
    },
    {
      "cell_type": "markdown",
      "source": [
        "- Matplotlib is a static visualization library, while Plotly provides interactive charts.\n",
        "- Plotly is better for web-based applications, while Matplotlib is great for static reports and research papers."
      ],
      "metadata": {
        "id": "lVd9vEJYSstN"
      }
    },
    {
      "cell_type": "markdown",
      "source": [
        "## 10. What is the significance of hierarchical indexing in Pandas?"
      ],
      "metadata": {
        "id": "WuNEQSvBTED3"
      }
    },
    {
      "cell_type": "markdown",
      "source": [
        "- Hierarchical indexing allows multiple levels of indexing in a DataFrame, making it easier to work with multi-dimensional data."
      ],
      "metadata": {
        "id": "tWF3JneOTIGJ"
      }
    },
    {
      "cell_type": "markdown",
      "source": [
        "## 11. What is the role of Seaborn's pairplot() function?"
      ],
      "metadata": {
        "id": "kNBAe8Y3TMSJ"
      }
    },
    {
      "cell_type": "markdown",
      "source": [
        "- The pairplot() function creates scatter plots for pairwise relationships in a dataset, useful for understanding correlations."
      ],
      "metadata": {
        "id": "Cj3FR4CpTQZ5"
      }
    },
    {
      "cell_type": "markdown",
      "source": [
        "## 12. What is the purpose of the describe() function in Pandas?"
      ],
      "metadata": {
        "id": "bOW0-MpUTTbF"
      }
    },
    {
      "cell_type": "markdown",
      "source": [
        "- It provides summary statistics like mean, standard deviation, min, and max for numerical columns in a DataFrame."
      ],
      "metadata": {
        "id": "4kr2NbKZTWqT"
      }
    },
    {
      "cell_type": "markdown",
      "source": [
        "## 13. Why is handling missing data important in Pandas?"
      ],
      "metadata": {
        "id": "bSFGHS2HTaKM"
      }
    },
    {
      "cell_type": "markdown",
      "source": [
        "- Missing data can lead to incorrect analysis. Pandas provides methods to fill, drop, or interpolate missing values to ensure data consistency."
      ],
      "metadata": {
        "id": "1w73geyeTdSM"
      }
    },
    {
      "cell_type": "markdown",
      "source": [
        "## 14. What are the benefits of using Plotly for data visualization?"
      ],
      "metadata": {
        "id": "T9JS_6fQTfqf"
      }
    },
    {
      "cell_type": "markdown",
      "source": [
        "- Interactive plots\n",
        "- Built-in web compatibility\n",
        "- Support for 3D plotting\n",
        "- Easy integration with Dash for dashboards"
      ],
      "metadata": {
        "id": "UmYJHSHbTmSY"
      }
    },
    {
      "cell_type": "markdown",
      "source": [
        "## 15. How does NumPy handle multidimensional arrays?"
      ],
      "metadata": {
        "id": "Y09KjaqBThcS"
      }
    },
    {
      "cell_type": "markdown",
      "source": [
        "- NumPy provides ndarray objects, allowing efficient storage and manipulation of multi-dimensional data with indexing, slicing, and reshaping."
      ],
      "metadata": {
        "id": "VCykp2_yTwBM"
      }
    },
    {
      "cell_type": "markdown",
      "source": [
        "## 16. What is the role of Bokeh in data visualization?"
      ],
      "metadata": {
        "id": "--KVYDEwTyqq"
      }
    },
    {
      "cell_type": "markdown",
      "source": [
        "- Bokeh is a Python library for interactive and web-friendly visualizations, allowing dynamic updates and complex dashboards."
      ],
      "metadata": {
        "id": "el_6yNe3T76D"
      }
    },
    {
      "cell_type": "markdown",
      "source": [
        "## 17. xplain the difference between apply() and map() in Pandas."
      ],
      "metadata": {
        "id": "aVGs4yJRT-46"
      }
    },
    {
      "cell_type": "markdown",
      "source": [
        "- **apply():** Works on rows/columns and can apply functions to entire DataFrames.\n",
        "- **map():** Works element-wise on Series and applies a function to each value."
      ],
      "metadata": {
        "id": "SIw4vcbtUDvZ"
      }
    },
    {
      "cell_type": "markdown",
      "source": [
        "## 18. What are some advanced features of NumPy?"
      ],
      "metadata": {
        "id": "uYTc6ZBPUUyv"
      }
    },
    {
      "cell_type": "markdown",
      "source": [
        "- Broadcasting\n",
        "- Universal functions (ufuncs)\n",
        "- Fourier transforms\n",
        "- Linear algebra functions\n",
        "- Random number generation"
      ],
      "metadata": {
        "id": "cVPszienUYaX"
      }
    },
    {
      "cell_type": "markdown",
      "source": [
        "## 19. How does Pandas simplify time series analysis?"
      ],
      "metadata": {
        "id": "wmqMfYJbUe6C"
      }
    },
    {
      "cell_type": "markdown",
      "source": [
        "- Pandas provides datetime indexing, resampling, shifting, rolling windows, and built-in functions for time series analysis."
      ],
      "metadata": {
        "id": "z1BZ0qPDUiHs"
      }
    },
    {
      "cell_type": "markdown",
      "source": [
        "## 20. What is the role of a pivot table in Pandas?"
      ],
      "metadata": {
        "id": "asyvdQxxUle8"
      }
    },
    {
      "cell_type": "markdown",
      "source": [
        "- A pivot table summarizes and restructures data by aggregating values based on multiple dimensions."
      ],
      "metadata": {
        "id": "HQwbBeK3Uo1l"
      }
    },
    {
      "cell_type": "markdown",
      "source": [
        "## 21. Why is NumPy's array slicing faster than Python's list slicing?"
      ],
      "metadata": {
        "id": "A4CkKtsmUr3b"
      }
    },
    {
      "cell_type": "markdown",
      "source": [
        "- NumPy arrays use contiguous memory blocks, making slicing operations faster due to efficient memory access."
      ],
      "metadata": {
        "id": "SiKON814UuvN"
      }
    },
    {
      "cell_type": "markdown",
      "source": [
        "## 22. What are some common use cases for Seaborn?"
      ],
      "metadata": {
        "id": "imUpCS4OUxUP"
      }
    },
    {
      "cell_type": "markdown",
      "source": [
        "- Visualizing relationships between variables\n",
        "- Creating distribution plots\n",
        "- Heatmaps for correlation matrices\n",
        "- Statistical comparisons"
      ],
      "metadata": {
        "id": "8bIpoj1QU1jr"
      }
    },
    {
      "cell_type": "markdown",
      "source": [
        "# Practical Questions:-"
      ],
      "metadata": {
        "id": "NB2vb-4OU-gO"
      }
    },
    {
      "cell_type": "markdown",
      "source": [
        "## 1. Create a 2D NumPy array and calculate the sum of each row"
      ],
      "metadata": {
        "id": "2ncjCeGQVCS5"
      }
    },
    {
      "cell_type": "code",
      "source": [
        "import numpy as np\n",
        "\n",
        "arr = np.array([[1, 2, 3], [4, 5, 6], [7, 8, 9]])\n",
        "row_sums = np.sum(arr, axis=1)\n",
        "print(row_sums)"
      ],
      "metadata": {
        "colab": {
          "base_uri": "https://localhost:8080/"
        },
        "id": "a98kT3htVerj",
        "outputId": "6d7b9ec6-04d6-4ea9-b273-ce1d72f5a7c4"
      },
      "execution_count": 1,
      "outputs": [
        {
          "output_type": "stream",
          "name": "stdout",
          "text": [
            "[ 6 15 24]\n"
          ]
        }
      ]
    },
    {
      "cell_type": "markdown",
      "source": [
        "## 2. Find the mean of a specific column in a Pandas DataFrame"
      ],
      "metadata": {
        "id": "VHfpOBFXVkR-"
      }
    },
    {
      "cell_type": "code",
      "source": [
        "import pandas as pd\n",
        "\n",
        "data = {'A': [10, 20, 30, 40], 'B': [5, 15, 25, 35]}\n",
        "df = pd.DataFrame(data)\n",
        "mean_B = df['B'].mean()\n",
        "print(mean_B)"
      ],
      "metadata": {
        "colab": {
          "base_uri": "https://localhost:8080/"
        },
        "id": "gwImX72YVm6Z",
        "outputId": "abffe732-d785-4ff7-e003-91d5a97dbcbd"
      },
      "execution_count": 2,
      "outputs": [
        {
          "output_type": "stream",
          "name": "stdout",
          "text": [
            "20.0\n"
          ]
        }
      ]
    },
    {
      "cell_type": "markdown",
      "source": [
        "## 3. Create a scatter plot using Matplotlib"
      ],
      "metadata": {
        "id": "BKaIuHNbVncO"
      }
    },
    {
      "cell_type": "code",
      "source": [
        "import matplotlib.pyplot as plt\n",
        "\n",
        "x = [1, 2, 3, 4, 5]\n",
        "y = [2, 4, 1, 8, 7]\n",
        "\n",
        "plt.scatter(x, y, color='blue', marker='o')\n",
        "plt.xlabel(\"X-axis\")\n",
        "plt.ylabel(\"Y-axis\")\n",
        "plt.title(\"Scatter Plot Example\")\n",
        "plt.show()"
      ],
      "metadata": {
        "colab": {
          "base_uri": "https://localhost:8080/",
          "height": 472
        },
        "id": "GJobWe9OVnmu",
        "outputId": "0c1491d6-f82b-4745-a7f2-a3d52aba27cf"
      },
      "execution_count": 3,
      "outputs": [
        {
          "output_type": "display_data",
          "data": {
            "text/plain": [
              "<Figure size 640x480 with 1 Axes>"
            ],
            "image/png": "[encoded data removed]"
          },
          "metadata": {}
        }
      ]
    },
    {
      "cell_type": "markdown",
      "source": [
        "## 4. Calculate the correlation matrix using Seaborn and visualize it with a heatmap"
      ],
      "metadata": {
        "id": "TlxX5lnmVnuO"
      }
    },
    {
      "cell_type": "code",
      "source": [
        "import seaborn as sns\n",
        "import numpy as np\n",
        "import matplotlib.pyplot as plt\n",
        "\n",
        "data = np.random.rand(5, 5)\n",
        "df = pd.DataFrame(data, columns=['A', 'B', 'C', 'D', 'E'])\n",
        "\n",
        "corr_matrix = df.corr()\n",
        "sns.heatmap(corr_matrix, annot=True, cmap='coolwarm')\n",
        "plt.title(\"Correlation Matrix Heatmap\")\n",
        "plt.show()"
      ],
      "metadata": {
        "colab": {
          "base_uri": "https://localhost:8080/",
          "height": 452
        },
        "id": "vFYUten8Vn1o",
        "outputId": "7bbdcb1b-c555-43aa-b1dd-e6cc0054c6d5"
      },
      "execution_count": 4,
      "outputs": [
        {
          "output_type": "display_data",
          "data": {
            "text/plain": [
              "<Figure size 640x480 with 2 Axes>"
            ],
            "image/png": "[encoded data removed]"
          },
          "metadata": {}
        }
      ]
    },
    {
      "cell_type": "markdown",
      "source": [
        "## 5. Generate a bar plot using Plotly"
      ],
      "metadata": {
        "id": "f05O8sNqVn9P"
      }
    },
    {
      "cell_type": "code",
      "source": [
        "import plotly.express as px\n",
        "import pandas as pd\n",
        "\n",
        "data = {'Category': ['A', 'B', 'C', 'D'], 'Values': [10, 20, 15, 25]}\n",
        "df = pd.DataFrame(data)\n",
        "\n",
        "fig = px.bar(df, x='Category', y='Values', title=\"Bar Plot Example\")\n",
        "fig.show()"
      ],
      "metadata": {
        "colab": {
          "base_uri": "https://localhost:8080/",
          "height": 542
        },
        "id": "ht3MXdg3VoEy",
        "outputId": "67c42634-7718-406a-cc3b-d6e05051bc7c"
      },
      "execution_count": 5,
      "outputs": [
        {
          "output_type": "display_data",
          "data": {
            "text/html": [
              "<html>\n",
              "<head><meta charset=\"utf-8\" /></head>\n",
              "<body>\n",
              "    <div>            <script src=\"https://cdnjs.cloudflare.com/ajax/libs/mathjax/2.7.5/MathJax.js?config=TeX-AMS-MML_SVG\"></script><script type=\"text/javascript\">if (window.MathJax && window.MathJax.Hub && window.MathJax.Hub.Config) {window.MathJax.Hub.Config({SVG: {font: \"STIX-Web\"}});}</script>                <script type=\"text/javascript\">window.PlotlyConfig = {MathJaxConfig: 'local'};</script>\n",
              "        <script charset=\"utf-8\" src=\"https://cdn.plot.ly/plotly-2.35.2.min.js\"></script>                <div id=\"34866d5d-5686-4ee6-ae89-470b5d921b92\" class=\"plotly-graph-div\" style=\"height:525px; width:100%;\"></div>            <script type=\"text/javascript\">                                    window.PLOTLYENV=window.PLOTLYENV || {};                                    if (document.getElementById(\"34866d5d-5686-4ee6-ae89-470b5d921b92\")) {                    Plotly.newPlot(                        \"34866d5d-5686-4ee6-ae89-470b5d921b92\",                        [{\"alignmentgroup\":\"True\",\"hovertemplate\":\"Category=%{x}\\u003cbr\\u003eValues=%{y}\\u003cextra\\u003e\\u003c\\u002fextra\\u003e\",\"legendgroup\":\"\",\"marker\":{\"color\":\"#636efa\",\"pattern\":{\"shape\":\"\"}},\"name\":\"\",\"offsetgroup\":\"\",\"orientation\":\"v\",\"showlegend\":false,\"textposition\":\"auto\",\"x\":[\"A\",\"B\",\"C\",\"D\"],\"xaxis\":\"x\",\"y\":[10,20,15,25],\"yaxis\":\"y\",\"type\":\"bar\"}],                        {\"template\":{\"data\":{\"histogram2dcontour\":[{\"type\":\"histogram2dcontour\",\"colorbar\":{\"outlinewidth\":0,\"ticks\":\"\"},\"colorscale\":[[0.0,\"#0d0887\"],[0.1111111111111111,\"#46039f\"],[0.2222222222222222,\"#7201a8\"],[0.3333333333333333,\"#9c179e\"],[0.4444444444444444,\"#bd3786\"],[0.5555555555555556,\"#d8576b\"],[0.6666666666666666,\"#ed7953\"],[0.7777777777777778,\"#fb9f3a\"],[0.8888888888888888,\"#fdca26\"],[1.0,\"#f0f921\"]]}],\"choropleth\":[{\"type\":\"choropleth\",\"colorbar\":{\"outlinewidth\":0,\"ticks\":\"\"}}],\"histogram2d\":[{\"type\":\"histogram2d\",\"colorbar\":{\"outlinewidth\":0,\"ticks\":\"\"},\"colorscale\":[[0.0,\"#0d0887\"],[0.1111111111111111,\"#46039f\"],[0.2222222222222222,\"#7201a8\"],[0.3333333333333333,\"#9c179e\"],[0.4444444444444444,\"#bd3786\"],[0.5555555555555556,\"#d8576b\"],[0.6666666666666666,\"#ed7953\"],[0.7777777777777778,\"#fb9f3a\"],[0.8888888888888888,\"#fdca26\"],[1.0,\"#f0f921\"]]}],\"heatmap\":[{\"type\":\"heatmap\",\"colorbar\":{\"outlinewidth\":0,\"ticks\":\"\"},\"colorscale\":[[0.0,\"#0d0887\"],[0.1111111111111111,\"#46039f\"],[0.2222222222222222,\"#7201a8\"],[0.3333333333333333,\"#9c179e\"],[0.4444444444444444,\"#bd3786\"],[0.5555555555555556,\"#d8576b\"],[0.6666666666666666,\"#ed7953\"],[0.7777777777777778,\"#fb9f3a\"],[0.8888888888888888,\"#fdca26\"],[1.0,\"#f0f921\"]]}],\"heatmapgl\":[{\"type\":\"heatmapgl\",\"colorbar\":{\"outlinewidth\":0,\"ticks\":\"\"},\"colorscale\":[[0.0,\"#0d0887\"],[0.1111111111111111,\"#46039f\"],[0.2222222222222222,\"#7201a8\"],[0.3333333333333333,\"#9c179e\"],[0.4444444444444444,\"#bd3786\"],[0.5555555555555556,\"#d8576b\"],[0.6666666666666666,\"#ed7953\"],[0.7777777777777778,\"#fb9f3a\"],[0.8888888888888888,\"#fdca26\"],[1.0,\"#f0f921\"]]}],\"contourcarpet\":[{\"type\":\"contourcarpet\",\"colorbar\":{\"outlinewidth\":0,\"ticks\":\"\"}}],\"contour\":[{\"type\":\"contour\",\"colorbar\":{\"outlinewidth\":0,\"ticks\":\"\"},\"colorscale\":[[0.0,\"#0d0887\"],[0.1111111111111111,\"#46039f\"],[0.2222222222222222,\"#7201a8\"],[0.3333333333333333,\"#9c179e\"],[0.4444444444444444,\"#bd3786\"],[0.5555555555555556,\"#d8576b\"],[0.6666666666666666,\"#ed7953\"],[0.7777777777777778,\"#fb9f3a\"],[0.8888888888888888,\"#fdca26\"],[1.0,\"#f0f921\"]]}],\"surface\":[{\"type\":\"surface\",\"colorbar\":{\"outlinewidth\":0,\"ticks\":\"\"},\"colorscale\":[[0.0,\"#0d0887\"],[0.1111111111111111,\"#46039f\"],[0.2222222222222222,\"#7201a8\"],[0.3333333333333333,\"#9c179e\"],[0.4444444444444444,\"#bd3786\"],[0.5555555555555556,\"#d8576b\"],[0.6666666666666666,\"#ed7953\"],[0.7777777777777778,\"#fb9f3a\"],[0.8888888888888888,\"#fdca26\"],[1.0,\"#f0f921\"]]}],\"mesh3d\":[{\"type\":\"mesh3d\",\"colorbar\":{\"outlinewidth\":0,\"ticks\":\"\"}}],\"scatter\":[{\"fillpattern\":{\"fillmode\":\"overlay\",\"size\":10,\"solidity\":0.2},\"type\":\"scatter\"}],\"parcoords\":[{\"type\":\"parcoords\",\"line\":{\"colorbar\":{\"outlinewidth\":0,\"ticks\":\"\"}}}],\"scatterpolargl\":[{\"type\":\"scatterpolargl\",\"marker\":{\"colorbar\":{\"outlinewidth\":0,\"ticks\":\"\"}}}],\"bar\":[{\"error_x\":{\"color\":\"#2a3f5f\"},\"error_y\":{\"color\":\"#2a3f5f\"},\"marker\":{\"line\":{\"color\":\"#E5ECF6\",\"width\":0.5},\"pattern\":{\"fillmode\":\"overlay\",\"size\":10,\"solidity\":0.2}},\"type\":\"bar\"}],\"scattergeo\":[{\"type\":\"scattergeo\",\"marker\":{\"colorbar\":{\"outlinewidth\":0,\"ticks\":\"\"}}}],\"scatterpolar\":[{\"type\":\"scatterpolar\",\"marker\":{\"colorbar\":{\"outlinewidth\":0,\"ticks\":\"\"}}}],\"histogram\":[{\"marker\":{\"pattern\":{\"fillmode\":\"overlay\",\"size\":10,\"solidity\":0.2}},\"type\":\"histogram\"}],\"scattergl\":[{\"type\":\"scattergl\",\"marker\":{\"colorbar\":{\"outlinewidth\":0,\"ticks\":\"\"}}}],\"scatter3d\":[{\"type\":\"scatter3d\",\"line\":{\"colorbar\":{\"outlinewidth\":0,\"ticks\":\"\"}},\"marker\":{\"colorbar\":{\"outlinewidth\":0,\"ticks\":\"\"}}}],\"scattermapbox\":[{\"type\":\"scattermapbox\",\"marker\":{\"colorbar\":{\"outlinewidth\":0,\"ticks\":\"\"}}}],\"scatterternary\":[{\"type\":\"scatterternary\",\"marker\":{\"colorbar\":{\"outlinewidth\":0,\"ticks\":\"\"}}}],\"scattercarpet\":[{\"type\":\"scattercarpet\",\"marker\":{\"colorbar\":{\"outlinewidth\":0,\"ticks\":\"\"}}}],\"carpet\":[{\"aaxis\":{\"endlinecolor\":\"#2a3f5f\",\"gridcolor\":\"white\",\"linecolor\":\"white\",\"minorgridcolor\":\"white\",\"startlinecolor\":\"#2a3f5f\"},\"baxis\":{\"endlinecolor\":\"#2a3f5f\",\"gridcolor\":\"white\",\"linecolor\":\"white\",\"minorgridcolor\":\"white\",\"startlinecolor\":\"#2a3f5f\"},\"type\":\"carpet\"}],\"table\":[{\"cells\":{\"fill\":{\"color\":\"#EBF0F8\"},\"line\":{\"color\":\"white\"}},\"header\":{\"fill\":{\"color\":\"#C8D4E3\"},\"line\":{\"color\":\"white\"}},\"type\":\"table\"}],\"barpolar\":[{\"marker\":{\"line\":{\"color\":\"#E5ECF6\",\"width\":0.5},\"pattern\":{\"fillmode\":\"overlay\",\"size\":10,\"solidity\":0.2}},\"type\":\"barpolar\"}],\"pie\":[{\"automargin\":true,\"type\":\"pie\"}]},\"layout\":{\"autotypenumbers\":\"strict\",\"colorway\":[\"#636efa\",\"#EF553B\",\"#00cc96\",\"#ab63fa\",\"#FFA15A\",\"#19d3f3\",\"#FF6692\",\"#B6E880\",\"#FF97FF\",\"#FECB52\"],\"font\":{\"color\":\"#2a3f5f\"},\"hovermode\":\"closest\",\"hoverlabel\":{\"align\":\"left\"},\"paper_bgcolor\":\"white\",\"plot_bgcolor\":\"#E5ECF6\",\"polar\":{\"bgcolor\":\"#E5ECF6\",\"angularaxis\":{\"gridcolor\":\"white\",\"linecolor\":\"white\",\"ticks\":\"\"},\"radialaxis\":{\"gridcolor\":\"white\",\"linecolor\":\"white\",\"ticks\":\"\"}},\"ternary\":{\"bgcolor\":\"#E5ECF6\",\"aaxis\":{\"gridcolor\":\"white\",\"linecolor\":\"white\",\"ticks\":\"\"},\"baxis\":{\"gridcolor\":\"white\",\"linecolor\":\"white\",\"ticks\":\"\"},\"caxis\":{\"gridcolor\":\"white\",\"linecolor\":\"white\",\"ticks\":\"\"}},\"coloraxis\":{\"colorbar\":{\"outlinewidth\":0,\"ticks\":\"\"}},\"colorscale\":{\"sequential\":[[0.0,\"#0d0887\"],[0.1111111111111111,\"#46039f\"],[0.2222222222222222,\"#7201a8\"],[0.3333333333333333,\"#9c179e\"],[0.4444444444444444,\"#bd3786\"],[0.5555555555555556,\"#d8576b\"],[0.6666666666666666,\"#ed7953\"],[0.7777777777777778,\"#fb9f3a\"],[0.8888888888888888,\"#fdca26\"],[1.0,\"#f0f921\"]],\"sequentialminus\":[[0.0,\"#0d0887\"],[0.1111111111111111,\"#46039f\"],[0.2222222222222222,\"#7201a8\"],[0.3333333333333333,\"#9c179e\"],[0.4444444444444444,\"#bd3786\"],[0.5555555555555556,\"#d8576b\"],[0.6666666666666666,\"#ed7953\"],[0.7777777777777778,\"#fb9f3a\"],[0.8888888888888888,\"#fdca26\"],[1.0,\"#f0f921\"]],\"diverging\":[[0,\"#8e0152\"],[0.1,\"#c51b7d\"],[0.2,\"#de77ae\"],[0.3,\"#f1b6da\"],[0.4,\"#fde0ef\"],[0.5,\"#f7f7f7\"],[0.6,\"#e6f5d0\"],[0.7,\"#b8e186\"],[0.8,\"#7fbc41\"],[0.9,\"#4d9221\"],[1,\"#276419\"]]},\"xaxis\":{\"gridcolor\":\"white\",\"linecolor\":\"white\",\"ticks\":\"\",\"title\":{\"standoff\":15},\"zerolinecolor\":\"white\",\"automargin\":true,\"zerolinewidth\":2},\"yaxis\":{\"gridcolor\":\"white\",\"linecolor\":\"white\",\"ticks\":\"\",\"title\":{\"standoff\":15},\"zerolinecolor\":\"white\",\"automargin\":true,\"zerolinewidth\":2},\"scene\":{\"xaxis\":{\"backgroundcolor\":\"#E5ECF6\",\"gridcolor\":\"white\",\"linecolor\":\"white\",\"showbackground\":true,\"ticks\":\"\",\"zerolinecolor\":\"white\",\"gridwidth\":2},\"yaxis\":{\"backgroundcolor\":\"#E5ECF6\",\"gridcolor\":\"white\",\"linecolor\":\"white\",\"showbackground\":true,\"ticks\":\"\",\"zerolinecolor\":\"white\",\"gridwidth\":2},\"zaxis\":{\"backgroundcolor\":\"#E5ECF6\",\"gridcolor\":\"white\",\"linecolor\":\"white\",\"showbackground\":true,\"ticks\":\"\",\"zerolinecolor\":\"white\",\"gridwidth\":2}},\"shapedefaults\":{\"line\":{\"color\":\"#2a3f5f\"}},\"annotationdefaults\":{\"arrowcolor\":\"#2a3f5f\",\"arrowhead\":0,\"arrowwidth\":1},\"geo\":{\"bgcolor\":\"white\",\"landcolor\":\"#E5ECF6\",\"subunitcolor\":\"white\",\"showland\":true,\"showlakes\":true,\"lakecolor\":\"white\"},\"title\":{\"x\":0.05},\"mapbox\":{\"style\":\"light\"}}},\"xaxis\":{\"anchor\":\"y\",\"domain\":[0.0,1.0],\"title\":{\"text\":\"Category\"}},\"yaxis\":{\"anchor\":\"x\",\"domain\":[0.0,1.0],\"title\":{\"text\":\"Values\"}},\"legend\":{\"tracegroupgap\":0},\"title\":{\"text\":\"Bar Plot Example\"},\"barmode\":\"relative\"},                        {\"responsive\": true}                    ).then(function(){\n",
              "                            \n",
              "var gd = document.getElementById('34866d5d-5686-4ee6-ae89-470b5d921b92');\n",
              "var x = new MutationObserver(function (mutations, observer) {{\n",
              "        var display = window.getComputedStyle(gd).display;\n",
              "        if (!display || display === 'none') {{\n",
              "            console.log([gd, 'removed!']);\n",
              "            Plotly.purge(gd);\n",
              "            observer.disconnect();\n",
              "        }}\n",
              "}});\n",
              "\n",
              "// Listen for the removal of the full notebook cells\n",
              "var notebookContainer = gd.closest('#notebook-container');\n",
              "if (notebookContainer) {{\n",
              "    x.observe(notebookContainer, {childList: true});\n",
              "}}\n",
              "\n",
              "// Listen for the clearing of the current output cell\n",
              "var outputEl = gd.closest('.output');\n",
              "if (outputEl) {{\n",
              "    x.observe(outputEl, {childList: true});\n",
              "}}\n",
              "\n",
              "                        })                };                            </script>        </div>\n",
              "</body>\n",
              "</html>"
            ]
          },
          "metadata": {}
        }
      ]
    },
    {
      "cell_type": "markdown",
      "source": [
        "## 6. Create a DataFrame and add a new column based on an existing column"
      ],
      "metadata": {
        "id": "PspfIS17VoNq"
      }
    },
    {
      "cell_type": "code",
      "source": [
        "import pandas as pd\n",
        "\n",
        "df = pd.DataFrame({'A': [1, 2, 3, 4]})\n",
        "df['B'] = df['A'] * 2  # New column B is twice A\n",
        "print(df)"
      ],
      "metadata": {
        "colab": {
          "base_uri": "https://localhost:8080/"
        },
        "id": "CqHGr4riVoVK",
        "outputId": "4ed12cee-f49d-46af-974a-3d03b9f0ba4d"
      },
      "execution_count": 6,
      "outputs": [
        {
          "output_type": "stream",
          "name": "stdout",
          "text": [
            "   A  B\n",
            "0  1  2\n",
            "1  2  4\n",
            "2  3  6\n",
            "3  4  8\n"
          ]
        }
      ]
    },
    {
      "cell_type": "markdown",
      "source": [
        "## 7. Perform element-wise multiplication of two NumPy arrays"
      ],
      "metadata": {
        "id": "gCRAD2gXVods"
      }
    },
    {
      "cell_type": "code",
      "source": [
        "import numpy as np\n",
        "\n",
        "arr1 = np.array([1, 2, 3, 4])\n",
        "arr2 = np.array([5, 6, 7, 8])\n",
        "result = arr1 * arr2  # Element-wise multiplication\n",
        "print(result)"
      ],
      "metadata": {
        "colab": {
          "base_uri": "https://localhost:8080/"
        },
        "id": "5rCM2xv0Voms",
        "outputId": "4c2b85bb-541d-44a3-9ce0-2046d82867d9"
      },
      "execution_count": 7,
      "outputs": [
        {
          "output_type": "stream",
          "name": "stdout",
          "text": [
            "[ 5 12 21 32]\n"
          ]
        }
      ]
    },
    {
      "cell_type": "markdown",
      "source": [
        "## 8. Create a line plot with multiple lines using Matplotlib"
      ],
      "metadata": {
        "id": "3v0x22V1Vou8"
      }
    },
    {
      "cell_type": "code",
      "source": [
        "import matplotlib.pyplot as plt\n",
        "\n",
        "x = [1, 2, 3, 4, 5]\n",
        "y1 = [2, 3, 4, 5, 6]\n",
        "y2 = [1, 4, 2, 8, 7]\n",
        "\n",
        "plt.plot(x, y1, label='Line 1', marker='o')\n",
        "plt.plot(x, y2, label='Line 2', linestyle='dashed', marker='s')\n",
        "\n",
        "plt.xlabel(\"X-axis\")\n",
        "plt.ylabel(\"Y-axis\")\n",
        "plt.title(\"Multiple Line Plot\")\n",
        "plt.legend()\n",
        "plt.show()"
      ],
      "metadata": {
        "colab": {
          "base_uri": "https://localhost:8080/",
          "height": 472
        },
        "id": "WA1rekCdVo3H",
        "outputId": "6e8593b8-f5e5-40fa-8982-cf2637262d08"
      },
      "execution_count": 8,
      "outputs": [
        {
          "output_type": "display_data",
          "data": {
            "text/plain": [
              "<Figure size 640x480 with 1 Axes>"
            ],
            "image/png": "[encoded data removed]"
          },
          "metadata": {}
        }
      ]
    },
    {
      "cell_type": "markdown",
      "source": [
        "## 9. Generate a Pandas DataFrame and filter rows where a column value is greater than a threshold"
      ],
      "metadata": {
        "id": "N6fM-N4XVo_8"
      }
    },
    {
      "cell_type": "code",
      "source": [
        "import pandas as pd\n",
        "\n",
        "df = pd.DataFrame({'A': [10, 20, 30, 40], 'B': [5, 15, 25, 35]})\n",
        "filtered_df = df[df['B'] > 15]  # Filter rows where column B > 15\n",
        "print(filtered_df)"
      ],
      "metadata": {
        "colab": {
          "base_uri": "https://localhost:8080/"
        },
        "id": "iQRTIcreVpIQ",
        "outputId": "15478b4e-21ed-48fc-ef20-5817c47b8db7"
      },
      "execution_count": 9,
      "outputs": [
        {
          "output_type": "stream",
          "name": "stdout",
          "text": [
            "    A   B\n",
            "2  30  25\n",
            "3  40  35\n"
          ]
        }
      ]
    },
    {
      "cell_type": "markdown",
      "source": [
        "## 10. Create a histogram using Seaborn to visualize a distribution"
      ],
      "metadata": {
        "id": "r1fOMKqkVpRE"
      }
    },
    {
      "cell_type": "code",
      "source": [
        "import seaborn as sns\n",
        "import numpy as np\n",
        "import matplotlib.pyplot as plt\n",
        "\n",
        "data = np.random.randn(1000)\n",
        "sns.histplot(data, bins=30, kde=True)\n",
        "plt.title(\"Histogram of Data Distribution\")\n",
        "plt.show()"
      ],
      "metadata": {
        "colab": {
          "base_uri": "https://localhost:8080/",
          "height": 452
        },
        "id": "bN8XB59kVpXy",
        "outputId": "ec3e9d30-43a9-425b-872c-95aadeac5c71"
      },
      "execution_count": 10,
      "outputs": [
        {
          "output_type": "display_data",
          "data": {
            "text/plain": [
              "<Figure size 640x480 with 1 Axes>"
            ],
            "image/png": "[encoded data removed]"
          },
          "metadata": {}
        }
      ]
    },
    {
      "cell_type": "markdown",
      "source": [
        "## 11. Perform matrix multiplication using NumPy"
      ],
      "metadata": {
        "id": "ou-DoZNRV26h"
      }
    },
    {
      "cell_type": "code",
      "source": [
        "import numpy as np\n",
        "\n",
        "A = np.array([[1, 2], [3, 4]])\n",
        "B = np.array([[5, 6], [7, 8]])\n",
        "\n",
        "result = np.dot(A, B)  # Matrix multiplication\n",
        "print(result)"
      ],
      "metadata": {
        "colab": {
          "base_uri": "https://localhost:8080/"
        },
        "id": "AFMpxn4XV3G2",
        "outputId": "e6c56174-0614-47e7-a2b8-4c5d419a1936"
      },
      "execution_count": 11,
      "outputs": [
        {
          "output_type": "stream",
          "name": "stdout",
          "text": [
            "[[19 22]\n",
            " [43 50]]\n"
          ]
        }
      ]
    },
    {
      "cell_type": "markdown",
      "source": [
        "## 12. Use Pandas to load a CSV file and display its first 5 rows"
      ],
      "metadata": {
        "id": "A_5QE0kTV3jK"
      }
    },
    {
      "cell_type": "code",
      "source": [
        "import pandas as pd\n",
        "\n",
        "# Use a raw string to handle backslashes correctly\n",
        "df = pd.read_csv(r\"F:\\Ravi\\Ravi\\SQL_Pizza_sales_Project\\pizza_sales\\pizza_types.csv\")\n",
        "print(df.head())"
      ],
      "metadata": {
        "collapsed": true,
        "id": "tioJPfmnV3tB"
      },
      "execution_count": null,
      "outputs": []
    },
    {
      "cell_type": "markdown",
      "source": [
        "![image.png](data:image/png;base64,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)"
      ],
      "metadata": {
        "id": "5Ih_lrz8aGtv"
      }
    },
    {
      "cell_type": "markdown",
      "source": [
        "## 13. Create a 3D scatter plot using Plotly"
      ],
      "metadata": {
        "id": "b9JPhm5sV32Y"
      }
    },
    {
      "cell_type": "code",
      "source": [
        "import plotly.express as px\n",
        "import pandas as pd\n",
        "import numpy as np\n",
        "\n",
        "df = pd.DataFrame({\n",
        "    'x': np.random.rand(50),\n",
        "    'y': np.random.rand(50),\n",
        "    'z': np.random.rand(50)\n",
        "})\n",
        "\n",
        "fig = px.scatter_3d(df, x='x', y='y', z='z', title=\"3D Scatter Plot\")\n",
        "fig.show()"
      ],
      "metadata": {
        "colab": {
          "base_uri": "https://localhost:8080/",
          "height": 542
        },
        "id": "JQb2oA55V398",
        "outputId": "d7e97534-0609-4a08-b72b-8fc33f963474"
      },
      "execution_count": 15,
      "outputs": [
        {
          "output_type": "display_data",
          "data": {
            "text/html": [
              "<html>\n",
              "<head><meta charset=\"utf-8\" /></head>\n",
              "<body>\n",
              "    <div>            <script src=\"https://cdnjs.cloudflare.com/ajax/libs/mathjax/2.7.5/MathJax.js?config=TeX-AMS-MML_SVG\"></script><script type=\"text/javascript\">if (window.MathJax && window.MathJax.Hub && window.MathJax.Hub.Config) {window.MathJax.Hub.Config({SVG: {font: \"STIX-Web\"}});}</script>                <script type=\"text/javascript\">window.PlotlyConfig = {MathJaxConfig: 'local'};</script>\n",
              "        <script charset=\"utf-8\" src=\"https://cdn.plot.ly/plotly-2.35.2.min.js\"></script>                <div id=\"fcc560f0-da5b-49ca-b62e-de110179b7ad\" class=\"plotly-graph-div\" style=\"height:525px; width:100%;\"></div>            <script type=\"text/javascript\">                                    window.PLOTLYENV=window.PLOTLYENV || {};                                    if (document.getElementById(\"fcc560f0-da5b-49ca-b62e-de110179b7ad\")) {                    Plotly.newPlot(                        \"fcc560f0-da5b-49ca-b62e-de110179b7ad\",                        [{\"hovertemplate\":\"x=%{x}\\u003cbr\\u003ey=%{y}\\u003cbr\\u003ez=%{z}\\u003cextra\\u003e\\u003c\\u002fextra\\u003e\",\"legendgroup\":\"\",\"marker\":{\"color\":\"#636efa\",\"symbol\":\"circle\"},\"mode\":\"markers\",\"name\":\"\",\"scene\":\"scene\",\"showlegend\":false,\"x\":[0.2483438925396224,0.06887144708814319,0.8818486651311424,0.38365853559437335,0.8266277992539564,0.9387630446392796,0.2217450018038406,0.02725966680801606,0.685718100520551,0.31287914638531555,0.48797805359867275,0.9785358368592341,0.3224142068473167,0.4682697857390865,0.7821902098773762,0.2524540902887572,0.4563819587091843,0.6921318342930661,0.7481581905415411,0.031090020822612918,0.543919755465941,0.1817012910396053,0.419467248878721,0.6053487610905012,0.9814609329652402,0.5545145759813606,0.01683439838937284,0.31094325232109143,0.6189496876172182,0.43588797229541676,0.38985588447404007,0.20444561469633726,0.542202048715917,0.16971482629455725,0.46539008355181855,0.5543988744387764,0.7036629803309723,0.44930915090996526,0.6565007690363741,0.7420504131548745,0.07188900455441394,0.7306862250460406,0.32343416747431564,0.7727608122571394,0.7119671331921344,0.4063904134245805,0.6874561407353473,0.7079802845495909,0.41276616889687523,0.7367955747477931],\"y\":[0.005598764964571679,0.6491056046818188,0.08918085524104535,0.056185508163129505,0.8789755208510606,0.2753470666087158,0.8119427330863209,0.274384486195811,0.8543930937125299,0.22763762096832862,0.2815079858651891,0.8011951814349191,0.5840034437479605,0.3846865761073198,0.666195324602269,0.38932262997112976,0.333558466710688,0.33909322535906283,0.18394808893450842,0.32318409981914653,0.010211611189962722,0.42021995003504287,0.26488531134456095,0.16782413914440109,0.24056307079436212,0.7509614287095917,0.934843753169208,0.6445679145552566,0.9177034171700018,0.10427387928656917,0.6500379662777763,0.38662078701618374,0.47809270525170555,0.33079136529837305,0.9107507153306427,0.17943555324351657,0.9411575354786433,0.1548350476644934,0.46123413489747467,0.5326502650375011,0.05589153750312026,0.16122878827998155,0.6764360999665289,0.8211015046087996,0.7996466942672679,0.9059038819770272,0.18893060815710416,0.3073387223693337,0.512047885085315,0.1183090390960807],\"z\":[0.5191304637990031,0.197209689898596,0.3245791422150671,0.6447645913083115,0.9149099939250048,0.5044986265506982,0.31308067818512375,0.49714822811122417,0.29528032808337246,0.5646903055194646,0.9934518123462248,0.841584629730409,0.6574536090202009,0.4929484637775957,0.8132435345249249,0.9621379423134749,0.869627035764869,0.8026681980240625,0.5471050847088967,0.6322283916346598,0.40214441443960736,0.21522768998816866,0.15650847291159886,0.5519509633076277,0.6794670079590209,0.7955102550059774,0.7644006660146317,0.10912936093837311,0.6181680413716661,0.6140680084280369,0.09085081499604031,0.1154279661123806,0.42872544243831023,0.42550948729961935,0.7739721801724796,0.5723171576698797,0.5088077117774312,0.11652887189589212,0.664317683749204,0.6380199935648245,0.34058293444658594,0.6912956365835391,0.29999111487652663,0.095316175585208,0.5004964781065956,0.13187062897444657,0.6479824589016893,0.9471749174832985,0.5179566924213931,0.9921853436512731],\"type\":\"scatter3d\"}],                        {\"template\":{\"data\":{\"histogram2dcontour\":[{\"type\":\"histogram2dcontour\",\"colorbar\":{\"outlinewidth\":0,\"ticks\":\"\"},\"colorscale\":[[0.0,\"#0d0887\"],[0.1111111111111111,\"#46039f\"],[0.2222222222222222,\"#7201a8\"],[0.3333333333333333,\"#9c179e\"],[0.4444444444444444,\"#bd3786\"],[0.5555555555555556,\"#d8576b\"],[0.6666666666666666,\"#ed7953\"],[0.7777777777777778,\"#fb9f3a\"],[0.8888888888888888,\"#fdca26\"],[1.0,\"#f0f921\"]]}],\"choropleth\":[{\"type\":\"choropleth\",\"colorbar\":{\"outlinewidth\":0,\"ticks\":\"\"}}],\"histogram2d\":[{\"type\":\"histogram2d\",\"colorbar\":{\"outlinewidth\":0,\"ticks\":\"\"},\"colorscale\":[[0.0,\"#0d0887\"],[0.1111111111111111,\"#46039f\"],[0.2222222222222222,\"#7201a8\"],[0.3333333333333333,\"#9c179e\"],[0.4444444444444444,\"#bd3786\"],[0.5555555555555556,\"#d8576b\"],[0.6666666666666666,\"#ed7953\"],[0.7777777777777778,\"#fb9f3a\"],[0.8888888888888888,\"#fdca26\"],[1.0,\"#f0f921\"]]}],\"heatmap\":[{\"type\":\"heatmap\",\"colorbar\":{\"outlinewidth\":0,\"ticks\":\"\"},\"colorscale\":[[0.0,\"#0d0887\"],[0.1111111111111111,\"#46039f\"],[0.2222222222222222,\"#7201a8\"],[0.3333333333333333,\"#9c179e\"],[0.4444444444444444,\"#bd3786\"],[0.5555555555555556,\"#d8576b\"],[0.6666666666666666,\"#ed7953\"],[0.7777777777777778,\"#fb9f3a\"],[0.8888888888888888,\"#fdca26\"],[1.0,\"#f0f921\"]]}],\"heatmapgl\":[{\"type\":\"heatmapgl\",\"colorbar\":{\"outlinewidth\":0,\"ticks\":\"\"},\"colorscale\":[[0.0,\"#0d0887\"],[0.1111111111111111,\"#46039f\"],[0.2222222222222222,\"#7201a8\"],[0.3333333333333333,\"#9c179e\"],[0.4444444444444444,\"#bd3786\"],[0.5555555555555556,\"#d8576b\"],[0.6666666666666666,\"#ed7953\"],[0.7777777777777778,\"#fb9f3a\"],[0.8888888888888888,\"#fdca26\"],[1.0,\"#f0f921\"]]}],\"contourcarpet\":[{\"type\":\"contourcarpet\",\"colorbar\":{\"outlinewidth\":0,\"ticks\":\"\"}}],\"contour\":[{\"type\":\"contour\",\"colorbar\":{\"outlinewidth\":0,\"ticks\":\"\"},\"colorscale\":[[0.0,\"#0d0887\"],[0.1111111111111111,\"#46039f\"],[0.2222222222222222,\"#7201a8\"],[0.3333333333333333,\"#9c179e\"],[0.4444444444444444,\"#bd3786\"],[0.5555555555555556,\"#d8576b\"],[0.6666666666666666,\"#ed7953\"],[0.7777777777777778,\"#fb9f3a\"],[0.8888888888888888,\"#fdca26\"],[1.0,\"#f0f921\"]]}],\"surface\":[{\"type\":\"surface\",\"colorbar\":{\"outlinewidth\":0,\"ticks\":\"\"},\"colorscale\":[[0.0,\"#0d0887\"],[0.1111111111111111,\"#46039f\"],[0.2222222222222222,\"#7201a8\"],[0.3333333333333333,\"#9c179e\"],[0.4444444444444444,\"#bd3786\"],[0.5555555555555556,\"#d8576b\"],[0.6666666666666666,\"#ed7953\"],[0.7777777777777778,\"#fb9f3a\"],[0.8888888888888888,\"#fdca26\"],[1.0,\"#f0f921\"]]}],\"mesh3d\":[{\"type\":\"mesh3d\",\"colorbar\":{\"outlinewidth\":0,\"ticks\":\"\"}}],\"scatter\":[{\"fillpattern\":{\"fillmode\":\"overlay\",\"size\":10,\"solidity\":0.2},\"type\":\"scatter\"}],\"parcoords\":[{\"type\":\"parcoords\",\"line\":{\"colorbar\":{\"outlinewidth\":0,\"ticks\":\"\"}}}],\"scatterpolargl\":[{\"type\":\"scatterpolargl\",\"marker\":{\"colorbar\":{\"outlinewidth\":0,\"ticks\":\"\"}}}],\"bar\":[{\"error_x\":{\"color\":\"#2a3f5f\"},\"error_y\":{\"color\":\"#2a3f5f\"},\"marker\":{\"line\":{\"color\":\"#E5ECF6\",\"width\":0.5},\"pattern\":{\"fillmode\":\"overlay\",\"size\":10,\"solidity\":0.2}},\"type\":\"bar\"}],\"scattergeo\":[{\"type\":\"scattergeo\",\"marker\":{\"colorbar\":{\"outlinewidth\":0,\"ticks\":\"\"}}}],\"scatterpolar\":[{\"type\":\"scatterpolar\",\"marker\":{\"colorbar\":{\"outlinewidth\":0,\"ticks\":\"\"}}}],\"histogram\":[{\"marker\":{\"pattern\":{\"fillmode\":\"overlay\",\"size\":10,\"solidity\":0.2}},\"type\":\"histogram\"}],\"scattergl\":[{\"type\":\"scattergl\",\"marker\":{\"colorbar\":{\"outlinewidth\":0,\"ticks\":\"\"}}}],\"scatter3d\":[{\"type\":\"scatter3d\",\"line\":{\"colorbar\":{\"outlinewidth\":0,\"ticks\":\"\"}},\"marker\":{\"colorbar\":{\"outlinewidth\":0,\"ticks\":\"\"}}}],\"scattermapbox\":[{\"type\":\"scattermapbox\",\"marker\":{\"colorbar\":{\"outlinewidth\":0,\"ticks\":\"\"}}}],\"scatterternary\":[{\"type\":\"scatterternary\",\"marker\":{\"colorbar\":{\"outlinewidth\":0,\"ticks\":\"\"}}}],\"scattercarpet\":[{\"type\":\"scattercarpet\",\"marker\":{\"colorbar\":{\"outlinewidth\":0,\"ticks\":\"\"}}}],\"carpet\":[{\"aaxis\":{\"endlinecolor\":\"#2a3f5f\",\"gridcolor\":\"white\",\"linecolor\":\"white\",\"minorgridcolor\":\"white\",\"startlinecolor\":\"#2a3f5f\"},\"baxis\":{\"endlinecolor\":\"#2a3f5f\",\"gridcolor\":\"white\",\"linecolor\":\"white\",\"minorgridcolor\":\"white\",\"startlinecolor\":\"#2a3f5f\"},\"type\":\"carpet\"}],\"table\":[{\"cells\":{\"fill\":{\"color\":\"#EBF0F8\"},\"line\":{\"color\":\"white\"}},\"header\":{\"fill\":{\"color\":\"#C8D4E3\"},\"line\":{\"color\":\"white\"}},\"type\":\"table\"}],\"barpolar\":[{\"marker\":{\"line\":{\"color\":\"#E5ECF6\",\"width\":0.5},\"pattern\":{\"fillmode\":\"overlay\",\"size\":10,\"solidity\":0.2}},\"type\":\"barpolar\"}],\"pie\":[{\"automargin\":true,\"type\":\"pie\"}]},\"layout\":{\"autotypenumbers\":\"strict\",\"colorway\":[\"#636efa\",\"#EF553B\",\"#00cc96\",\"#ab63fa\",\"#FFA15A\",\"#19d3f3\",\"#FF6692\",\"#B6E880\",\"#FF97FF\",\"#FECB52\"],\"font\":{\"color\":\"#2a3f5f\"},\"hovermode\":\"closest\",\"hoverlabel\":{\"align\":\"left\"},\"paper_bgcolor\":\"white\",\"plot_bgcolor\":\"#E5ECF6\",\"polar\":{\"bgcolor\":\"#E5ECF6\",\"angularaxis\":{\"gridcolor\":\"white\",\"linecolor\":\"white\",\"ticks\":\"\"},\"radialaxis\":{\"gridcolor\":\"white\",\"linecolor\":\"white\",\"ticks\":\"\"}},\"ternary\":{\"bgcolor\":\"#E5ECF6\",\"aaxis\":{\"gridcolor\":\"white\",\"linecolor\":\"white\",\"ticks\":\"\"},\"baxis\":{\"gridcolor\":\"white\",\"linecolor\":\"white\",\"ticks\":\"\"},\"caxis\":{\"gridcolor\":\"white\",\"linecolor\":\"white\",\"ticks\":\"\"}},\"coloraxis\":{\"colorbar\":{\"outlinewidth\":0,\"ticks\":\"\"}},\"colorscale\":{\"sequential\":[[0.0,\"#0d0887\"],[0.1111111111111111,\"#46039f\"],[0.2222222222222222,\"#7201a8\"],[0.3333333333333333,\"#9c179e\"],[0.4444444444444444,\"#bd3786\"],[0.5555555555555556,\"#d8576b\"],[0.6666666666666666,\"#ed7953\"],[0.7777777777777778,\"#fb9f3a\"],[0.8888888888888888,\"#fdca26\"],[1.0,\"#f0f921\"]],\"sequentialminus\":[[0.0,\"#0d0887\"],[0.1111111111111111,\"#46039f\"],[0.2222222222222222,\"#7201a8\"],[0.3333333333333333,\"#9c179e\"],[0.4444444444444444,\"#bd3786\"],[0.5555555555555556,\"#d8576b\"],[0.6666666666666666,\"#ed7953\"],[0.7777777777777778,\"#fb9f3a\"],[0.8888888888888888,\"#fdca26\"],[1.0,\"#f0f921\"]],\"diverging\":[[0,\"#8e0152\"],[0.1,\"#c51b7d\"],[0.2,\"#de77ae\"],[0.3,\"#f1b6da\"],[0.4,\"#fde0ef\"],[0.5,\"#f7f7f7\"],[0.6,\"#e6f5d0\"],[0.7,\"#b8e186\"],[0.8,\"#7fbc41\"],[0.9,\"#4d9221\"],[1,\"#276419\"]]},\"xaxis\":{\"gridcolor\":\"white\",\"linecolor\":\"white\",\"ticks\":\"\",\"title\":{\"standoff\":15},\"zerolinecolor\":\"white\",\"automargin\":true,\"zerolinewidth\":2},\"yaxis\":{\"gridcolor\":\"white\",\"linecolor\":\"white\",\"ticks\":\"\",\"title\":{\"standoff\":15},\"zerolinecolor\":\"white\",\"automargin\":true,\"zerolinewidth\":2},\"scene\":{\"xaxis\":{\"backgroundcolor\":\"#E5ECF6\",\"gridcolor\":\"white\",\"linecolor\":\"white\",\"showbackground\":true,\"ticks\":\"\",\"zerolinecolor\":\"white\",\"gridwidth\":2},\"yaxis\":{\"backgroundcolor\":\"#E5ECF6\",\"gridcolor\":\"white\",\"linecolor\":\"white\",\"showbackground\":true,\"ticks\":\"\",\"zerolinecolor\":\"white\",\"gridwidth\":2},\"zaxis\":{\"backgroundcolor\":\"#E5ECF6\",\"gridcolor\":\"white\",\"linecolor\":\"white\",\"showbackground\":true,\"ticks\":\"\",\"zerolinecolor\":\"white\",\"gridwidth\":2}},\"shapedefaults\":{\"line\":{\"color\":\"#2a3f5f\"}},\"annotationdefaults\":{\"arrowcolor\":\"#2a3f5f\",\"arrowhead\":0,\"arrowwidth\":1},\"geo\":{\"bgcolor\":\"white\",\"landcolor\":\"#E5ECF6\",\"subunitcolor\":\"white\",\"showland\":true,\"showlakes\":true,\"lakecolor\":\"white\"},\"title\":{\"x\":0.05},\"mapbox\":{\"style\":\"light\"}}},\"scene\":{\"domain\":{\"x\":[0.0,1.0],\"y\":[0.0,1.0]},\"xaxis\":{\"title\":{\"text\":\"x\"}},\"yaxis\":{\"title\":{\"text\":\"y\"}},\"zaxis\":{\"title\":{\"text\":\"z\"}}},\"legend\":{\"tracegroupgap\":0},\"title\":{\"text\":\"3D Scatter Plot\"}},                        {\"responsive\": true}                    ).then(function(){\n",
              "                            \n",
              "var gd = document.getElementById('fcc560f0-da5b-49ca-b62e-de110179b7ad');\n",
              "var x = new MutationObserver(function (mutations, observer) {{\n",
              "        var display = window.getComputedStyle(gd).display;\n",
              "        if (!display || display === 'none') {{\n",
              "            console.log([gd, 'removed!']);\n",
              "            Plotly.purge(gd);\n",
              "            observer.disconnect();\n",
              "        }}\n",
              "}});\n",
              "\n",
              "// Listen for the removal of the full notebook cells\n",
              "var notebookContainer = gd.closest('#notebook-container');\n",
              "if (notebookContainer) {{\n",
              "    x.observe(notebookContainer, {childList: true});\n",
              "}}\n",
              "\n",
              "// Listen for the clearing of the current output cell\n",
              "var outputEl = gd.closest('.output');\n",
              "if (outputEl) {{\n",
              "    x.observe(outputEl, {childList: true});\n",
              "}}\n",
              "\n",
              "                        })                };                            </script>        </div>\n",
              "</body>\n",
              "</html>"
            ]
          },
          "metadata": {}
        }
      ]
    }
  ]
}