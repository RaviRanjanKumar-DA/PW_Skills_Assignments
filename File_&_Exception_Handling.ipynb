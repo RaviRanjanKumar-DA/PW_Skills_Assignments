{
  "nbformat": 4,
  "nbformat_minor": 0,
  "metadata": {
    "colab": {
      "provenance": []
    },
    "kernelspec": {
      "name": "python3",
      "display_name": "Python 3"
    },
    "language_info": {
      "name": "python"
    }
  },
  "cells": [
    {
      "cell_type": "markdown",
      "source": [
        "# Theory Questions:-"
      ],
      "metadata": {
        "id": "HoKB_ZccpJWD"
      }
    },
    {
      "cell_type": "markdown",
      "source": [
        "## 1. Difference between interpreted and compiled languages?"
      ],
      "metadata": {
        "id": "a9SBescYpQAK"
      }
    },
    {
      "cell_type": "markdown",
      "source": [
        "- Interpreted Languages: Code is executed line by line at runtime (e.g., Python, JavaScript).\n",
        "- Compiled Languages: Code is translated into machine code before execution (e g., C, C++)."
      ],
      "metadata": {
        "id": "AMm_IDYvpTvw"
      }
    },
    {
      "cell_type": "markdown",
      "source": [
        "## 2. Exception handling in Python?"
      ],
      "metadata": {
        "id": "9RsjCAV5pbCp"
      }
    },
    {
      "cell_type": "markdown",
      "source": [
        "Exception handling in Python is a mechanism to handle runtime errors using try, except, else, and finally blocks."
      ],
      "metadata": {
        "id": "FuGRie2Epeai"
      }
    },
    {
      "cell_type": "markdown",
      "source": [
        "## 3. Purpose of the finally block in exception handling?"
      ],
      "metadata": {
        "id": "SNAE3mALqMDS"
      }
    },
    {
      "cell_type": "markdown",
      "source": [
        "The finally block ensures that certain code runs no matter what, even if an exception occurs."
      ],
      "metadata": {
        "id": "ry7YOMuKqOt9"
      }
    },
    {
      "cell_type": "markdown",
      "source": [
        "## 4. Logging in Python"
      ],
      "metadata": {
        "id": "bJP9gzGVqRdy"
      }
    },
    {
      "cell_type": "markdown",
      "source": [
        "Logging is used to track events during execution for debugging and monitoring. The logging module provides functions to log messages at different severity levels."
      ],
      "metadata": {
        "id": "Ca-M8fTYqUQX"
      }
    },
    {
      "cell_type": "markdown",
      "source": [
        "## 5. Significance of the __del__ method in Python?"
      ],
      "metadata": {
        "id": "5tqP-ZEDqcp0"
      }
    },
    {
      "cell_type": "markdown",
      "source": [
        "__del__ is a destructor method that is automatically called when an object is deleted to release resources."
      ],
      "metadata": {
        "id": "HwqnqdThqgEC"
      }
    },
    {
      "cell_type": "markdown",
      "source": [
        "## 6. Difference between import and from ... import"
      ],
      "metadata": {
        "id": "gQZrCbDlqjlj"
      }
    },
    {
      "cell_type": "markdown",
      "source": [
        "- import module_name: Imports the whole module.\n",
        "- from module_name import function_name: Imports a specific function or variable."
      ],
      "metadata": {
        "id": "PcIWm3P3qqCn"
      }
    },
    {
      "cell_type": "markdown",
      "source": [
        "## 7. Handling multiple exceptions in Python"
      ],
      "metadata": {
        "id": "sY94EiGjqxwm"
      }
    },
    {
      "cell_type": "markdown",
      "source": [
        "Use multiple except blocks or a single except with a tuple of exception types:"
      ],
      "metadata": {
        "id": "Ao5p1zpwrLhy"
      }
    },
    {
      "cell_type": "code",
      "source": [
        "try:\n",
        "    x = 1 / 0\n",
        "except (ZeroDivisionError, ValueError) as e:\n",
        "    print(e)"
      ],
      "metadata": {
        "colab": {
          "base_uri": "https://localhost:8080/"
        },
        "id": "5Brwq57orOk9",
        "outputId": "0655500a-bb29-454f-91e7-b52b3c3286c9"
      },
      "execution_count": 1,
      "outputs": [
        {
          "output_type": "stream",
          "name": "stdout",
          "text": [
            "division by zero\n"
          ]
        }
      ]
    },
    {
      "cell_type": "markdown",
      "source": [
        "## 8. Purpose of the with statement in file handling"
      ],
      "metadata": {
        "id": "i_nd8dgNrQez"
      }
    },
    {
      "cell_type": "markdown",
      "source": [
        "Automatically closes the file after execution, preventing memory leaks."
      ],
      "metadata": {
        "id": "GEZ9VNEnrTLl"
      }
    },
    {
      "cell_type": "code",
      "source": [
        "with open(\"C:\\Users\\HP\\Downloads\\pizza_types.txt\", \"r\") as file:\n",
        "    data = file.read()\n",
        ""
      ],
      "metadata": {
        "id": "NXphQjgdrVZ2"
      },
      "execution_count": null,
      "outputs": []
    },
    {
      "cell_type": "markdown",
      "source": [
        "## 9. Difference between multithreading and multiprocessing"
      ],
      "metadata": {
        "id": "Oj5woWq0rj0U"
      }
    },
    {
      "cell_type": "markdown",
      "source": [
        "- **Multithreading:** Multiple threads share the same memory space (good for I/O-bound tasks).\n",
        "- **Multiprocessing:** Separate processes with individual memory spaces (better for CPU-bound tasks)."
      ],
      "metadata": {
        "id": "hv8q0lH0rpqR"
      }
    },
    {
      "cell_type": "markdown",
      "source": [
        "## 10. Advantages of using logging"
      ],
      "metadata": {
        "id": "VatyvZFLrzbz"
      }
    },
    {
      "cell_type": "markdown",
      "source": [
        "- Debugging and error tracking\n",
        "- Provides different levels of severity\n",
        "- Helps in application monitoring"
      ],
      "metadata": {
        "id": "kdu-tSiyr11t"
      }
    },
    {
      "cell_type": "markdown",
      "source": [
        "## 11. Memory management in Python"
      ],
      "metadata": {
        "id": "2AYZ9CG7rXDd"
      }
    },
    {
      "cell_type": "markdown",
      "source": [
        "Python uses automatic memory management via reference counting and garbage collection."
      ],
      "metadata": {
        "id": "2DnyEDIvr74I"
      }
    },
    {
      "cell_type": "markdown",
      "source": [
        "## 12. Basic steps in exception handling"
      ],
      "metadata": {
        "id": "ZTG1kjQ0r-QT"
      }
    },
    {
      "cell_type": "markdown",
      "source": [
        "- Use try to enclose risky code.\n",
        "- Use except to handle specific exceptions.\n",
        "- Use else for code execution when no exceptions occur.\n",
        "- Use finally to execute cleanup code."
      ],
      "metadata": {
        "id": "hvS72aZXsA04"
      }
    },
    {
      "cell_type": "markdown",
      "source": [
        "## 13. Importance of memory management in Python"
      ],
      "metadata": {
        "id": "wTGsyKIbsGur"
      }
    },
    {
      "cell_type": "markdown",
      "source": [
        "Efficient memory management prevents memory leaks and ensures optimal program performance."
      ],
      "metadata": {
        "id": "oRVa09tdsLOf"
      }
    },
    {
      "cell_type": "markdown",
      "source": [
        "## 14. Role of try and except in exception handling"
      ],
      "metadata": {
        "id": "74YR_j1nsNYI"
      }
    },
    {
      "cell_type": "markdown",
      "source": [
        "- **try:** Encapsulates code that might raise an exception.\n",
        "- **except:** Handles specific exceptions that occur within the try block."
      ],
      "metadata": {
        "id": "_Kmrb2fZsP26"
      }
    },
    {
      "cell_type": "markdown",
      "source": [
        "## 15. How Python’s garbage collection works"
      ],
      "metadata": {
        "id": "YogHiE35sXsm"
      }
    },
    {
      "cell_type": "markdown",
      "source": [
        "Python automatically manages memory using:\n",
        "\n",
        "- Reference counting\n",
        "- Garbage collector (gc module) to remove circular references"
      ],
      "metadata": {
        "id": "-RmhQDZ1sbZy"
      }
    },
    {
      "cell_type": "markdown",
      "source": [
        "## 16. Purpose of the else block in exception handling"
      ],
      "metadata": {
        "id": "7_cdHLgSsjr_"
      }
    },
    {
      "cell_type": "markdown",
      "source": [
        "Executes code if no exception occurs in the try block."
      ],
      "metadata": {
        "id": "TCHjRhi4smW6"
      }
    },
    {
      "cell_type": "markdown",
      "source": [
        "## 17. Common logging levels in Python"
      ],
      "metadata": {
        "id": "mjPDKvsasoQC"
      }
    },
    {
      "cell_type": "markdown",
      "source": [
        "1. DEBUG\n",
        "2. INFO\n",
        "3. WARNING\n",
        "4. ERROR\n",
        "5. CRITICAL"
      ],
      "metadata": {
        "id": "16U_i_FOsric"
      }
    },
    {
      "cell_type": "markdown",
      "source": [
        "## 18. Difference between os.fork() and multiprocessing"
      ],
      "metadata": {
        "id": "Lw_z7yT2s79n"
      }
    },
    {
      "cell_type": "markdown",
      "source": [
        "- **os.fork():** Creates a child process (Unix-based).\n",
        "- **multiprocessing:** Works cross-platform to create separate processes."
      ],
      "metadata": {
        "id": "1ZpDxKIxs_dp"
      }
    },
    {
      "cell_type": "markdown",
      "source": [
        "## 19. Importance of closing a file in Python"
      ],
      "metadata": {
        "id": "Qq2hI9UjtF_T"
      }
    },
    {
      "cell_type": "markdown",
      "source": [
        "Prevents memory leaks and ensures all data is written to the file."
      ],
      "metadata": {
        "id": "2JaWN8n1tM9I"
      }
    },
    {
      "cell_type": "markdown",
      "source": [
        "## 20. Difference between file.read() and file.readline()"
      ],
      "metadata": {
        "id": "TkBWxRHwtO7J"
      }
    },
    {
      "cell_type": "markdown",
      "source": [
        "- **file.read():** Reads the whole file.\n",
        "- **file.readline():** Reads one line at a time."
      ],
      "metadata": {
        "id": "HW_kfN47tRMS"
      }
    },
    {
      "cell_type": "markdown",
      "source": [
        "## 21. Purpose of the logging module"
      ],
      "metadata": {
        "id": "gSYv6fYvtauh"
      }
    },
    {
      "cell_type": "markdown",
      "source": [
        "Used for event tracking, debugging, and monitoring application behavior."
      ],
      "metadata": {
        "id": "8IPG25ljtdZE"
      }
    },
    {
      "cell_type": "markdown",
      "source": [
        "## 22. Purpose of the os module in file handling"
      ],
      "metadata": {
        "id": "FGq4tV3xtger"
      }
    },
    {
      "cell_type": "markdown",
      "source": [
        "Provides functions to interact with the operating system (e.g., creating, deleting, renaming files)."
      ],
      "metadata": {
        "id": "ewGC45vKti1V"
      }
    },
    {
      "cell_type": "markdown",
      "source": [
        "## 23. Challenges in memory management"
      ],
      "metadata": {
        "id": "ZipFXNEKtlEN"
      }
    },
    {
      "cell_type": "markdown",
      "source": [
        "- Garbage collection overhead\n",
        "- Circular references\n",
        "- Memory fragmentation"
      ],
      "metadata": {
        "id": "iURkPG21topQ"
      }
    },
    {
      "cell_type": "markdown",
      "source": [
        "## 24. Raising an exception manually"
      ],
      "metadata": {
        "id": "CkmQsD4IttR7"
      }
    },
    {
      "cell_type": "markdown",
      "source": [
        "Use the raise keyword:"
      ],
      "metadata": {
        "id": "OhA7wrwjtv5B"
      }
    },
    {
      "cell_type": "code",
      "source": [
        "raise ValueError(\"This is an error\")"
      ],
      "metadata": {
        "id": "EOtUKY6ot22O"
      },
      "execution_count": null,
      "outputs": []
    },
    {
      "cell_type": "markdown",
      "source": [
        "## 25. Importance of multithreading"
      ],
      "metadata": {
        "id": "Swiet7Z4t42I"
      }
    },
    {
      "cell_type": "markdown",
      "source": [
        "- Improves performance in I/O-bound tasks\n",
        "- Enhances responsiveness in applications"
      ],
      "metadata": {
        "id": "oT01p5rFt--P"
      }
    },
    {
      "cell_type": "markdown",
      "source": [
        "# Theory Questions:-"
      ],
      "metadata": {
        "id": "1hsgeFFYuDcx"
      }
    },
    {
      "cell_type": "markdown",
      "source": [
        "## 1. Open a file for writing and write a string"
      ],
      "metadata": {
        "id": "Bs7U5fODuG1r"
      }
    },
    {
      "cell_type": "code",
      "source": [
        "with open(\"C:\\Users\\HP\\Downloads\\pizza_types.txt\", \"w\") as file:\n",
        "    file.write(\"Hello, World!\")"
      ],
      "metadata": {
        "id": "fNPNNk6UweSD"
      },
      "execution_count": null,
      "outputs": []
    },
    {
      "cell_type": "markdown",
      "source": [
        "## 2. Read a file and print each line"
      ],
      "metadata": {
        "id": "QsS-AidPwdGx"
      }
    },
    {
      "cell_type": "code",
      "source": [
        "with open(\"C:\\Users\\HP\\Downloads\\pizza_types.txt\", \"r\") as file:\n",
        "    for line in file:\n",
        "        print(line.strip())  # Removing extra newline characters"
      ],
      "metadata": {
        "id": "D9NUVC86wjIa"
      },
      "execution_count": null,
      "outputs": []
    },
    {
      "cell_type": "markdown",
      "source": [
        "## 3. Handle file not found error while opening for reading"
      ],
      "metadata": {
        "id": "TIMMZezCwk_4"
      }
    },
    {
      "cell_type": "code",
      "source": [
        "try:\n",
        "    with open(\"C:\\Users\\HP\\Downloads\\students.txt\", \"r\") as file:\n",
        "        content = file.read()\n",
        "except FileNotFoundError:\n",
        "    print(\"The file does not exist!\")"
      ],
      "metadata": {
        "id": "RmsU3ogwwrHQ"
      },
      "execution_count": null,
      "outputs": []
    },
    {
      "cell_type": "markdown",
      "source": [
        "## 4. Copy contents from one file to another"
      ],
      "metadata": {
        "id": "QvIIYKXaw1o1"
      }
    },
    {
      "cell_type": "code",
      "source": [
        "with open(\"C:\\Users\\HP\\Downloads\\students.txt\", \"r\") as src, open(\"C:\\Users\\HP\\Downloads\\student.txt\", \"w\") as dest:\n",
        "    dest.write(src.read())"
      ],
      "metadata": {
        "id": "ukFL01vvw4Ze"
      },
      "execution_count": null,
      "outputs": []
    },
    {
      "cell_type": "markdown",
      "source": [
        "## 5. Handle division by zero error"
      ],
      "metadata": {
        "id": "yeOV7b35xXNJ"
      }
    },
    {
      "cell_type": "code",
      "source": [
        "try:\n",
        "    result = 10 / 0\n",
        "except ZeroDivisionError:\n",
        "    print(\"Cannot divide by zero!\")"
      ],
      "metadata": {
        "id": "V5VoDgv6xaoo"
      },
      "execution_count": null,
      "outputs": []
    },
    {
      "cell_type": "markdown",
      "source": [
        "## 6. Log an error message when division by zero occurs"
      ],
      "metadata": {
        "id": "Qbv7ns4xxc5U"
      }
    },
    {
      "cell_type": "code",
      "source": [
        "import logging\n",
        "\n",
        "logging.basicConfig(filename=\"error.log\", level=logging.ERROR)\n",
        "\n",
        "try:\n",
        "    result = 10 / 0\n",
        "except ZeroDivisionError as e:\n",
        "    logging.error(f\"Error: {e}\")"
      ],
      "metadata": {
        "id": "qJqzND8txgag"
      },
      "execution_count": null,
      "outputs": []
    },
    {
      "cell_type": "markdown",
      "source": [
        "## 7. Log messages at different levels"
      ],
      "metadata": {
        "id": "29ICMWmaxlYV"
      }
    },
    {
      "cell_type": "code",
      "source": [
        "import logging\n",
        "\n",
        "logging.basicConfig(level=logging.DEBUG)\n",
        "\n",
        "logging.info(\"This is an INFO message.\")\n",
        "logging.warning(\"This is a WARNING message.\")\n",
        "logging.error(\"This is an ERROR message.\")"
      ],
      "metadata": {
        "id": "-awQdinmxn8C"
      },
      "execution_count": null,
      "outputs": []
    },
    {
      "cell_type": "markdown",
      "source": [
        "## 8. Handle file opening error using exception handling"
      ],
      "metadata": {
        "id": "0NfilbPaxy38"
      }
    },
    {
      "cell_type": "code",
      "source": [
        "try:\n",
        "    with open(\"C:\\Users\\HP\\Downloads\\class.txt\", \"r\") as file:\n",
        "        content = file.read()\n",
        "except FileNotFoundError:\n",
        "    print(\"File not found!\")"
      ],
      "metadata": {
        "id": "maYeV8ghx1oW"
      },
      "execution_count": null,
      "outputs": []
    },
    {
      "cell_type": "markdown",
      "source": [
        "## 9. Read a file line by line and store content in a list"
      ],
      "metadata": {
        "id": "Lrr8bAUWx55f"
      }
    },
    {
      "cell_type": "code",
      "source": [
        "with open(\"C:\\Users\\HP\\Downloads\\mkt_data.txt\", \"r\") as file:\n",
        "    lines = file.readlines()\n",
        "print(lines)"
      ],
      "metadata": {
        "id": "N23yWefox7Ag"
      },
      "execution_count": null,
      "outputs": []
    },
    {
      "cell_type": "markdown",
      "source": [
        "## 10. Append data to an existing file"
      ],
      "metadata": {
        "id": "nGkE0SBTx-UD"
      }
    },
    {
      "cell_type": "code",
      "source": [
        "with open(\"C:\\Users\\HP\\Downloads\\table1.txt\", \"a\") as file:\n",
        "    file.write(\"\\nAppending new data.\")"
      ],
      "metadata": {
        "id": "wVoNX_jIyE8H"
      },
      "execution_count": null,
      "outputs": []
    },
    {
      "cell_type": "markdown",
      "source": [
        "## 11. Handle missing dictionary key error"
      ],
      "metadata": {
        "id": "EhmvV9djyN8h"
      }
    },
    {
      "cell_type": "code",
      "source": [
        "try:\n",
        "    data = {\"name\": \"Alice\"}\n",
        "    print(data[\"age\"])\n",
        "except KeyError:\n",
        "    print(\"Key not found!\")"
      ],
      "metadata": {
        "id": "yAepcHkIyQ9g"
      },
      "execution_count": null,
      "outputs": []
    },
    {
      "cell_type": "markdown",
      "source": [
        "## 12. Handle different exception types"
      ],
      "metadata": {
        "id": "bOZp5WD-yStK"
      }
    },
    {
      "cell_type": "code",
      "source": [
        "try:\n",
        "    num = int(\"ABC\")\n",
        "except ValueError:\n",
        "    print(\"Invalid integer format!\")\n",
        "except TypeError:\n",
        "    print(\"Type error occurred!\")"
      ],
      "metadata": {
        "id": "LzKfJVuLyWhS"
      },
      "execution_count": null,
      "outputs": []
    },
    {
      "cell_type": "markdown",
      "source": [
        "## 13. Check if a file exists before reading"
      ],
      "metadata": {
        "id": "bP8khVKUyYY4"
      }
    },
    {
      "cell_type": "code",
      "source": [
        "import os\n",
        "\n",
        "if os.path.exists(\"C:\\Users\\HP\\Downloads\\mytable.txt\"):\n",
        "    with open(\"example.txt\", \"r\") as file:\n",
        "        print(file.read())\n",
        "else:\n",
        "    print(\"File does not exist.\")"
      ],
      "metadata": {
        "id": "ilkOVkvjybKd"
      },
      "execution_count": null,
      "outputs": []
    },
    {
      "cell_type": "markdown",
      "source": [
        "## 14. Log both informational and error messages"
      ],
      "metadata": {
        "id": "NWbDnnBUydSj"
      }
    },
    {
      "cell_type": "code",
      "source": [
        "import logging\n",
        "\n",
        "logging.basicConfig(filename=\"app.log\", level=logging.INFO)\n",
        "\n",
        "logging.info(\"This is an info message.\")\n",
        "logging.error(\"This is an error message.\")"
      ],
      "metadata": {
        "id": "ooBXvFpJydne"
      },
      "execution_count": null,
      "outputs": []
    },
    {
      "cell_type": "markdown",
      "source": [
        "## 15. Handle an empty file while reading"
      ],
      "metadata": {
        "id": "pKbE9nNgyd1M"
      }
    },
    {
      "cell_type": "code",
      "source": [
        "with open(\"C:\\Users\\HP\\Downloads\\copytable1.txt\", \"r\") as file:\n",
        "    content = file.read()\n",
        "    if not content:\n",
        "        print(\"File is empty!\")\n",
        "    else:\n",
        "        print(content)"
      ],
      "metadata": {
        "id": "iZH-exQayeE6"
      },
      "execution_count": null,
      "outputs": []
    },
    {
      "cell_type": "markdown",
      "source": [
        "## 16. Use memory profiling to check memory usage"
      ],
      "metadata": {
        "id": "hG5izzXFyeSB"
      }
    },
    {
      "cell_type": "code",
      "source": [
        "from memory_profiler import profile\n",
        "\n",
        "@profile\n",
        "def my_function():\n",
        "    nums = [i for i in range(100000)]\n",
        "    return sum(nums)\n",
        "\n",
        "my_function()"
      ],
      "metadata": {
        "id": "koiFjEuDyeg-"
      },
      "execution_count": null,
      "outputs": []
    },
    {
      "cell_type": "markdown",
      "source": [
        "## 17. Write a list of numbers to a file, one per line"
      ],
      "metadata": {
        "id": "kA9ahMM-yes8"
      }
    },
    {
      "cell_type": "code",
      "source": [
        "numbers = [1, 2, 3, 4, 5]\n",
        "with open(\"C:\\Users\\HP\\Downloads\\numbertable.txt\", \"w\") as file:\n",
        "    for num in numbers:\n",
        "        file.write(f\"{num}\\n\")"
      ],
      "metadata": {
        "id": "gT2MKMDuye7e"
      },
      "execution_count": null,
      "outputs": []
    },
    {
      "cell_type": "markdown",
      "source": [
        "## 18. Implement log rotation after 1MB"
      ],
      "metadata": {
        "id": "v2tXAsw-yfJv"
      }
    },
    {
      "cell_type": "code",
      "source": [
        "import logging\n",
        "from logging.handlers import RotatingFileHandler\n",
        "\n",
        "logger = logging.getLogger(\"MyLogger\")\n",
        "handler = RotatingFileHandler(\"app.log\", maxBytes=1024 * 1024, backupCount=5)\n",
        "logger.addHandler(handler)\n",
        "\n",
        "logger.warning(\"This is a warning message.\")"
      ],
      "metadata": {
        "id": "BiChzY7zyfat"
      },
      "execution_count": null,
      "outputs": []
    },
    {
      "cell_type": "markdown",
      "source": [
        "## 19. Handle IndexError and KeyError together"
      ],
      "metadata": {
        "id": "8WE5TZWLyfow"
      }
    },
    {
      "cell_type": "code",
      "source": [
        "try:\n",
        "    my_list = [1, 2, 3]\n",
        "    print(my_list[5])\n",
        "except IndexError:\n",
        "    print(\"Index out of range!\")\n",
        "except KeyError:\n",
        "    print(\"Key error occurred!\")"
      ],
      "metadata": {
        "id": "jM3plDN2yf3S"
      },
      "execution_count": null,
      "outputs": []
    },
    {
      "cell_type": "markdown",
      "source": [
        "## 20. Open and read a file using with statement"
      ],
      "metadata": {
        "id": "GQhoEbpzygF1"
      }
    },
    {
      "cell_type": "code",
      "source": [
        "with open(\"C:\\Users\\HP\\Downloads\\student.txt\", \"r\") as file:\n",
        "    print(file.read())"
      ],
      "metadata": {
        "id": "ZzzWZPSDygTi"
      },
      "execution_count": null,
      "outputs": []
    },
    {
      "cell_type": "markdown",
      "source": [
        "## 21. Count occurrences of a word in a file"
      ],
      "metadata": {
        "id": "iIeFLsZQyggX"
      }
    },
    {
      "cell_type": "code",
      "source": [
        "word_to_count = \"hello\"\n",
        "with open(\"C:\\Users\\HP\\Downloads\\class.txt\", \"r\") as file:\n",
        "    content = file.read()\n",
        "    count = content.lower().split().count(word_to_count.lower())\n",
        "print(f\"The word '{word_to_count}' appears {count} times.\")"
      ],
      "metadata": {
        "id": "NRSwHgUxygsv"
      },
      "execution_count": null,
      "outputs": []
    },
    {
      "cell_type": "markdown",
      "source": [
        "## 22. Check if a file is empty"
      ],
      "metadata": {
        "id": "QEfw1uxVzOvy"
      }
    },
    {
      "cell_type": "code",
      "source": [
        "import os\n",
        "\n",
        "if os.path.exists(\"C:\\Users\\HP\\Downloads\\classes.txt\") and os.stat(\"C:\\Users\\HP\\Downloads\\class.txt\").st_size == 0:\n",
        "    print(\"The file is empty.\")\n",
        "else:\n",
        "    print(\"The file is not empty.\")"
      ],
      "metadata": {
        "id": "Op8zeSzHzPEi"
      },
      "execution_count": null,
      "outputs": []
    },
    {
      "cell_type": "markdown",
      "source": [
        "## 23. Log an error during file handling"
      ],
      "metadata": {
        "id": "T1PniIJLzUPZ"
      }
    },
    {
      "cell_type": "code",
      "source": [
        "import logging\n",
        "\n",
        "logging.basicConfig(filename=\"file_errors.log\", level=logging.ERROR)\n",
        "\n",
        "try:\n",
        "    with open(\"C:\\Users\\HP\\Downloads\\employee.txt\", \"r\") as file:\n",
        "        content = file.read()\n",
        "except FileNotFoundError as e:\n",
        "    logging.error(f\"File error: {e}\")"
      ],
      "metadata": {
        "id": "EKkukQpTzUi3"
      },
      "execution_count": null,
      "outputs": []
    }
  ]
}