{
  "nbformat": 4,
  "nbformat_minor": 0,
  "metadata": {
    "colab": {
      "provenance": []
    },
    "kernelspec": {
      "name": "python3",
      "display_name": "Python 3"
    },
    "language_info": {
      "name": "python"
    }
  },
  "cells": [
    {
      "cell_type": "markdown",
      "source": [
        "# **Theory Questions:**"
      ],
      "metadata": {
        "id": "SWhUNFqXgxT_"
      }
    },
    {
      "cell_type": "markdown",
      "source": [
        "### 1. What is Python, and why is it popular?"
      ],
      "metadata": {
        "id": "_Lnd4YVZhJFr"
      }
    },
    {
      "cell_type": "markdown",
      "source": [
        "Python is a **high-level, interpreted programming language** known for its **simplicity**, **readability**, and **versatility**.\n",
        "It supports multiple programming paradigms, object-oriented, and functional programming.\n",
        "Python is widely used for **web development, data science, machine learning, automation, scripting**, and other applications.\n",
        "\n",
        "Python was developed by **Guido van Rossum** and it was officially released in **1991**.\n",
        "\n",
        "The name \"**Python**\" was inspired by the British comedy television program \"**Monty Python's Flying Circus**.\"\n",
        "\n",
        "\n",
        "**Python is popular for several reasons**:\n",
        "1. **Easy to Learn and Read** – Its simple syntax resembles plain English.\n",
        "2. **Versatile** – Used in various fields like AI, web development, data science, and automation and many more.\n",
        "3. **Large Community Support** – Active developer community for help and improvements.\n",
        "4. **Cross-Platform Compatibility** – Works on Windows, Mac, and Linux.\n",
        "5. **High Demand in the Job Market** – Widely used in industry and academia.\n",
        "6. **Extensive Libraries & Frameworks** – Libraries like NumPy, Pandas, TensorFlow, Django, Flask, etc.\n"
      ],
      "metadata": {
        "id": "HHMSTdTek6zE"
      }
    },
    {
      "cell_type": "markdown",
      "source": [
        "### 2. What is an interpreter in Python?"
      ],
      "metadata": {
        "id": "ikSCSukElSfb"
      }
    },
    {
      "cell_type": "markdown",
      "source": [
        "A Python interpreter is a program that **reads** & **executes** the Python code line by line.\n",
        "\n",
        "It converts **high-level Python code** into **machine code** at runtime, making Python an interpreted language.\n",
        "\n",
        "This makes the code it **easy to test** and **debug** interactively."
      ],
      "metadata": {
        "id": "lf-3MduimxTh"
      }
    },
    {
      "cell_type": "markdown",
      "source": [
        "### 3. What are pre-defined keywords in Python?"
      ],
      "metadata": {
        "id": "bANHvcTLocOT"
      }
    },
    {
      "cell_type": "markdown",
      "source": [
        "*   In Python, keywords are reserved words that have a special meaning and manage the flow of program.\n",
        "*   These keywords help define the syntax and structure of Python programs.\n",
        "*   The keywords cannot be used as variable names, function names, or any other identifiers.\n",
        "*   All the keywords in Python are written in lowercase except True and False.\n",
        "*   In Python, there is an inbuilt keyword function iskeyword() that can be used to check whether a string is a valid keyword or not.\n",
        "\n",
        "Below are the list of some Python Keywords:\n",
        "\n",
        "**Control Flow**-\tif, elif, else, match, case\n",
        "\n",
        "**Loops**-\tfor, while, break, continue\n",
        "\n",
        "**Function & Class**-\tdef, return, lambda, class, yield\n",
        "\n",
        "**Exception Handling**-\ttry, except, finally, raise, assert\n",
        "\n",
        "**Logical Operators**-\tand, or, not, in, is\n",
        "\n",
        "**Variable Scope**-\tglobal, nonlocal\n",
        "\n",
        "**Importing Modules**-\timport, from, as\n",
        "\n",
        "**Boolean & None**-\tTrue, False, None\n",
        "\n",
        "**Object & Type Handling**-\twith, pass, del\n",
        "\n",
        "**Asynchronous Code**-\tasync, await\n",
        "\n",
        "We can get the list of keywords using the syntax \"**help('keywords')**\"."
      ],
      "metadata": {
        "id": "TA08Z0OKop2Z"
      }
    },
    {
      "cell_type": "code",
      "source": [
        "help('keywords')"
      ],
      "metadata": {
        "colab": {
          "base_uri": "https://localhost:8080/"
        },
        "id": "Zaqwd6t6v1Mg",
        "outputId": "1f134344-c931-418d-b264-7c177024dd2a"
      },
      "execution_count": null,
      "outputs": [
        {
          "output_type": "stream",
          "name": "stdout",
          "text": [
            "\n",
            "Here is a list of the Python keywords.  Enter any keyword to get more help.\n",
            "\n",
            "False               class               from                or\n",
            "None                continue            global              pass\n",
            "True                def                 if                  raise\n",
            "and                 del                 import              return\n",
            "as                  elif                in                  try\n",
            "assert              else                is                  while\n",
            "async               except              lambda              with\n",
            "await               finally             nonlocal            yield\n",
            "break               for                 not                 \n",
            "\n"
          ]
        }
      ]
    },
    {
      "cell_type": "markdown",
      "source": [
        "### 4. Can keywords be used as variable names?"
      ],
      "metadata": {
        "id": "gsKA34pRwfI8"
      }
    },
    {
      "cell_type": "markdown",
      "source": [
        "No,In python keywords cannot be used as variable names.\n",
        "\n",
        "Keywords are reserved words that have predefined meanings in the language and are part of its syntax.\n",
        "\n",
        "Using them as variable names will get a syntax error."
      ],
      "metadata": {
        "id": "Wu3gCfxVwil_"
      }
    },
    {
      "cell_type": "code",
      "source": [
        "# Example:\n",
        "class = '10' # It results as invalid syntax"
      ],
      "metadata": {
        "id": "SyZ2jsTF2bY6"
      },
      "execution_count": null,
      "outputs": []
    },
    {
      "cell_type": "markdown",
      "source": [
        "### 5. What is mutability in Python?"
      ],
      "metadata": {
        "id": "k5Mc6YP-21tJ"
      }
    },
    {
      "cell_type": "markdown",
      "source": [
        "Mutability in Python refers to whether an object’s value can be **changed after creation**.\n",
        "\n",
        "Python objects are classified in two types:\n",
        "\n",
        "\n",
        "1.   **Mutable Objects**: Mutable objects are allow the modification after the are ceated.\n",
        "\n",
        "**Example**: lists, dictionaries, sets\n",
        "\n",
        "2.   **Immutable Objects**: Mutable objects are not allow the modification after the are ceated.\n",
        "\n",
        "**Example**: integers, strings, floats, tuples,"
      ],
      "metadata": {
        "id": "A06mCy_Y25Up"
      }
    },
    {
      "cell_type": "code",
      "source": [
        "# Mutable example (list)\n",
        "list = [1, 2, 3]\n",
        "list[0] = 5  # Modifying the list\n",
        "print(list)\n",
        "\n",
        "\n",
        "# Immutable example (string)\n",
        "string = \"hello\"\n",
        "# This will create a new string instead of modifying the original one\n",
        "string[0] = \"W\"  # Reassigning to a new string\n",
        "print(string)"
      ],
      "metadata": {
        "id": "ZTxsNtSs48fd"
      },
      "execution_count": null,
      "outputs": []
    },
    {
      "cell_type": "markdown",
      "source": [
        "### 6. Why are lists mutable, but tuples are immutable?"
      ],
      "metadata": {
        "id": "7iiPfd3M4z-f"
      }
    },
    {
      "cell_type": "markdown",
      "source": [
        "Lists are mutable, while tuples are immutable, due to the **design decisions** that reflect their intended use cases and performance characteristics.\n",
        "\n",
        "**Lists:**\n",
        "\n",
        "Lists are intented to represent **dynamic collections** of data where elements may need to be **added, removed, or modified**.\n",
        "*   **Allow Changes**: Lists need to support modification (adding/removing elements) after their creation.\n",
        "*   **Memory Overhead**: Lists have extra memory allocated for dynamic resizing to accommodate future modifications.\n",
        "\n",
        "**Tuples**\n",
        "\n",
        "Tuples are ment to represent **fixed, constant** data. Once a tuple is created,\n",
        "its content should not change.\n",
        "\n",
        "*   **Data Integrity**: Immutable structures provide security and data consistency, as their contents cannot be altered accidentally or intentionally.\n",
        "*   **Efficiency**: Tuples are optimized for performance and memory usage because they do not need extra space to accommodate future changes. This makes them faster and lighter than lists\n",
        "*   **Hashability**: Tuples are hashable if their elements are also immutable, making them suitable to be used as dictionary keys."
      ],
      "metadata": {
        "id": "dmKlgL4G5tpQ"
      }
    },
    {
      "cell_type": "code",
      "source": [
        "# Lists\n",
        "\n",
        "employee = [\"Alice\", \"Bob\"]\n",
        "employee.append(\"Charlie\")  #  adding an element\n",
        "employee[1] = \"David\"  #  modifying an element\n",
        "print(employee)\n",
        "\n",
        "\n",
        "\n",
        "# Tuple\n",
        "numbers = (10, 20, 50, 70)\n",
        "numbers[0] = 100"
      ],
      "metadata": {
        "id": "msqYxKSPGNGG"
      },
      "execution_count": null,
      "outputs": []
    },
    {
      "cell_type": "markdown",
      "source": [
        "### 7. What is the difference between “==” and “is” operators in Python?"
      ],
      "metadata": {
        "id": "tnbWL3YGJ9aN"
      }
    },
    {
      "cell_type": "markdown",
      "source": [
        "In Python, both **==** and **is** are used for **comparison**, but they serve different purposes:\n",
        "\n",
        "**== (Equality Operator)**: Compare the **values** of two objects to check if two variables have equal values.\n",
        "\n",
        "**is (Identity Operator)**: Compares the identity (memory location) of\n",
        "two objects to check if two variables are the same object (not just equal)."
      ],
      "metadata": {
        "id": "haXEHOVRKEvh"
      }
    },
    {
      "cell_type": "code",
      "source": [
        "# == (Equality Operator)\n",
        "a = [1, 2, 3]\n",
        "b = [1, 2, 3]\n",
        "print(a == b)\n",
        "\n",
        "\n",
        "\n",
        "# is (Identity Operator)\n",
        "a = [1, 2, 3]\n",
        "b = [1, 2, 3]\n",
        "print(a is b)\n",
        "\n",
        "c = a\n",
        "print(a is c)\n"
      ],
      "metadata": {
        "id": "a-uWJRBBKECI"
      },
      "execution_count": null,
      "outputs": []
    },
    {
      "cell_type": "markdown",
      "source": [
        "### 8. What are logical operators in Python?"
      ],
      "metadata": {
        "id": "JfboYEl6PNbn"
      }
    },
    {
      "cell_type": "markdown",
      "source": [
        "Logical operators are used to combine conditional statements and perform logical operationas. They allows to make decisions based on the conditions using the operators \"**and, or, not**\".\n",
        "\n",
        "**and** : Returns True if both conditions are satisfied.\n",
        "\n",
        "**or** : Returns True if at least one condition is satisfied.\n",
        "\n",
        "**not** : Reverses the result of the condition and Returns True if the condition is false, and False if the condition is true"
      ],
      "metadata": {
        "id": "1Hq7RFYzPT0k"
      }
    },
    {
      "cell_type": "code",
      "source": [
        "# and operator\n",
        "x = 10\n",
        "y = 20\n",
        "if x < 15 and y > 15:\n",
        "  print(\"Both statment are satisfied\")\n",
        "\n",
        "\n",
        "# or operator\n",
        "x = 10\n",
        "y = 20\n",
        "if x > 15 or y > 15:\n",
        "  print(\"One condition is satisfied \")\n",
        "\n",
        "\n",
        "# not operator\n",
        "x = 10\n",
        "if not(x > 5):\n",
        "  print(\"x is greater then 5\")\n",
        "else:\n",
        "  print(\"x is not greatee then 5\")\n"
      ],
      "metadata": {
        "id": "qhzdDmGqVS0F"
      },
      "execution_count": null,
      "outputs": []
    },
    {
      "cell_type": "markdown",
      "source": [
        "### 9. What is type casting in Python?"
      ],
      "metadata": {
        "id": "nW_bGdIUZgXt"
      }
    },
    {
      "cell_type": "markdown",
      "source": [
        "- Type casting is known as type conversion, It is a process of conversion one data type to another data type.\n",
        "- Type casting is necessary to perform airthmetic operations, data manipulation, input/output operation.\n",
        "- In Python there are two types of type casting-\n",
        "    - Implict Type Casting (Autometic data type conversion)\n",
        "    - Explict Type Casting ( Manual by using builtin functions- int(), float(), str(), list(), ste() etc."
      ],
      "metadata": {
        "id": "3gFWOQ9V9vVZ"
      }
    },
    {
      "cell_type": "code",
      "source": [
        "# Implict Type Casting\n",
        "x = 10   # Integer\n",
        "y = 2.5  # Float\n",
        "\n",
        "result = x + y  # Integer + Float → Float\n",
        "print(type(result))\n",
        "\n",
        "\n",
        "# Explict Type Casting\n",
        "a = 5\n",
        "b = float(a)  # Converts integer to float\n",
        "print(type(b))\n",
        "\n",
        "s = \"123\"\n",
        "num = int(s)  # Converts string to integer\n",
        "print(type(num))\n"
      ],
      "metadata": {
        "colab": {
          "base_uri": "https://localhost:8080/"
        },
        "id": "xa5ArohrAEER",
        "outputId": "7248a701-51ce-4aea-8655-d81fb90fc7f7"
      },
      "execution_count": null,
      "outputs": [
        {
          "output_type": "stream",
          "name": "stdout",
          "text": [
            "<class 'float'>\n",
            "<class 'float'>\n",
            "<class 'int'>\n"
          ]
        }
      ]
    },
    {
      "cell_type": "markdown",
      "source": [
        "## 10. What is the difference between implicit and explicit type casting?"
      ],
      "metadata": {
        "id": "uyYPBaL98vza"
      }
    },
    {
      "cell_type": "markdown",
      "source": [
        "- **Implict Type Casting**: It autometically converts one data type to anothe without user intervention.\n",
        "- **Explict Type Casting**: When python does not convert ant data type, we can convert it manually using builtin functions."
      ],
      "metadata": {
        "id": "sg6NignbA_ek"
      }
    },
    {
      "cell_type": "code",
      "source": [
        "# Implict Type Casting\n",
        "x = 5   # Integer\n",
        "y = 2.57  # Float\n",
        "\n",
        "result = x + y  # Integer + Float → Float\n",
        "print(type(result))\n",
        "\n",
        "\n",
        "# Explict Type Casting\n",
        "a = 5\n",
        "b = float(a)  # Converts integer to float\n",
        "print(type(b))\n",
        "\n",
        "ab = str(result) # Converts float to string\n",
        "print(type(ab))\n",
        "\n",
        "\n"
      ],
      "metadata": {
        "colab": {
          "base_uri": "https://localhost:8080/"
        },
        "id": "W97rT57I_pN_",
        "outputId": "0c5091c6-e9c7-462c-9321-0828f606a45e"
      },
      "execution_count": null,
      "outputs": [
        {
          "output_type": "stream",
          "name": "stdout",
          "text": [
            "<class 'float'>\n",
            "<class 'float'>\n",
            "<class 'str'>\n"
          ]
        }
      ]
    },
    {
      "cell_type": "markdown",
      "source": [
        "## 11. What is the purpose of conditional statements in Python?\n",
        "\n"
      ],
      "metadata": {
        "id": "zqsRU30A80pC"
      }
    },
    {
      "cell_type": "markdown",
      "source": [
        "- Conditional statements in python are used to control the execution flow, allow the codes to make decisions, use nasted to handle multiple conditions and execute different branches of codes depending on the logical expression.\n",
        "\n",
        "- Python supportsconditional statements such as if, if else, if elif else and nasted if."
      ],
      "metadata": {
        "id": "__SSnIo8AmTa"
      }
    },
    {
      "cell_type": "code",
      "source": [
        "score = 80\n",
        "\n",
        "# If statement\n",
        "if score >= 18:\n",
        "    print(\"You are eligible to work.\")\n",
        "\n",
        "# If else statement\n",
        "if score >= 90:\n",
        "    print(\"You are eligible to work.\")\n",
        "else:\n",
        "    print(\"You are not eligible to vote.\")\n",
        "\n",
        "# If elis else Statemen\n",
        "if score >= 95:\n",
        "    print(\"Grade: A\")\n",
        "elif score >= 85:\n",
        "    print(\"Grade: B\")\n",
        "elif score >= 75:\n",
        "    print(\"Grade: C\")\n",
        "else:\n",
        "    print(\"Grade: F\")\n",
        "\n"
      ],
      "metadata": {
        "colab": {
          "base_uri": "https://localhost:8080/"
        },
        "id": "CaR2fVWkI8L2",
        "outputId": "9163b0f6-ece3-485f-b03d-10f5969629b4"
      },
      "execution_count": null,
      "outputs": [
        {
          "output_type": "stream",
          "name": "stdout",
          "text": [
            "You are eligible to work.\n",
            "You are not eligible to vote.\n",
            "Grade: C\n"
          ]
        }
      ]
    },
    {
      "cell_type": "markdown",
      "source": [
        "## 12. How does the elif statement work?"
      ],
      "metadata": {
        "id": "x--uPRQW80j_"
      }
    },
    {
      "cell_type": "markdown",
      "source": [
        "- The elif (if else) statement checks multiple conditions one by one. As soon as a condition is True, that block runs, and the rest are skipped. If none of the conditions are True, the optional else block executes."
      ],
      "metadata": {
        "id": "UctEIiiULc0T"
      }
    },
    {
      "cell_type": "code",
      "source": [
        "age = 58\n",
        "\n",
        "if age < 18:\n",
        "    print(\"Minor\")\n",
        "elif age < 40:\n",
        "    print(\"Young Adult\")\n",
        "elif age < 60:\n",
        "    print(\"Middle-aged\")\n",
        "else:\n",
        "    print(\"Senior\")"
      ],
      "metadata": {
        "colab": {
          "base_uri": "https://localhost:8080/"
        },
        "id": "iIDsr_X_LtYn",
        "outputId": "e2e4dec4-d631-43f3-a350-2ecd2fc9aa4f"
      },
      "execution_count": null,
      "outputs": [
        {
          "output_type": "stream",
          "name": "stdout",
          "text": [
            "Middle-aged\n"
          ]
        }
      ]
    },
    {
      "cell_type": "markdown",
      "source": [
        "## 13. What is the difference between for and while loops?"
      ],
      "metadata": {
        "id": "V_-0B0NW80cU"
      }
    },
    {
      "cell_type": "markdown",
      "source": [
        "- **For Loop**:\n",
        "    - Use for loop when you know how many times to loop.\n",
        "    - Iterating through items in a collection (lists, tuples, strings, etc.).\n",
        "    - Stops automatically after iterating through all elements.\n",
        "\n",
        "- **While Loop**:\n",
        "    - Use while loop when looping depends on a condition.\n",
        "    - Running until a condition becomes False (e.g., user input, sensor data, etc.).\n",
        "    - Must manually update a condition to avoid infinite loops.\n"
      ],
      "metadata": {
        "id": "w_ndWwWjMKOJ"
      }
    },
    {
      "cell_type": "code",
      "source": [
        "# For Loop\n",
        "print('-> For Loop')\n",
        "for i in range(5):\n",
        "    print(i)\n",
        "\n",
        "\n",
        "# While Loop\n",
        "print('-> While Loop')\n",
        "count = 0\n",
        "while count < 5:\n",
        "    print(count)\n",
        "    count += 1  # Manually updating the condition\n"
      ],
      "metadata": {
        "colab": {
          "base_uri": "https://localhost:8080/"
        },
        "id": "Cp_WXgrIOB7x",
        "outputId": "a5f5c617-e16b-4953-c747-1b0e12447d6f"
      },
      "execution_count": null,
      "outputs": [
        {
          "output_type": "stream",
          "name": "stdout",
          "text": [
            "-> For Loop\n",
            "0\n",
            "1\n",
            "2\n",
            "3\n",
            "4\n",
            "-> While Loop\n",
            "0\n",
            "1\n",
            "2\n",
            "3\n",
            "4\n"
          ]
        }
      ]
    },
    {
      "cell_type": "markdown",
      "source": [
        "## 14. Describe a scenario where a while loop is more suitable than a for loop."
      ],
      "metadata": {
        "id": "xg85bBL3S_XT"
      }
    },
    {
      "cell_type": "markdown",
      "source": [
        "- A while loop is more better than for loop and depends on the contition rather than a fixed sequence.\n",
        "      - Example: Countdown from 5 to 1\n",
        "      The loop runs until count reaches 0.\n",
        "      A for loop isn’t ideal since we’re decreasing a variable dynamically."
      ],
      "metadata": {
        "id": "D8ZQNhYIOroe"
      }
    },
    {
      "cell_type": "code",
      "source": [
        "count = 5\n",
        "\n",
        "while count > 0:\n",
        "    print(count)\n",
        "    count -= 1  # Decrease count by 1\n",
        "\n",
        "print(\"Done\")"
      ],
      "metadata": {
        "colab": {
          "base_uri": "https://localhost:8080/"
        },
        "id": "0KHisG-MP8L4",
        "outputId": "c6f444e1-7277-4782-eaa8-bbe9d44a586a"
      },
      "execution_count": null,
      "outputs": [
        {
          "output_type": "stream",
          "name": "stdout",
          "text": [
            "5\n",
            "4\n",
            "3\n",
            "2\n",
            "1\n",
            "Done\n"
          ]
        }
      ]
    },
    {
      "cell_type": "markdown",
      "source": [
        "# **Practical Questions:**"
      ],
      "metadata": {
        "id": "U4FSlxWE9DQY"
      }
    },
    {
      "cell_type": "markdown",
      "source": [
        "## 1. Write a Python program to print \"Hello, World!\""
      ],
      "metadata": {
        "id": "Vg-OC7tuQa-g"
      }
    },
    {
      "cell_type": "code",
      "source": [
        "print('Hello, World!')"
      ],
      "metadata": {
        "colab": {
          "base_uri": "https://localhost:8080/"
        },
        "id": "mZJo7uG9Qzy5",
        "outputId": "cfa10cc4-8f50-4db8-d42b-e38ad49ebcea"
      },
      "execution_count": null,
      "outputs": [
        {
          "output_type": "stream",
          "name": "stdout",
          "text": [
            "Hello, World!\n"
          ]
        }
      ]
    },
    {
      "cell_type": "markdown",
      "source": [
        "## 2. Write a Python program that displays your name and age."
      ],
      "metadata": {
        "id": "1rgJFTaNQba4"
      }
    },
    {
      "cell_type": "code",
      "source": [
        "name = 'Ravi'\n",
        "age = 28\n",
        "\n",
        "print(f\"My name is {name} and my age is {age}.\")"
      ],
      "metadata": {
        "colab": {
          "base_uri": "https://localhost:8080/"
        },
        "id": "N3yA_P8LRDI9",
        "outputId": "9b631f16-a741-44d4-c89e-62f54eec4d1e"
      },
      "execution_count": null,
      "outputs": [
        {
          "output_type": "stream",
          "name": "stdout",
          "text": [
            "My name is Ravi and my age is 28.\n"
          ]
        }
      ]
    },
    {
      "cell_type": "markdown",
      "source": [
        "## 3. Write code to print all the pre-defined keywords in Python using the keyword library."
      ],
      "metadata": {
        "id": "-dn1Yz8QR4X-"
      }
    },
    {
      "cell_type": "code",
      "source": [
        "\n",
        "keywrd = keyword.kwlist # Get the list of Python keywords\n",
        "\n",
        "# Print all keywords\n",
        "print(keywrd)\n"
      ],
      "metadata": {
        "colab": {
          "base_uri": "https://localhost:8080/"
        },
        "id": "1h-8IygYSS4w",
        "outputId": "c3321b98-1e07-4de9-ba5f-edfefd842cb9"
      },
      "execution_count": null,
      "outputs": [
        {
          "output_type": "stream",
          "name": "stdout",
          "text": [
            "['False', 'None', 'True', 'and', 'as', 'assert', 'async', 'await', 'break', 'class', 'continue', 'def', 'del', 'elif', 'else', 'except', 'finally', 'for', 'from', 'global', 'if', 'import', 'in', 'is', 'lambda', 'nonlocal', 'not', 'or', 'pass', 'raise', 'return', 'try', 'while', 'with', 'yield']\n"
          ]
        }
      ]
    },
    {
      "cell_type": "markdown",
      "source": [
        "## 4. Write a program that checks if a given word is a Python keyword."
      ],
      "metadata": {
        "id": "sIJseWsyS2iZ"
      }
    },
    {
      "cell_type": "code",
      "source": [
        "word = input(\"Enter a word: \")\n",
        "if keyword.iskeyword(word):\n",
        "    print(f\"'{word}' is a Python keyword.\")\n",
        "else:\n",
        "    print(f\"'{word}' is NOT a Python keyword.\")"
      ],
      "metadata": {
        "colab": {
          "base_uri": "https://localhost:8080/"
        },
        "id": "vouN7dp1Tuvr",
        "outputId": "c1deda3a-fe44-47f6-a076-5f4b91c34ea5"
      },
      "execution_count": null,
      "outputs": [
        {
          "output_type": "stream",
          "name": "stdout",
          "text": [
            "Enter a word: loop\n",
            "'loop' is NOT a Python keyword.\n"
          ]
        }
      ]
    },
    {
      "cell_type": "markdown",
      "source": [
        "## 5.  Create a list and tuple in Python, and demonstrate how attempting to change an element works differently for each."
      ],
      "metadata": {
        "id": "_tQ8NJfrTggG"
      }
    },
    {
      "cell_type": "code",
      "source": [
        "# Creating a list (mutable)\n",
        "my_list = [1, 2, 3]\n",
        "print(my_list)\n",
        "\n",
        "# Modifying an element in the list\n",
        "my_list[1] = 99\n",
        "print(my_list)\n",
        "\n",
        "# Creating a tuple (immutable)\n",
        "my_tuple = (1, 2, 3)\n",
        "print(my_tuple)\n",
        "\n",
        "# Attempting to modify an element in the tuple\n",
        "try_list = list(my_tuple)\n",
        "try_list[0] = 0\n",
        "print(try_list)\n",
        "\n",
        "\n"
      ],
      "metadata": {
        "colab": {
          "base_uri": "https://localhost:8080/"
        },
        "id": "FAX-XAVUUPkW",
        "outputId": "6b6b234e-3875-4985-e2c9-ee50cb2d0868"
      },
      "execution_count": null,
      "outputs": [
        {
          "output_type": "stream",
          "name": "stdout",
          "text": [
            "[1, 2, 3]\n",
            "[1, 99, 3]\n",
            "(1, 2, 3)\n",
            "[0, 2, 3]\n"
          ]
        }
      ]
    },
    {
      "cell_type": "markdown",
      "source": [
        "## 6. Write a function to demonstrate the behavior of mutable and immutable arguments."
      ],
      "metadata": {
        "id": "kq9rsYknWTFQ"
      }
    },
    {
      "cell_type": "code",
      "source": [
        "def modify(immutable, mutable):\n",
        "    immutable += 10  # Creates a new integer (does not change original)\n",
        "    mutable.append(99)  # Modifies the original list\n",
        "\n",
        "\n",
        "num = 10 # Immutable\n",
        "lst = [1, 2, 3] # Mutable\n",
        "\n",
        "print(num, lst)\n",
        "\n",
        "modify(num, lst)\n",
        "\n",
        "print(num, lst)\n"
      ],
      "metadata": {
        "colab": {
          "base_uri": "https://localhost:8080/"
        },
        "id": "Jdp3-wYfWW_7",
        "outputId": "1b234baa-719f-4f0b-c4ad-44c98a3928f8"
      },
      "execution_count": null,
      "outputs": [
        {
          "output_type": "stream",
          "name": "stdout",
          "text": [
            "10 [1, 2, 3]\n",
            "10 [1, 2, 3, 99]\n"
          ]
        }
      ]
    },
    {
      "cell_type": "markdown",
      "source": [
        "## 7. Write a program that performs basic arithmetic operations on two user-input numbers."
      ],
      "metadata": {
        "id": "Tyek9QHXXU8p"
      }
    },
    {
      "cell_type": "code",
      "source": [
        "num1 = int(input(\"Enter 1st number: \"))\n",
        "num2 = int(input(\"Enter 2nd number: \"))\n",
        "\n",
        "num_add = num1 + num2\n",
        "print(f\"The sum of two numbers is: {num_add}\")\n"
      ],
      "metadata": {
        "colab": {
          "base_uri": "https://localhost:8080/"
        },
        "id": "inCEb4NVXXu5",
        "outputId": "17db738a-2748-45d6-b177-ef9b8eabcbcd"
      },
      "execution_count": null,
      "outputs": [
        {
          "output_type": "stream",
          "name": "stdout",
          "text": [
            "Enter 1st number: 2\n",
            "Enter 2nd number: 4\n",
            "The sum of two numbers is: 6\n"
          ]
        }
      ]
    },
    {
      "cell_type": "markdown",
      "source": [
        "## 8. Write a program to demonstrate the use of logical operators."
      ],
      "metadata": {
        "id": "EByyH4MdYbXK"
      }
    },
    {
      "cell_type": "code",
      "source": [
        "# Variables\n",
        "a = True\n",
        "b = False\n",
        "\n",
        "# 'and' operator\n",
        "print(\"a and b:\", a and b)\n",
        "\n",
        "# 'or' operator\n",
        "print(\"a or b:\", a or b)\n",
        "\n",
        "# 'not' operator\n",
        "print(\"not a:\", not a)\n",
        "print(\"not b:\", not b)\n"
      ],
      "metadata": {
        "colab": {
          "base_uri": "https://localhost:8080/"
        },
        "id": "GMPaZgMQYepZ",
        "outputId": "6a36ab40-5b7b-4a15-fbcb-5d3d9dd32c57"
      },
      "execution_count": null,
      "outputs": [
        {
          "output_type": "stream",
          "name": "stdout",
          "text": [
            "a and b: False\n",
            "a or b: True\n",
            "not a: False\n",
            "not b: True\n"
          ]
        }
      ]
    },
    {
      "cell_type": "markdown",
      "source": [
        "## 9. Write a Python program to convert user input from string to integer, float, and boolean types."
      ],
      "metadata": {
        "id": "eB6VoDRMadC6"
      }
    },
    {
      "cell_type": "code",
      "source": [
        "user_input = input(\"Enter your value: \")\n",
        "print(type(user_input))\n",
        "\n",
        "int_value = int(user_input) # Convert into Integer\n",
        "print(int_value)\n",
        "print(type(int_value))\n",
        "\n",
        "float_value = float(user_input) # Convert into Float\n",
        "print(float_value)\n",
        "print(type(float_value))\n",
        "\n",
        "bool_value = bool(user_input) # Convert into Boolean\n",
        "print(bool_value)\n",
        "print(type(bool_value))"
      ],
      "metadata": {
        "colab": {
          "base_uri": "https://localhost:8080/"
        },
        "id": "WRJ5dTt6wHTw",
        "outputId": "6c21fa42-a103-4ebb-861a-f64337c2a8ea"
      },
      "execution_count": null,
      "outputs": [
        {
          "output_type": "stream",
          "name": "stdout",
          "text": [
            "Enter your value: 87\n",
            "<class 'str'>\n",
            "87\n",
            "<class 'int'>\n",
            "87.0\n",
            "<class 'float'>\n",
            "True\n",
            "<class 'bool'>\n"
          ]
        }
      ]
    },
    {
      "cell_type": "markdown",
      "source": [
        "## 10. Write code to demonstrate type casting with list elements."
      ],
      "metadata": {
        "id": "oy6v4jMuaiYV"
      }
    },
    {
      "cell_type": "code",
      "source": [
        "list1 = [\"2\", \"5.7\", \"205.78\", \"69\", \"True\", \"56.9\", \"False\", \"45\"]\n",
        "\n",
        "int_list = [] # Converting into Integer\n",
        "for item in list1:\n",
        "  try:\n",
        "    int_list.append(int(item))\n",
        "  except ValueError:\n",
        "    int_list.append(None)\n",
        "print(int_list)\n",
        "\n",
        "\n",
        "float_list = [] # Converting into Float\n",
        "for item in list1:\n",
        "  try:\n",
        "    float_list.append(float(item))\n",
        "  except ValueError:\n",
        "    float_list.append(None)\n",
        "print(float_list)\n",
        "\n",
        "\n",
        "bool_list = []  # Converting into Boolean\n",
        "for item in list1:\n",
        "  try:\n",
        "    bool_list.append(bool(item))\n",
        "  except ValueError:\n",
        "    float_list.append(None)\n",
        "print(bool_list)"
      ],
      "metadata": {
        "colab": {
          "base_uri": "https://localhost:8080/"
        },
        "id": "kwARW5QqKpCP",
        "outputId": "872bc39f-d94e-41da-b629-7bec813a3d22"
      },
      "execution_count": null,
      "outputs": [
        {
          "output_type": "stream",
          "name": "stdout",
          "text": [
            "[2, None, None, 69, None, None, None, 45]\n",
            "[2.0, 5.7, 205.78, 69.0, None, 56.9, None, 45.0]\n",
            "[True, True, True, True, True, True, True, True]\n"
          ]
        }
      ]
    },
    {
      "cell_type": "markdown",
      "source": [
        "## 11. Write a program that checks if a number is positive, negative, or zero."
      ],
      "metadata": {
        "id": "Q6Z0WJgZalkj"
      }
    },
    {
      "cell_type": "code",
      "source": [
        "num = float(input(\"Enter a number: \"))\n",
        "\n",
        "if num > 0:\n",
        "    print(\"The is a positive number.\")\n",
        "elif num < 0:\n",
        "    print(\"The is a negative number.\")\n",
        "else:\n",
        "    print(\"The is zero.\")\n"
      ],
      "metadata": {
        "colab": {
          "base_uri": "https://localhost:8080/"
        },
        "id": "vP82usD1Ug59",
        "outputId": "be80d4af-17db-4a83-b74d-881f6b99c40b"
      },
      "execution_count": null,
      "outputs": [
        {
          "output_type": "stream",
          "name": "stdout",
          "text": [
            "Enter a number: -78.26\n",
            "The is a negative number.\n"
          ]
        }
      ]
    },
    {
      "cell_type": "markdown",
      "source": [
        "## 12. Write a for loop to print numbers from 1 to 10."
      ],
      "metadata": {
        "id": "NXxdYt03aour"
      }
    },
    {
      "cell_type": "code",
      "source": [
        "for num in range(1, 11):  # (1, 10) It will print 1 to 9\n",
        "    print(num)\n"
      ],
      "metadata": {
        "colab": {
          "base_uri": "https://localhost:8080/"
        },
        "id": "DTg964vjVj-a",
        "outputId": "4263bdc7-8bb3-4a64-eff4-073e0e82809c"
      },
      "execution_count": null,
      "outputs": [
        {
          "output_type": "stream",
          "name": "stdout",
          "text": [
            "1\n",
            "2\n",
            "3\n",
            "4\n",
            "5\n",
            "6\n",
            "7\n",
            "8\n",
            "9\n",
            "10\n"
          ]
        }
      ]
    },
    {
      "cell_type": "markdown",
      "source": [
        "## 13. Write a Python program to find the sum of all even numbers between 1 and 50."
      ],
      "metadata": {
        "id": "jvOnBdKxasWx"
      }
    },
    {
      "cell_type": "code",
      "source": [
        "even_numbers = list(filter(lambda x: x % 2 == 0, range(1, 51)))\n",
        "\n",
        "even_sum = sum(even_numbers)\n",
        "\n",
        "print(\"Sum of all even numbers from 1 to 50 is:\", even_sum)\n"
      ],
      "metadata": {
        "colab": {
          "base_uri": "https://localhost:8080/"
        },
        "id": "eXk8iVZwV6ue",
        "outputId": "ae138f69-9b09-4803-a6fe-4a85ac38d5e7"
      },
      "execution_count": null,
      "outputs": [
        {
          "output_type": "stream",
          "name": "stdout",
          "text": [
            "Sum of all even numbers from 1 to 50 is: 650\n"
          ]
        }
      ]
    },
    {
      "cell_type": "markdown",
      "source": [
        "## 14. Write a program to reverse a string using a while loop."
      ],
      "metadata": {
        "id": "1dH1yAYKauIy"
      }
    },
    {
      "cell_type": "code",
      "source": [
        "text = input(\"Enter a string: \")\n",
        "reversed_text = \"\"\n",
        "i = len(text) - 1\n",
        "\n",
        "while i >= 0:\n",
        "    reversed_text += text[i]\n",
        "    i -= 1\n",
        "\n",
        "print(\"Reversed string:\", reversed_text)\n"
      ],
      "metadata": {
        "colab": {
          "base_uri": "https://localhost:8080/"
        },
        "id": "ViylUuU-hqZJ",
        "outputId": "b950a3b8-7218-472c-8cf0-6033d3eb4c39"
      },
      "execution_count": null,
      "outputs": [
        {
          "output_type": "stream",
          "name": "stdout",
          "text": [
            "Enter a string: RAVI\n",
            "Reversed string: IVAR\n"
          ]
        }
      ]
    },
    {
      "cell_type": "markdown",
      "source": [
        "## 15. Write a Python program to calculate the factorial of a number provided by the user using a while loop."
      ],
      "metadata": {
        "id": "yrLxTx5iawKn"
      }
    },
    {
      "cell_type": "code",
      "source": [
        "num = int(input(\"Enter a number: \"))  # Get user input\n",
        "factorial = 1\n",
        "i = num\n",
        "\n",
        "while i > 0:\n",
        "    factorial *= i  # Multiply the number\n",
        "    i -= 1  # Decrease the number\n",
        "\n",
        "print(\"Factorial of\", num, \"is:\", factorial)"
      ],
      "metadata": {
        "colab": {
          "base_uri": "https://localhost:8080/"
        },
        "id": "Mn40BAY5i19x",
        "outputId": "5dde66dc-cb9e-4bf3-b322-0c721efb043c"
      },
      "execution_count": null,
      "outputs": [
        {
          "output_type": "stream",
          "name": "stdout",
          "text": [
            "Enter a number: 5\n",
            "Factorial of 5 is: 120\n"
          ]
        }
      ]
    },
    {
      "cell_type": "markdown",
      "source": [],
      "metadata": {
        "id": "gqOjyMTyjBMS"
      }
    },
    {
      "cell_type": "code",
      "source": [],
      "metadata": {
        "id": "08UFMz6TjBoC"
      },
      "execution_count": null,
      "outputs": []
    }
  ]
}