{
  "nbformat": 4,
  "nbformat_minor": 0,
  "metadata": {
    "colab": {
      "provenance": []
    },
    "kernelspec": {
      "name": "python3",
      "display_name": "Python 3"
    },
    "language_info": {
      "name": "python"
    }
  },
  "cells": [
    {
      "cell_type": "markdown",
      "source": [
        "# Python OOPs"
      ],
      "metadata": {
        "id": "B-nEOkajfkY0"
      }
    },
    {
      "cell_type": "markdown",
      "source": [
        "## 1. What is Object-Oriented Programming (OOP)?"
      ],
      "metadata": {
        "id": "XxpID4InfmTp"
      }
    },
    {
      "cell_type": "markdown",
      "source": [
        "OOP is a programming paradigm based on the concept of objects, which contain data (attributes) and functions (methods) that operate on the data. It provides principles like encapsulation, inheritance, and polymorphism to structure software efficiently."
      ],
      "metadata": {
        "id": "isOtYy-Wfr-Y"
      }
    },
    {
      "cell_type": "markdown",
      "source": [
        "## 2. What is a class in OOP?"
      ],
      "metadata": {
        "id": "U1sH_x0nf-yK"
      }
    },
    {
      "cell_type": "markdown",
      "source": [
        "A  class is a blueprint or template for creating objects. It defines attributes (variables) and methods (functions) that describe the behavior of objects.\n",
        "\n",
        "class Car:\n",
        "    def __init__(self, brand, model):\n",
        "        self.brand = brand\n",
        "        self.model = model\n",
        "\n",
        "    def display(self):\n",
        "        print(f\"Car: {self.brand} {self.model}\")\n"
      ],
      "metadata": {
        "id": "xWKwKTMhgFZD"
      }
    },
    {
      "cell_type": "code",
      "source": [
        "class Car:\n",
        "    def __init__(self, brand, model):\n",
        "        self.brand = brand\n",
        "        self.model = model\n",
        "\n",
        "    def display(self):\n",
        "        print(f\"Car: {self.brand} {self.model}\")"
      ],
      "metadata": {
        "id": "SB5Fi6jtgQaQ"
      },
      "execution_count": 2,
      "outputs": []
    },
    {
      "cell_type": "markdown",
      "source": [
        "## 3. What is an object in OOP?"
      ],
      "metadata": {
        "id": "BLb4AUe-gMre"
      }
    },
    {
      "cell_type": "markdown",
      "source": [
        "An object is an instance of a class that contains real values for the attributes defined in the class.\n",
        "\n",
        "car1 = Car(\"Toyota\", \"Corolla\")\n",
        "car1.display()  # Output: Car: Toyota Corolla"
      ],
      "metadata": {
        "id": "SaLzp_0shKTw"
      }
    },
    {
      "cell_type": "markdown",
      "source": [
        "## 4. What is the difference between abstraction and encapsulation?"
      ],
      "metadata": {
        "id": "1wiiwOb2hOOq"
      }
    },
    {
      "cell_type": "markdown",
      "source": [
        "**Abstraction**:\n",
        "- Focus: Hides the complexity of an object and shows only the essential features.\n",
        "- Purpose: To simplify interactions with objects by exposing only what is necessary.\n",
        "- How: Achieved through abstract classes and interfaces, allowing us to define methods that will be implemented later (in subclasses).\n",
        "- Example:\n",
        "In a car, the abstraction would be that you only need to know how to drive (pressing the pedal, steering) without needing to understand how the engine works internally.\n",
        "\n",
        "**Encapsulation**:\n",
        "- Focus: Bundles the data (attributes) and the methods (functions) that operate on the data into a single unit (class), while also controlling access to the data.\n",
        "- Purpose: To protect the internal state of the object and restrict direct access to its data by using access modifiers (private, protected).\n",
        "- How: Achieved by using private variables and providing getter/setter methods to control how the data is accessed or modified.\n",
        "- Example:\n",
        "In a car, encapsulation would be the fact that you can control the car’s speed using buttons or pedals, but the internal mechanics (like the engine or transmission) are hidden and cannot be accessed directly."
      ],
      "metadata": {
        "id": "lk8-Ce3mhXoe"
      }
    },
    {
      "cell_type": "code",
      "source": [
        "Example of abstraction:\n",
        "\n",
        "from abc import ABC, abstractmethod\n",
        "\n",
        "class Animal(ABC):\n",
        "    @abstractmethod\n",
        "    def sound(self):\n",
        "        pass\n",
        "\n",
        "class Dog(Animal):\n",
        "    def sound(self):\n",
        "        return \"Bark\"\n",
        "\n",
        "dog = Dog()\n",
        "print(dog.sound())\n",
        "\n",
        "Example of encapsulation:\n",
        "class BankAccount:\n",
        "    def __init__(self, balance):\n",
        "        self.__balance = balance\n",
        "\n",
        "    def get_balance(self):\n",
        "        return self.__balance\n",
        "\n",
        "account = BankAccount(1000)\n",
        "print(account.get_balance())"
      ],
      "metadata": {
        "id": "zQJHH0khliva"
      },
      "execution_count": null,
      "outputs": []
    },
    {
      "cell_type": "markdown",
      "source": [
        "## 5. What are dunder methods in Python?"
      ],
      "metadata": {
        "id": "MVX7gHkRivDj"
      }
    },
    {
      "cell_type": "markdown",
      "source": [
        "Dunder (double underscore) methods, also called magic methods, are special methods in Python with names surrounded by double underscores. Examples:\n",
        "\n",
        "__init__ → Constructor\n",
        "__str__ → String representation\n",
        "__repr__ → Official string representation"
      ],
      "metadata": {
        "id": "LL1pdo-cHc-F"
      }
    },
    {
      "cell_type": "code",
      "source": [
        "class Car:\n",
        "    def __init__(self, brand):\n",
        "        self.brand = brand\n",
        "\n",
        "    def __str__(self):\n",
        "        return f\"Car: {self.brand}\"\n",
        "\n",
        "car = Car(\"Tesla\")\n",
        "print(car)"
      ],
      "metadata": {
        "id": "x3ToFNruHhoB"
      },
      "execution_count": null,
      "outputs": []
    },
    {
      "cell_type": "markdown",
      "source": [
        "## 6. Explain the concept of inheritance in OOP?"
      ],
      "metadata": {
        "id": "0sZVEPLKHjoe"
      }
    },
    {
      "cell_type": "markdown",
      "source": [
        "Inheritance allows a class (child) to inherit properties and behavior from another class (parent)."
      ],
      "metadata": {
        "id": "XUH3h88hHowk"
      }
    },
    {
      "cell_type": "code",
      "source": [
        "class Animal:\n",
        "    def speak(self):\n",
        "        return \"I make a sound\"\n",
        "\n",
        "class Dog(Animal):\n",
        "    def speak(self):\n",
        "        return \"Bark\"\n",
        "\n",
        "dog = Dog()\n",
        "print(dog.speak())"
      ],
      "metadata": {
        "id": "CHBF5bX7IR61"
      },
      "execution_count": null,
      "outputs": []
    },
    {
      "cell_type": "markdown",
      "source": [
        "## 7. What is polymorphism in OOP?"
      ],
      "metadata": {
        "id": "yRG_B8WqIUWf"
      }
    },
    {
      "cell_type": "markdown",
      "source": [
        "Polymorphism allows methods to have different implementations based on the object calling them."
      ],
      "metadata": {
        "id": "tackjR05IajW"
      }
    },
    {
      "cell_type": "code",
      "source": [
        "class Cat:\n",
        "    def sound(self):\n",
        "        return \"Meow\"\n",
        "\n",
        "class Dog:\n",
        "    def sound(self):\n",
        "        return \"Bark\"\n",
        "\n",
        "animals = [Cat(), Dog()]\n",
        "for animal in animals:\n",
        "    print(animal.sound())"
      ],
      "metadata": {
        "id": "grodSWHaInlO"
      },
      "execution_count": null,
      "outputs": []
    },
    {
      "cell_type": "markdown",
      "source": [
        "## 8. How is encapsulation achieved in Python?"
      ],
      "metadata": {
        "id": "YFP2kQV_Ip_y"
      }
    },
    {
      "cell_type": "markdown",
      "source": [
        "Encapsulation is achieved using access modifiers:\n",
        "\n",
        "- Private (__variable)\n",
        "- Protected (_variable)\n",
        "- Public (variable)"
      ],
      "metadata": {
        "id": "XhBql7UmI51x"
      }
    },
    {
      "cell_type": "markdown",
      "source": [
        "## 9. What is a constructor in Python?"
      ],
      "metadata": {
        "id": "Dnt833jlJBRM"
      }
    },
    {
      "cell_type": "markdown",
      "source": [
        "A constructor is a special method (__init__) that initializes an object's attributes."
      ],
      "metadata": {
        "id": "ISz_bAiGJE5G"
      }
    },
    {
      "cell_type": "code",
      "source": [
        "class Car:\n",
        "    def __init__(self, brand):\n",
        "        self.brand = brand"
      ],
      "metadata": {
        "id": "D15HUtlRJOpD"
      },
      "execution_count": null,
      "outputs": []
    },
    {
      "cell_type": "markdown",
      "source": [
        "## 10. What are class and static methods in Python?"
      ],
      "metadata": {
        "id": "mPxc9JLEJSlI"
      }
    },
    {
      "cell_type": "markdown",
      "source": [
        "- Class methods (@classmethod) operate on the class.\n",
        "- Static methods (@staticmethod) do not operate on the class or instance."
      ],
      "metadata": {
        "id": "vMojKUYUJX4k"
      }
    },
    {
      "cell_type": "code",
      "source": [
        "class Example:\n",
        "    class_var = \"I am a class variable\"\n",
        "\n",
        "    @classmethod\n",
        "    def class_method(cls):\n",
        "        return cls.class_var\n",
        "\n",
        "    @staticmethod\n",
        "    def static_method():\n",
        "        return \"I am a static method\""
      ],
      "metadata": {
        "id": "RueVADhmJfZV"
      },
      "execution_count": null,
      "outputs": []
    },
    {
      "cell_type": "markdown",
      "source": [
        "## 11. What is method overloading in Python?"
      ],
      "metadata": {
        "id": "tnrn-gv3JhZK"
      }
    },
    {
      "cell_type": "markdown",
      "source": [
        "Python does not support traditional method overloading but can be achieved using default arguments."
      ],
      "metadata": {
        "id": "25-WqbOgJlMk"
      }
    },
    {
      "cell_type": "code",
      "source": [
        "class Example:\n",
        "    def show(self, a=None):\n",
        "        if a:\n",
        "            print(f\"Value: {a}\")\n",
        "        else:\n",
        "            print(\"No value\")\n",
        "\n",
        "obj = Example()\n",
        "obj.show()\n",
        "obj.show(10)"
      ],
      "metadata": {
        "id": "ufQZ3SvsJoWf"
      },
      "execution_count": null,
      "outputs": []
    },
    {
      "cell_type": "markdown",
      "source": [
        "## 12. What is method overriding in OOP?"
      ],
      "metadata": {
        "id": "HwBUileXJrCw"
      }
    },
    {
      "cell_type": "markdown",
      "source": [
        "When a child class provides a specific implementation of a method already defined in the parent class."
      ],
      "metadata": {
        "id": "wJ075p3tJ1m-"
      }
    },
    {
      "cell_type": "code",
      "source": [
        "class Parent:\n",
        "    def show(self):\n",
        "        return \"Parent\"\n",
        "\n",
        "class Child(Parent):\n",
        "    def show(self):\n",
        "        return \"Child\"\n",
        "\n",
        "print(Child().show())"
      ],
      "metadata": {
        "id": "tuGNK4yIJ6EY"
      },
      "execution_count": null,
      "outputs": []
    },
    {
      "cell_type": "markdown",
      "source": [
        "## 13. What is a property decorator in Python?"
      ],
      "metadata": {
        "id": "4r60mHKzJ78o"
      }
    },
    {
      "cell_type": "markdown",
      "source": [
        "The @property decorator is used to define getter methods."
      ],
      "metadata": {
        "id": "qYCDmBK-KFjH"
      }
    },
    {
      "cell_type": "code",
      "source": [
        "class Example:\n",
        "    def __init__(self, value):\n",
        "        self._value = value\n",
        "\n",
        "    @property\n",
        "    def value(self):\n",
        "        return self._value"
      ],
      "metadata": {
        "id": "YJMFRCHfKIBN"
      },
      "execution_count": null,
      "outputs": []
    },
    {
      "cell_type": "markdown",
      "source": [
        "## 14. Why is polymorphism important in OOP?"
      ],
      "metadata": {
        "id": "VspLBzr3KJ3F"
      }
    },
    {
      "cell_type": "markdown",
      "source": [
        "It allows code reusability and flexibility by enabling different classes to use the same method names."
      ],
      "metadata": {
        "id": "5l7Zz3yyKNfp"
      }
    },
    {
      "cell_type": "markdown",
      "source": [
        "## 15. What is an abstract class in Python?"
      ],
      "metadata": {
        "id": "K8yZl8IyK3PM"
      }
    },
    {
      "cell_type": "markdown",
      "source": [
        "An abstract class is a class that cannot be instantiated and must be inherited."
      ],
      "metadata": {
        "id": "HGlJVZ1ZK57V"
      }
    },
    {
      "cell_type": "code",
      "source": [
        "from abc import ABC, abstractmethod\n",
        "\n",
        "class AbstractExample(ABC):\n",
        "    @abstractmethod\n",
        "    def method(self):\n",
        "        pass"
      ],
      "metadata": {
        "id": "ASlIdMgaK8Be"
      },
      "execution_count": null,
      "outputs": []
    },
    {
      "cell_type": "markdown",
      "source": [
        "## 16. What are the advantages of OOP?"
      ],
      "metadata": {
        "id": "GV1t_228K-ei"
      }
    },
    {
      "cell_type": "markdown",
      "source": [
        "- Code reuse\n",
        "- Scalability\n",
        "- Modularity\n",
        "- Security via encapsulation"
      ],
      "metadata": {
        "id": "1DRO6ktgLBMa"
      }
    },
    {
      "cell_type": "markdown",
      "source": [
        "## 17. What is the difference between a class variable and an instance variable?"
      ],
      "metadata": {
        "id": "QQnP6uXYLHjK"
      }
    },
    {
      "cell_type": "markdown",
      "source": [
        "- Class Variable: Shared by all instances.\n",
        "- Instance Variable: Unique to each object."
      ],
      "metadata": {
        "id": "OJuTizpRLLy6"
      }
    },
    {
      "cell_type": "code",
      "source": [
        "class Example:\n",
        "    class_var = \"I am a class variable\"\n",
        "\n",
        "    def __init__(self, value):\n",
        "        self.instance_var = value"
      ],
      "metadata": {
        "id": "hk9P4umdLgLa"
      },
      "execution_count": null,
      "outputs": []
    },
    {
      "cell_type": "markdown",
      "source": [
        "## 18. What is multiple inheritance in Python?"
      ],
      "metadata": {
        "id": "2koHlMbOLi8w"
      }
    },
    {
      "cell_type": "markdown",
      "source": [
        "When a class inherits from more than one class."
      ],
      "metadata": {
        "id": "cxGOPYORLkMG"
      }
    },
    {
      "cell_type": "code",
      "source": [
        "class A:\n",
        "    pass\n",
        "\n",
        "class B:\n",
        "    pass\n",
        "\n",
        "class C(A, B):\n",
        "    pass"
      ],
      "metadata": {
        "id": "W7EzLZAyLmeL"
      },
      "execution_count": null,
      "outputs": []
    },
    {
      "cell_type": "markdown",
      "source": [
        "## 19. Explain __str__ and __repr__ methods."
      ],
      "metadata": {
        "id": "-3ouctYELvmS"
      }
    },
    {
      "cell_type": "markdown",
      "source": [
        "- __str__ → User-friendly string representation.\n",
        "- __repr__ → Official representation."
      ],
      "metadata": {
        "id": "ZJxqI7hNL0ek"
      }
    },
    {
      "cell_type": "code",
      "source": [
        "class Example:\n",
        "    def __str__(self):\n",
        "        return \"For users\"\n",
        "\n",
        "    def __repr__(self):\n",
        "        return \"For developers\""
      ],
      "metadata": {
        "id": "fCFHrdryL5Ie"
      },
      "execution_count": null,
      "outputs": []
    },
    {
      "cell_type": "markdown",
      "source": [
        "## 20. What is the significance of the super() function?"
      ],
      "metadata": {
        "id": "MQmFKPKSL3mb"
      }
    },
    {
      "cell_type": "markdown",
      "source": [
        "super() allows access to parent class methods."
      ],
      "metadata": {
        "id": "TcYRV5dnL-tp"
      }
    },
    {
      "cell_type": "code",
      "source": [
        "class Parent:\n",
        "    def show(self):\n",
        "        print(\"Parent\")\n",
        "\n",
        "class Child(Parent):\n",
        "    def show(self):\n",
        "        super().show()\n",
        "        print(\"Child\")"
      ],
      "metadata": {
        "id": "0N0lYM-FMBJk"
      },
      "execution_count": null,
      "outputs": []
    },
    {
      "cell_type": "markdown",
      "source": [
        "## 21. What is the significance of the __del__ method?"
      ],
      "metadata": {
        "id": "C3iY2ETcMHyW"
      }
    },
    {
      "cell_type": "markdown",
      "source": [
        "It is a destructor called when an object is deleted."
      ],
      "metadata": {
        "id": "ogxmmhyCMRRa"
      }
    },
    {
      "cell_type": "code",
      "source": [
        "class Example:\n",
        "    def __del__(self):\n",
        "        print(\"Object deleted\")"
      ],
      "metadata": {
        "id": "hOWl-3WWMTCx"
      },
      "execution_count": null,
      "outputs": []
    },
    {
      "cell_type": "markdown",
      "source": [
        "## 22. Difference between @staticmethod and @classmethod?"
      ],
      "metadata": {
        "id": "AlhQjkxgMZoi"
      }
    },
    {
      "cell_type": "markdown",
      "source": [
        "- @staticmethod: No class or instance reference.\n",
        "- @classmethod: Operates on class variables."
      ],
      "metadata": {
        "id": "zhUvXJbrMdY1"
      }
    },
    {
      "cell_type": "markdown",
      "source": [
        "## 23. How does polymorphism work in Python with inheritance?"
      ],
      "metadata": {
        "id": "upzcPtgsMgVg"
      }
    },
    {
      "cell_type": "markdown",
      "source": [
        "Child classes can override parent methods."
      ],
      "metadata": {
        "id": "Jl87JjorMkzO"
      }
    },
    {
      "cell_type": "markdown",
      "source": [
        "## 24. What is method chaining?"
      ],
      "metadata": {
        "id": "SME8L9bpMmFC"
      }
    },
    {
      "cell_type": "markdown",
      "source": [
        "Calling multiple methods in a single statement."
      ],
      "metadata": {
        "id": "PvBjU0d_Murd"
      }
    },
    {
      "cell_type": "code",
      "source": [
        "class Example:\n",
        "    def method1(self):\n",
        "        print(\"Method1\")\n",
        "        return self\n",
        "\n",
        "    def method2(self):\n",
        "        print(\"Method2\")\n",
        "        return self\n",
        "\n",
        "obj = Example().method1().method2()"
      ],
      "metadata": {
        "id": "YJg4rOsjMvOf"
      },
      "execution_count": null,
      "outputs": []
    },
    {
      "cell_type": "markdown",
      "source": [
        "## 25. What is the purpose of __call__?"
      ],
      "metadata": {
        "id": "OaVrprALMwwl"
      }
    },
    {
      "cell_type": "markdown",
      "source": [
        "It makes an object callable like a function."
      ],
      "metadata": {
        "id": "0y8N1tbZM2YO"
      }
    },
    {
      "cell_type": "code",
      "source": [
        "class Example:\n",
        "    def __call__(self):\n",
        "        print(\"Called!\")\n",
        "\n",
        "obj = Example()\n",
        "obj()"
      ],
      "metadata": {
        "id": "C-un_KiJM3Ge"
      },
      "execution_count": null,
      "outputs": []
    },
    {
      "cell_type": "markdown",
      "source": [
        "# Practical Questions"
      ],
      "metadata": {
        "id": "PWwYMeBFNXKb"
      }
    },
    {
      "cell_type": "markdown",
      "source": [
        "## 1. Parent Class Animal with Overridden speak() Method"
      ],
      "metadata": {
        "id": "MsjMQiPvNcvl"
      }
    },
    {
      "cell_type": "code",
      "source": [
        "class Animal:\n",
        "    def speak(self):\n",
        "        print(\"This is a generic animal sound.\")\n",
        "\n",
        "class Dog(Animal):\n",
        "    def speak(self):\n",
        "        print(\"Bark!\")\n",
        "\n",
        "# Example usage\n",
        "dog = Dog()\n",
        "dog.speak()"
      ],
      "metadata": {
        "colab": {
          "base_uri": "https://localhost:8080/"
        },
        "id": "DBZfvvHdPPN-",
        "outputId": "34881fea-38a9-4c91-e251-834b2e3a81dc"
      },
      "execution_count": 1,
      "outputs": [
        {
          "output_type": "stream",
          "name": "stdout",
          "text": [
            "Bark!\n"
          ]
        }
      ]
    },
    {
      "cell_type": "markdown",
      "source": [
        "## 2. Abstract Class Shape with Derived Circle and Rectangle"
      ],
      "metadata": {
        "id": "_btvgAsfPP9n"
      }
    },
    {
      "cell_type": "code",
      "source": [
        "from abc import ABC, abstractmethod\n",
        "\n",
        "class Shape(ABC):\n",
        "    @abstractmethod\n",
        "    def area(self):\n",
        "        pass\n",
        "\n",
        "class Circle(Shape):\n",
        "    def __init__(self, radius):\n",
        "        self.radius = radius\n",
        "\n",
        "    def area(self):\n",
        "        return 3.14 * self.radius * self.radius\n",
        "\n",
        "class Rectangle(Shape):\n",
        "    def __init__(self, length, width):\n",
        "        self.length = length\n",
        "        self.width = width\n",
        "\n",
        "    def area(self):\n",
        "        return self.length * self.width\n",
        "\n",
        "# Example usage\n",
        "circle = Circle(5)\n",
        "rectangle = Rectangle(4, 6)\n",
        "print(circle.area())\n",
        "print(rectangle.area())"
      ],
      "metadata": {
        "colab": {
          "base_uri": "https://localhost:8080/"
        },
        "id": "Ol_x-EUnPQOj",
        "outputId": "d094560e-503a-4a50-bf3f-4880cdc8e3df"
      },
      "execution_count": 2,
      "outputs": [
        {
          "output_type": "stream",
          "name": "stdout",
          "text": [
            "78.5\n",
            "24\n"
          ]
        }
      ]
    },
    {
      "cell_type": "markdown",
      "source": [
        "## 3. Multi-Level Inheritance (Vehicle → Car → ElectricCar)"
      ],
      "metadata": {
        "id": "5OanzkOrPQej"
      }
    },
    {
      "cell_type": "code",
      "source": [
        "class Vehicle:\n",
        "    def __init__(self, type):\n",
        "        self.type = type\n",
        "\n",
        "class Car(Vehicle):\n",
        "    def __init__(self, type, brand):\n",
        "        super().__init__(type)\n",
        "        self.brand = brand\n",
        "\n",
        "class ElectricCar(Car):\n",
        "    def __init__(self, type, brand, battery):\n",
        "        super().__init__(type, brand)\n",
        "        self.battery = battery\n",
        "\n",
        "# Example usage\n",
        "tesla = ElectricCar(\"Car\", \"Tesla\", \"100 kWh\")\n",
        "print(tesla.type, tesla.brand, tesla.battery)"
      ],
      "metadata": {
        "colab": {
          "base_uri": "https://localhost:8080/"
        },
        "id": "iXv0DhmNPQuX",
        "outputId": "e94404b0-67c5-471b-92bd-d12a1f5bc08f"
      },
      "execution_count": 3,
      "outputs": [
        {
          "output_type": "stream",
          "name": "stdout",
          "text": [
            "Car Tesla 100 kWh\n"
          ]
        }
      ]
    },
    {
      "cell_type": "markdown",
      "source": [
        "## 4. Polymorphism with Bird, Sparrow, and Penguin"
      ],
      "metadata": {
        "id": "MdZfUbTtPQ89"
      }
    },
    {
      "cell_type": "code",
      "source": [
        "class Bird:\n",
        "    def fly(self):\n",
        "        print(\"Birds can fly.\")\n",
        "\n",
        "class Sparrow(Bird):\n",
        "    def fly(self):\n",
        "        print(\"Sparrows fly high.\")\n",
        "\n",
        "class Penguin(Bird):\n",
        "    def fly(self):\n",
        "        print(\"Penguins cannot fly.\")\n",
        "\n",
        "# Example usage\n",
        "for bird in [Sparrow(), Penguin()]:\n",
        "    bird.fly()"
      ],
      "metadata": {
        "colab": {
          "base_uri": "https://localhost:8080/"
        },
        "id": "XFvS0DJxPRLU",
        "outputId": "922cc9e1-63f4-42b6-cbec-2035ff95b162"
      },
      "execution_count": 4,
      "outputs": [
        {
          "output_type": "stream",
          "name": "stdout",
          "text": [
            "Sparrows fly high.\n",
            "Penguins cannot fly.\n"
          ]
        }
      ]
    },
    {
      "cell_type": "markdown",
      "source": [
        "## 5. Encapsulation in BankAccount"
      ],
      "metadata": {
        "id": "iVStHMirPRZk"
      }
    },
    {
      "cell_type": "code",
      "source": [
        "class BankAccount:\n",
        "    def __init__(self, balance):\n",
        "        self.__balance = balance  # Private attribute\n",
        "\n",
        "    def deposit(self, amount):\n",
        "        self.__balance += amount\n",
        "\n",
        "    def withdraw(self, amount):\n",
        "        if amount <= self.__balance:\n",
        "            self.__balance -= amount\n",
        "        else:\n",
        "            print(\"Insufficient funds.\")\n",
        "\n",
        "    def get_balance(self):\n",
        "        return self.__balance\n",
        "\n",
        "# Example usage\n",
        "account = BankAccount(1000)\n",
        "account.deposit(500)\n",
        "print(account.get_balance())"
      ],
      "metadata": {
        "colab": {
          "base_uri": "https://localhost:8080/"
        },
        "id": "3KpsNwCpPRoh",
        "outputId": "048de70c-5f8e-4086-db93-0507a32318cc"
      },
      "execution_count": 5,
      "outputs": [
        {
          "output_type": "stream",
          "name": "stdout",
          "text": [
            "1500\n"
          ]
        }
      ]
    },
    {
      "cell_type": "markdown",
      "source": [
        "## 6. Runtime Polymorphism with Instrument"
      ],
      "metadata": {
        "id": "xZ6_cdVjPR3C"
      }
    },
    {
      "cell_type": "code",
      "source": [
        "class Instrument:\n",
        "    def play(self):\n",
        "        print(\"Playing an instrument.\")\n",
        "\n",
        "class Guitar(Instrument):\n",
        "    def play(self):\n",
        "        print(\"Strumming the guitar.\")\n",
        "\n",
        "class Piano(Instrument):\n",
        "    def play(self):\n",
        "        print(\"Playing the piano.\")\n",
        "\n",
        "# Example usage\n",
        "for inst in [Guitar(), Piano()]:\n",
        "    inst.play()"
      ],
      "metadata": {
        "colab": {
          "base_uri": "https://localhost:8080/"
        },
        "id": "IaM3TKNcPSHQ",
        "outputId": "7a73bcd7-c42e-4b60-867f-8efc1f2d3037"
      },
      "execution_count": 6,
      "outputs": [
        {
          "output_type": "stream",
          "name": "stdout",
          "text": [
            "Strumming the guitar.\n",
            "Playing the piano.\n"
          ]
        }
      ]
    },
    {
      "cell_type": "markdown",
      "source": [
        "## 7. Class and Static Methods in MathOperations"
      ],
      "metadata": {
        "id": "Mh8RLHSNPSX-"
      }
    },
    {
      "cell_type": "code",
      "source": [
        "class MathOperations:\n",
        "    @classmethod\n",
        "    def add_numbers(cls, a, b):\n",
        "        return a + b\n",
        "\n",
        "    @staticmethod\n",
        "    def subtract_numbers(a, b):\n",
        "        return a - b\n",
        "\n",
        "print(MathOperations.add_numbers(5, 3))\n",
        "print(MathOperations.subtract_numbers(10, 4))"
      ],
      "metadata": {
        "colab": {
          "base_uri": "https://localhost:8080/"
        },
        "id": "fqpY1mm9PSmQ",
        "outputId": "25ae0432-1b55-4c60-a6c6-176443f34ec9"
      },
      "execution_count": 7,
      "outputs": [
        {
          "output_type": "stream",
          "name": "stdout",
          "text": [
            "8\n",
            "6\n"
          ]
        }
      ]
    },
    {
      "cell_type": "markdown",
      "source": [
        "## 8. Counting Number of Persons Created"
      ],
      "metadata": {
        "id": "_Dg6rGQyPS0B"
      }
    },
    {
      "cell_type": "code",
      "source": [
        "class Person:\n",
        "    count = 0  # Class variable\n",
        "\n",
        "    def __init__(self, name):\n",
        "        self.name = name\n",
        "        Person.count += 1\n",
        "\n",
        "# Example usage\n",
        "p1 = Person(\"Alice\")\n",
        "p2 = Person(\"Bob\")\n",
        "print(Person.count)"
      ],
      "metadata": {
        "colab": {
          "base_uri": "https://localhost:8080/"
        },
        "id": "YX1yu_mYPTCt",
        "outputId": "3c325529-6094-4347-fde1-3025571a1e36"
      },
      "execution_count": 8,
      "outputs": [
        {
          "output_type": "stream",
          "name": "stdout",
          "text": [
            "2\n"
          ]
        }
      ]
    },
    {
      "cell_type": "markdown",
      "source": [
        "## 9. Fraction Class with str Method"
      ],
      "metadata": {
        "id": "VoRBE1lRPTRN"
      }
    },
    {
      "cell_type": "code",
      "source": [
        "class Fraction:\n",
        "    def __init__(self, numerator, denominator):\n",
        "        self.numerator = numerator\n",
        "        self.denominator = denominator\n",
        "\n",
        "    def __str__(self):\n",
        "        return f\"{self.numerator}/{self.denominator}\"\n",
        "\n",
        "# Example usage\n",
        "frac = Fraction(3, 4)\n",
        "print(frac)"
      ],
      "metadata": {
        "colab": {
          "base_uri": "https://localhost:8080/"
        },
        "id": "9MrfOFgiPTf9",
        "outputId": "3cae2bf6-7668-4f7d-c05e-f661cfc4a9de"
      },
      "execution_count": 9,
      "outputs": [
        {
          "output_type": "stream",
          "name": "stdout",
          "text": [
            "3/4\n"
          ]
        }
      ]
    },
    {
      "cell_type": "markdown",
      "source": [
        "## 10. Operator Overloading in Vector Addition"
      ],
      "metadata": {
        "id": "t20-K_sHPTvA"
      }
    },
    {
      "cell_type": "code",
      "source": [
        "class Vector:\n",
        "    def __init__(self, x, y):\n",
        "        self.x = x\n",
        "        self.y = y\n",
        "\n",
        "    def __add__(self, other):\n",
        "        return Vector(self.x + other.x, self.y + other.y)\n",
        "\n",
        "    def __str__(self):\n",
        "        return f\"Vector({self.x}, {self.y})\"\n",
        "\n",
        "# Example usage\n",
        "v1 = Vector(2, 3)\n",
        "v2 = Vector(4, 5)\n",
        "print(v1 + v2)"
      ],
      "metadata": {
        "colab": {
          "base_uri": "https://localhost:8080/"
        },
        "id": "z7rqC4HPPT_L",
        "outputId": "c3006b69-b1fe-42f4-de54-99b2103672c7"
      },
      "execution_count": 10,
      "outputs": [
        {
          "output_type": "stream",
          "name": "stdout",
          "text": [
            "Vector(6, 8)\n"
          ]
        }
      ]
    },
    {
      "cell_type": "markdown",
      "source": [
        "## 11. Person Class with Greet Method"
      ],
      "metadata": {
        "id": "zcuc6e9uPUNw"
      }
    },
    {
      "cell_type": "code",
      "source": [
        "class Person:\n",
        "    def __init__(self, name, age):\n",
        "        self.name = name\n",
        "        self.age = age\n",
        "\n",
        "    def greet(self):\n",
        "        print(f\"Hello, my name is {self.name} and I am {self.age} years old.\")\n",
        "\n",
        "p = Person(\"Alice\", 30)\n",
        "p.greet()"
      ],
      "metadata": {
        "colab": {
          "base_uri": "https://localhost:8080/"
        },
        "id": "1nFxEnuOPUci",
        "outputId": "179be9b0-68a4-4c32-eb29-911b6167bc20"
      },
      "execution_count": 11,
      "outputs": [
        {
          "output_type": "stream",
          "name": "stdout",
          "text": [
            "Hello, my name is Alice and I am 30 years old.\n"
          ]
        }
      ]
    },
    {
      "cell_type": "markdown",
      "source": [
        "## 12. Student Class with average_grade()"
      ],
      "metadata": {
        "id": "JM0ua0shRdBC"
      }
    },
    {
      "cell_type": "code",
      "source": [
        "class Student:\n",
        "    def __init__(self, name, grades):\n",
        "        self.name = name\n",
        "        self.grades = grades\n",
        "\n",
        "    def average_grade(self):\n",
        "        return sum(self.grades) / len(self.grades)\n",
        "\n",
        "s = Student(\"John\", [85, 90, 78])\n",
        "print(s.average_grade())"
      ],
      "metadata": {
        "colab": {
          "base_uri": "https://localhost:8080/"
        },
        "id": "9_a3eX2kRdQ3",
        "outputId": "81e005b0-c8f1-4825-ce01-3fefc919d165"
      },
      "execution_count": 12,
      "outputs": [
        {
          "output_type": "stream",
          "name": "stdout",
          "text": [
            "84.33333333333333\n"
          ]
        }
      ]
    },
    {
      "cell_type": "markdown",
      "source": [
        "## 13. Rectangle Class with set_dimensions() and area()"
      ],
      "metadata": {
        "id": "-QfiGv8BRdeC"
      }
    },
    {
      "cell_type": "code",
      "source": [
        "class Rectangle:\n",
        "    def set_dimensions(self, length, width):\n",
        "        self.length = length\n",
        "        self.width = width\n",
        "\n",
        "    def area(self):\n",
        "        return self.length * self.width\n",
        "\n",
        "rect = Rectangle()\n",
        "rect.set_dimensions(5, 10)\n",
        "print(rect.area())"
      ],
      "metadata": {
        "colab": {
          "base_uri": "https://localhost:8080/"
        },
        "id": "m5sOJUedRdrw",
        "outputId": "2cc7ae40-a93e-4d8c-90d1-b850bababba6"
      },
      "execution_count": 13,
      "outputs": [
        {
          "output_type": "stream",
          "name": "stdout",
          "text": [
            "50\n"
          ]
        }
      ]
    },
    {
      "cell_type": "markdown",
      "source": [
        "## 14. Employee and Manager Class"
      ],
      "metadata": {
        "id": "sv6rjqupRd6f"
      }
    },
    {
      "cell_type": "code",
      "source": [
        "class Employee:\n",
        "    def calculate_salary(self, hours_worked, hourly_rate):\n",
        "        return hours_worked * hourly_rate\n",
        "\n",
        "class Manager(Employee):\n",
        "    def calculate_salary(self, hours_worked, hourly_rate, bonus):\n",
        "        return super().calculate_salary(hours_worked, hourly_rate) + bonus\n",
        "\n",
        "m = Manager()\n",
        "print(m.calculate_salary(40, 50, 1000))"
      ],
      "metadata": {
        "colab": {
          "base_uri": "https://localhost:8080/"
        },
        "id": "bpMCIMrBReIj",
        "outputId": "3a45a697-a144-48d1-eade-05fad0eab756"
      },
      "execution_count": 14,
      "outputs": [
        {
          "output_type": "stream",
          "name": "stdout",
          "text": [
            "3000\n"
          ]
        }
      ]
    },
    {
      "cell_type": "markdown",
      "source": [
        "## 15. Product Class with total_price()"
      ],
      "metadata": {
        "id": "ajwAMTSSReWy"
      }
    },
    {
      "cell_type": "code",
      "source": [
        "class Product:\n",
        "    def __init__(self, name, price, quantity):\n",
        "        self.name = name\n",
        "        self.price = price\n",
        "        self.quantity = quantity\n",
        "\n",
        "    def total_price(self):\n",
        "        return self.price * self.quantity\n",
        "\n",
        "p = Product(\"Laptop\", 1000, 2)\n",
        "print(p.total_price())"
      ],
      "metadata": {
        "colab": {
          "base_uri": "https://localhost:8080/"
        },
        "id": "m96EWIBYRek_",
        "outputId": "c7781994-9685-4284-8542-405966ff8bb7"
      },
      "execution_count": 15,
      "outputs": [
        {
          "output_type": "stream",
          "name": "stdout",
          "text": [
            "2000\n"
          ]
        }
      ]
    },
    {
      "cell_type": "markdown",
      "source": [
        "## 16. Abstract Class Animal with Derived Cow and Sheep"
      ],
      "metadata": {
        "id": "j6sAGEeVSD1q"
      }
    },
    {
      "cell_type": "code",
      "source": [
        "class Animal(ABC):\n",
        "    @abstractmethod\n",
        "    def sound(self):\n",
        "        pass\n",
        "\n",
        "class Cow(Animal):\n",
        "    def sound(self):\n",
        "        return \"Moo\"\n",
        "\n",
        "class Sheep(Animal):\n",
        "    def sound(self):\n",
        "        return \"Baa\"\n",
        "\n",
        "print(Cow().sound())"
      ],
      "metadata": {
        "colab": {
          "base_uri": "https://localhost:8080/"
        },
        "id": "LJ1klZNFSEDR",
        "outputId": "09863091-e2d2-4301-86d5-3143301836cf"
      },
      "execution_count": 16,
      "outputs": [
        {
          "output_type": "stream",
          "name": "stdout",
          "text": [
            "Moo\n"
          ]
        }
      ]
    },
    {
      "cell_type": "markdown",
      "source": [
        "## 17. Book Class with get_book_info()"
      ],
      "metadata": {
        "id": "i1dyIfqhSENe"
      }
    },
    {
      "cell_type": "code",
      "source": [
        "class Book:\n",
        "    def __init__(self, title, author, year):\n",
        "        self.title = title\n",
        "        self.author = author\n",
        "        self.year = year\n",
        "\n",
        "    def get_book_info(self):\n",
        "        return f\"{self.title} by {self.author}, published in {self.year}\"\n",
        "\n",
        "b = Book(\"1984\", \"George Orwell\", 1949)\n",
        "print(b.get_book_info())"
      ],
      "metadata": {
        "colab": {
          "base_uri": "https://localhost:8080/"
        },
        "id": "O_Nnz9SvSEX0",
        "outputId": "f36af7fe-0d80-43d9-eed6-4b6118b94f9d"
      },
      "execution_count": 17,
      "outputs": [
        {
          "output_type": "stream",
          "name": "stdout",
          "text": [
            "1984 by George Orwell, published in 1949\n"
          ]
        }
      ]
    },
    {
      "cell_type": "markdown",
      "source": [
        "## 18. House and Mansion Class"
      ],
      "metadata": {
        "id": "SQaFipuPSFNj"
      }
    },
    {
      "cell_type": "code",
      "source": [
        "class House:\n",
        "    def __init__(self, address, price):\n",
        "        self.address = address\n",
        "        self.price = price\n",
        "\n",
        "class Mansion(House):\n",
        "    def __init__(self, address, price, rooms):\n",
        "        super().__init__(address, price)\n",
        "        self.rooms = rooms"
      ],
      "metadata": {
        "id": "s3qicfI9SFaz"
      },
      "execution_count": 20,
      "outputs": []
    },
    {
      "cell_type": "markdown",
      "source": [],
      "metadata": {
        "id": "Im6Gc9mTSt1q"
      }
    }
  ]
}