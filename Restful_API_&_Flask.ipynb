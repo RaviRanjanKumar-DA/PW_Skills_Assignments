{
  "nbformat": 4,
  "nbformat_minor": 0,
  "metadata": {
    "colab": {
      "provenance": []
    },
    "kernelspec": {
      "name": "python3",
      "display_name": "Python 3"
    },
    "language_info": {
      "name": "python"
    }
  },
  "cells": [
    {
      "cell_type": "markdown",
      "source": [
        "# Theory Questions:-"
      ],
      "metadata": {
        "id": "tRsOG5o8NOjT"
      }
    },
    {
      "cell_type": "markdown",
      "source": [
        "## 1. What is a RESTful API?"
      ],
      "metadata": {
        "id": "zWIJeDWWNTVG"
      }
    },
    {
      "cell_type": "markdown",
      "source": [
        "A RESTful API is an application programming interface that adheres to the principles of REST (Representational State Transfer). It uses standard HTTP methods (GET, POST, PUT, DELETE) to perform operations on resources, typically represented in JSON or XML."
      ],
      "metadata": {
        "id": "Ecr6rIa8NY9Y"
      }
    },
    {
      "cell_type": "markdown",
      "source": [
        "## 2. Explain the concept of API specification."
      ],
      "metadata": {
        "id": "It9F5wIwNnww"
      }
    },
    {
      "cell_type": "markdown",
      "source": [
        "An API specification is a formal description of how an API works, including:\n",
        "\n",
        "- Available endpoints and their URLs\n",
        "- HTTP methods supported\n",
        "- Request/response formats\n",
        "- Authentication methods\n",
        "- Status codes"
      ],
      "metadata": {
        "id": "8-7OdMmDNwXO"
      }
    },
    {
      "cell_type": "markdown",
      "source": [
        "## 3. What is Flask, and why is it popular for building APIs?"
      ],
      "metadata": {
        "id": "uGVfbzMBN7dK"
      }
    },
    {
      "cell_type": "markdown",
      "source": [
        "Flask is a lightweight Python web framework that is easy to use and highly extensible. It’s popular because:\n",
        "\n",
        "- Minimal setup\n",
        "- Great flexibility\n",
        "- Built-in development server and debugger\n",
        "- Rich ecosystem (Flask-SQLAlchemy, Flask-RESTful, etc.)"
      ],
      "metadata": {
        "id": "1D80RPDrOAQK"
      }
    },
    {
      "cell_type": "markdown",
      "source": [
        "## 4. What is routing in Flask?"
      ],
      "metadata": {
        "id": "xPH3p2d1OIGu"
      }
    },
    {
      "cell_type": "markdown",
      "source": [
        "Routing in Flask maps URLs to functions. It allows you to define what code runs when a specific URL is requested."
      ],
      "metadata": {
        "id": "jrzTd_xrOLzg"
      }
    },
    {
      "cell_type": "code",
      "source": [
        "@app.route('/hello')\n",
        "def hello():\n",
        "    return 'Hello World!'"
      ],
      "metadata": {
        "id": "m8GIbb_kOXmd"
      },
      "execution_count": null,
      "outputs": []
    },
    {
      "cell_type": "markdown",
      "source": [
        "## 5. How do you create a simple Flask application?"
      ],
      "metadata": {
        "id": "ObJ2AOWgOZfu"
      }
    },
    {
      "cell_type": "markdown",
      "source": [
        "Creating a Simple Flask Application\n",
        "- Install Flask\n",
        "- Basic Flask App Code\n",
        "- Run the App In your terminal"
      ],
      "metadata": {
        "id": "fPa0UTQZOc1b"
      }
    },
    {
      "cell_type": "code",
      "source": [
        "pip install flask\n",
        "\n",
        "\n",
        "# app.py\n",
        "\n",
        "from flask import Flask\n",
        "\n",
        "app = Flask(__name__)  # Create Flask app instance\n",
        "\n",
        "@app.route('/')  # Define route for the homepage\n",
        "def home():\n",
        "    return 'Hello, Flask! 🎉'\n",
        "\n",
        "if __name__ == '__main__':\n",
        "    app.run(debug=True)  # Start the server with debug mode\n",
        "\n"
      ],
      "metadata": {
        "id": "jBWVvwrUO1w9"
      },
      "execution_count": null,
      "outputs": []
    },
    {
      "cell_type": "markdown",
      "source": [
        "## 6. What are HTTP methods used in RESTful APIs?"
      ],
      "metadata": {
        "id": "qIhmR2O2PGiU"
      }
    },
    {
      "cell_type": "markdown",
      "source": [
        "GET – Retrieve data\n",
        "\n",
        "POST – Create new data\n",
        "\n",
        "PUT – Update existing data\n",
        "\n",
        "PATCH – Partially update data\n",
        "\n",
        "DELETE – Remove data"
      ],
      "metadata": {
        "id": "b_dtYXrGPMY_"
      }
    },
    {
      "cell_type": "markdown",
      "source": [
        "## 7. What is the purpose of the @app.route() decorator in Flask?"
      ],
      "metadata": {
        "id": "lNl8g0rrPSCI"
      }
    },
    {
      "cell_type": "markdown",
      "source": [
        "It tells Flask to bind a function to a URL. This sets up routing so that the function is triggered when that URL is accessed."
      ],
      "metadata": {
        "id": "vEr0n23tPXpa"
      }
    },
    {
      "cell_type": "markdown",
      "source": [
        "## 8. What is the difference between GET and POST HTTP methods?"
      ],
      "metadata": {
        "id": "DsAPQqXNPZDo"
      }
    },
    {
      "cell_type": "markdown",
      "source": [
        "GET: Retrieves data; parameters are in the URL; safe and idempotent.\n",
        "\n",
        "POST: Sends data to the server; used to create resources; data is in the request body."
      ],
      "metadata": {
        "id": "4pdVQvpSUE05"
      }
    },
    {
      "cell_type": "markdown",
      "source": [
        "## 9. How do you handle errors in Flask APIs?"
      ],
      "metadata": {
        "id": "44PawbhzUHZ1"
      }
    },
    {
      "cell_type": "markdown",
      "source": [
        "You can use @app.errorhandler() decorators or Flask's built-in abort() function."
      ],
      "metadata": {
        "id": "2u5LGFzDUJfl"
      }
    },
    {
      "cell_type": "code",
      "source": [
        "from flask import abort\n",
        "\n",
        "@app.route('/item/<int:id>')\n",
        "def get_item(id):\n",
        "    if id > 10:\n",
        "        abort(404)\n",
        "    return {'item': id}"
      ],
      "metadata": {
        "id": "dngS6jNtULEP"
      },
      "execution_count": null,
      "outputs": []
    },
    {
      "cell_type": "markdown",
      "source": [
        "## 10. How do you connect Flask to a SQL database?"
      ],
      "metadata": {
        "id": "8b2R2IQIUMWM"
      }
    },
    {
      "cell_type": "markdown",
      "source": [
        "You can use Flask-SQLAlchemy:"
      ],
      "metadata": {
        "id": "tK6qo4XBUO57"
      }
    },
    {
      "cell_type": "code",
      "source": [
        "from flask_sqlalchemy import SQLAlchemy\n",
        "\n",
        "app.config['SQLALCHEMY_DATABASE_URI'] = 'sqlite:///data.db'\n",
        "db = SQLAlchemy(app)"
      ],
      "metadata": {
        "id": "etzw0JwEUQtw"
      },
      "execution_count": null,
      "outputs": []
    },
    {
      "cell_type": "markdown",
      "source": [
        "## 11. What is the role of Flask-SQLAlchemy?"
      ],
      "metadata": {
        "id": "U3Q8ug0qUUtE"
      }
    },
    {
      "cell_type": "markdown",
      "source": [
        "It is an ORM (Object Relational Mapper) for Flask. It simplifies database operations by allowing you to interact with your database using Python classes and objects instead of raw SQL queries."
      ],
      "metadata": {
        "id": "cYWRhrnnUZFY"
      }
    },
    {
      "cell_type": "markdown",
      "source": [
        "## 12. What are Flask blueprints, and how are they useful?"
      ],
      "metadata": {
        "id": "UCfwZ3ASUeLU"
      }
    },
    {
      "cell_type": "markdown",
      "source": [
        "Blueprints help in organizing a Flask app into components or modules, making large applications easier to manage."
      ],
      "metadata": {
        "id": "avD_u1IBUh5i"
      }
    },
    {
      "cell_type": "code",
      "source": [
        "from flask import Blueprint\n",
        "\n",
        "user_bp = Blueprint('user', __name__)\n",
        "\n",
        "@user_bp.route('/login')\n",
        "def login():\n",
        "    return 'Login page'"
      ],
      "metadata": {
        "id": "8BbjDdN5Ul2m"
      },
      "execution_count": null,
      "outputs": []
    },
    {
      "cell_type": "markdown",
      "source": [
        "## 13. What is the purpose of Flask's request object?"
      ],
      "metadata": {
        "id": "hN4LhRRuUoAk"
      }
    },
    {
      "cell_type": "markdown",
      "source": [
        "The request object provides access to data sent by the client:\n",
        "\n",
        "- request.args – query parameters\n",
        "\n",
        "- request.form – form data\n",
        "\n",
        "- request.json – JSON body"
      ],
      "metadata": {
        "id": "CR5U1VTlUrDc"
      }
    },
    {
      "cell_type": "markdown",
      "source": [
        "## 14. How do you create a RESTful API endpoint using Flask?"
      ],
      "metadata": {
        "id": "D4bUSuW6UwMO"
      }
    },
    {
      "cell_type": "code",
      "source": [
        "from flask import Flask, jsonify\n",
        "\n",
        "@app.route('/api/data', methods=['GET'])\n",
        "def get_data():\n",
        "    return jsonify({'name': 'Ravi', 'role': 'Analyst'})"
      ],
      "metadata": {
        "id": "mCv6B5X7U0Zi"
      },
      "execution_count": null,
      "outputs": []
    },
    {
      "cell_type": "markdown",
      "source": [
        "## 15. What is the purpose of Flask's jsonify() function?"
      ],
      "metadata": {
        "id": "QN9V73xYUzUA"
      }
    },
    {
      "cell_type": "markdown",
      "source": [
        "jsonify() converts Python dictionaries/lists to JSON responses, with proper headers and content type."
      ],
      "metadata": {
        "id": "aW3S9DenU_We"
      }
    },
    {
      "cell_type": "markdown",
      "source": [
        "## 16. Explain Flask’s url_for() function."
      ],
      "metadata": {
        "id": "bfAxkGxMVBfo"
      }
    },
    {
      "cell_type": "markdown",
      "source": [
        "url_for() dynamically builds a URL for a specific function, which helps in avoiding hardcoded URLs."
      ],
      "metadata": {
        "id": "5QUpQhehVDLh"
      }
    },
    {
      "cell_type": "code",
      "source": [
        "url_for('login')  # returns '/login'"
      ],
      "metadata": {
        "id": "h7emuwgKVMOD"
      },
      "execution_count": null,
      "outputs": []
    },
    {
      "cell_type": "markdown",
      "source": [
        "## 17. How does Flask handle static files (CSS, JavaScript, etc.)?"
      ],
      "metadata": {
        "id": "Uj0QvarBVKwq"
      }
    },
    {
      "cell_type": "markdown",
      "source": [
        "Place them in the /static/ folder. Access like:\n",
        "<link rel=\"stylesheet\" href=\"{{ url_for('static', filename='style.css') }}\">"
      ],
      "metadata": {
        "id": "akVrj6IxVO2W"
      }
    },
    {
      "cell_type": "markdown",
      "source": [
        "## 18. What is an API specification, and how does it help in building a Flask API?"
      ],
      "metadata": {
        "id": "OmGwXFH7VSil"
      }
    },
    {
      "cell_type": "markdown",
      "source": [
        "It acts as a blueprint for designing, building, and documenting the API. It ensures consistency, helps frontend/backend teams collaborate, and allows for auto-generated documentation."
      ],
      "metadata": {
        "id": "bkdIfkgHVTuo"
      }
    },
    {
      "cell_type": "markdown",
      "source": [
        "## 19. What are HTTP status codes, and why are they important in a Flask API?"
      ],
      "metadata": {
        "id": "qvNzcqe6VW9p"
      }
    },
    {
      "cell_type": "markdown",
      "source": [
        "Status codes indicate the result of a request:\n",
        "\n",
        "- 200 OK\n",
        "\n",
        "- 201 Created\n",
        "\n",
        "- 400 Bad Request\n",
        "\n",
        "- 401 Unauthorized\n",
        "\n",
        "- 404 Not Found\n",
        "\n",
        "- 500 Internal Server Error\n",
        "\n",
        "They help clients handle responses correctly."
      ],
      "metadata": {
        "id": "_dL0vNFoVY1k"
      }
    },
    {
      "cell_type": "markdown",
      "source": [
        "## 20. How do you handle POST requests in Flask?"
      ],
      "metadata": {
        "id": "OKH7qOkbVj3b"
      }
    },
    {
      "cell_type": "code",
      "source": [
        "from flask import request\n",
        "\n",
        "@app.route('/submit', methods=['POST'])\n",
        "def submit():\n",
        "    data = request.json\n",
        "    return jsonify(data), 201"
      ],
      "metadata": {
        "id": "3QKaRJ6KVqKw"
      },
      "execution_count": null,
      "outputs": []
    },
    {
      "cell_type": "markdown",
      "source": [
        "## 21. How would you secure a Flask API?"
      ],
      "metadata": {
        "id": "JuxvsTqqVoK9"
      }
    },
    {
      "cell_type": "markdown",
      "source": [
        "Use HTTPS\n",
        "\n",
        "Implement authentication (JWT, OAuth)\n",
        "\n",
        "Validate inputs\n",
        "\n",
        "Use rate limiting\n",
        "\n",
        "Use Flask-CORS for cross-origin control\n",
        "\n",
        "Sanitize data to prevent injection attacks"
      ],
      "metadata": {
        "id": "5Oy_B9W_VuQv"
      }
    },
    {
      "cell_type": "markdown",
      "source": [
        "## 22. What is the significance of the Flask-RESTful extension?"
      ],
      "metadata": {
        "id": "9kckapk0VwZG"
      }
    },
    {
      "cell_type": "markdown",
      "source": [
        "Flask-RESTful simplifies building REST APIs by providing:\n",
        "\n",
        "- Resource classes\n",
        "\n",
        "- Input parsing\n",
        "\n",
        "- Built-in HTTP methods"
      ],
      "metadata": {
        "id": "Ykr6KkUAVyk7"
      }
    },
    {
      "cell_type": "code",
      "source": [
        "from flask_restful import Resource\n",
        "\n",
        "class Hello(Resource):\n",
        "    def get(self):\n",
        "        return {'message': 'Hello'}"
      ],
      "metadata": {
        "id": "AFlej6RFV4Ag"
      },
      "execution_count": null,
      "outputs": []
    },
    {
      "cell_type": "markdown",
      "source": [
        "## 23. What is the role of Flask’s session object?"
      ],
      "metadata": {
        "id": "zVwTQXLfV2VQ"
      }
    },
    {
      "cell_type": "markdown",
      "source": [
        "The session object stores user-specific data across requests. Data is stored in a cookie, signed securely with the app’s secret key."
      ],
      "metadata": {
        "id": "ZeHqOBX6V7kB"
      }
    },
    {
      "cell_type": "code",
      "source": [
        "from flask import session\n",
        "\n",
        "session['user'] = 'Ravi'"
      ],
      "metadata": {
        "id": "oASs3R1eV-E2"
      },
      "execution_count": null,
      "outputs": []
    },
    {
      "cell_type": "markdown",
      "source": [
        "# Practical Questions:-"
      ],
      "metadata": {
        "id": "X77ueqE0V9Zb"
      }
    },
    {
      "cell_type": "markdown",
      "source": [
        "## 1. How do you create a basic Flask application?"
      ],
      "metadata": {
        "id": "9iBiGZGBWGcw"
      }
    },
    {
      "cell_type": "code",
      "source": [
        "from flask import Flask\n",
        "app = Flask(__name__)\n",
        "\n",
        "@app.route('/')\n",
        "def home():\n",
        "    return 'Hello Flask!'\n",
        "\n",
        "if __name__ == '__main__':\n",
        "    app.run(debug=True)"
      ],
      "metadata": {
        "id": "JfK4mAzbW4um"
      },
      "execution_count": null,
      "outputs": []
    },
    {
      "cell_type": "markdown",
      "source": [
        "##  2. How do you serve static files like images or CSS in Flask?"
      ],
      "metadata": {
        "id": "BVVg5z1bW31M"
      }
    },
    {
      "cell_type": "code",
      "source": [
        "# Access in HTML:\n",
        "\n",
        "<link rel=\"stylesheet\" href=\"{{ url_for('static', filename='style.css') }}\">\n",
        "<img src=\"{{ url_for('static', filename='logo.png') }}\">"
      ],
      "metadata": {
        "id": "CpElwJOyW9pO"
      },
      "execution_count": null,
      "outputs": []
    },
    {
      "cell_type": "markdown",
      "source": [
        "## 3. How do you define different routes with different HTTP methods in Flask?"
      ],
      "metadata": {
        "id": "qyfTWuNKXHjc"
      }
    },
    {
      "cell_type": "code",
      "source": [
        "@app.route('/submit', methods=['GET', 'POST'])\n",
        "def submit():\n",
        "    if request.method == 'POST':\n",
        "        return 'Form Submitted'\n",
        "    return 'Form Page'"
      ],
      "metadata": {
        "id": "gQoFbLtfXK20"
      },
      "execution_count": null,
      "outputs": []
    },
    {
      "cell_type": "markdown",
      "source": [
        "## 4. How do you render HTML templates in Flask?"
      ],
      "metadata": {
        "id": "ppovGqJeXNag"
      }
    },
    {
      "cell_type": "code",
      "source": [
        "# app.py:\n",
        "from flask import render_template\n",
        "\n",
        "@app.route('/')\n",
        "def home():\n",
        "    return render_template('index.html')"
      ],
      "metadata": {
        "id": "d0ELZld0XOeQ"
      },
      "execution_count": null,
      "outputs": []
    },
    {
      "cell_type": "code",
      "source": [
        "# templates/index.html:\n",
        "<!DOCTYPE html>\n",
        "<html>\n",
        "<head><title>Home</title></head>\n",
        "<body><h1>Hello from HTML!</h1></body>\n",
        "</html>"
      ],
      "metadata": {
        "id": "U3h4UN3sXa6C"
      },
      "execution_count": null,
      "outputs": []
    },
    {
      "cell_type": "markdown",
      "source": [
        "## 5. How can you generate URLs for routes in Flask using url_for()?"
      ],
      "metadata": {
        "id": "g6K4CvMJXbny"
      }
    },
    {
      "cell_type": "code",
      "source": [
        "@app.route('/user/<username>')\n",
        "def profile(username):\n",
        "    return f\"Hello, {username}\"\n",
        "\n",
        "url_for('profile', username='ravi')  # Output: /user/ravi"
      ],
      "metadata": {
        "id": "diMxn5U3XdtR"
      },
      "execution_count": null,
      "outputs": []
    },
    {
      "cell_type": "markdown",
      "source": [
        "## 6. How do you handle forms in Flask?"
      ],
      "metadata": {
        "id": "92YjSoUqXnHG"
      }
    },
    {
      "cell_type": "code",
      "source": [
        "# HTML\n",
        "<!-- HTML (templates/form.html) -->\n",
        "<form action=\"/submit\" method=\"post\">\n",
        "  <input type=\"text\" name=\"username\">\n",
        "  <input type=\"submit\">\n",
        "</form>"
      ],
      "metadata": {
        "id": "4nJBrWQDXqAG"
      },
      "execution_count": null,
      "outputs": []
    },
    {
      "cell_type": "code",
      "source": [
        "# Python\n",
        "@app.route('/submit', methods=['POST'])\n",
        "def submit():\n",
        "    username = request.form['username']\n",
        "    return f'Hello {username}'"
      ],
      "metadata": {
        "id": "Mqy6y-dkX0Fq"
      },
      "execution_count": null,
      "outputs": []
    },
    {
      "cell_type": "markdown",
      "source": [
        "## 7. How can you validate form data in Flask?"
      ],
      "metadata": {
        "id": "20Q53-44X4O4"
      }
    },
    {
      "cell_type": "code",
      "source": [
        "pip install flask-wtf\n",
        "\n",
        "from flask_wtf import FlaskForm\n",
        "from wtforms import StringField\n",
        "from wtforms.validators import DataRequired\n",
        "\n",
        "class MyForm(FlaskForm):\n",
        "    name = StringField('Name', validators=[DataRequired()])\n",
        "\n",
        "\n",
        "# In the route:\n",
        "form = MyForm()\n",
        "if form.validate_on_submit():\n",
        "    name = form.name.data"
      ],
      "metadata": {
        "id": "FyEntrZnX6uT"
      },
      "execution_count": null,
      "outputs": []
    },
    {
      "cell_type": "markdown",
      "source": [
        "## 8. How do you manage sessions in Flask?"
      ],
      "metadata": {
        "id": "tGSwXEK1YHiO"
      }
    },
    {
      "cell_type": "code",
      "source": [
        "from flask import session\n",
        "\n",
        "app.secret_key = 'your_secret'\n",
        "\n",
        "@app.route('/set/')\n",
        "def set_session():\n",
        "    session['user'] = 'Ravi'\n",
        "    return 'Session Set'\n",
        "\n",
        "@app.route('/get/')\n",
        "def get_session():\n",
        "    return session.get('user', 'Not logged in')"
      ],
      "metadata": {
        "id": "05x4rootYKW7"
      },
      "execution_count": null,
      "outputs": []
    },
    {
      "cell_type": "markdown",
      "source": [
        "## 9. How do you redirect to a different route in Flask?"
      ],
      "metadata": {
        "id": "rcpv5GfDYMBo"
      }
    },
    {
      "cell_type": "code",
      "source": [
        "from flask import redirect, url_for\n",
        "\n",
        "@app.route('/go-home')\n",
        "def go_home():\n",
        "    return redirect(url_for('home'))"
      ],
      "metadata": {
        "id": "fstxIstjYOSM"
      },
      "execution_count": null,
      "outputs": []
    },
    {
      "cell_type": "markdown",
      "source": [
        "## 10. How do you handle errors in Flask (e.g., 404)?"
      ],
      "metadata": {
        "id": "NS1qQGvgYQwa"
      }
    },
    {
      "cell_type": "code",
      "source": [
        "@app.errorhandler(404)\n",
        "def page_not_found(e):\n",
        "    return render_template('404.html'), 404"
      ],
      "metadata": {
        "id": "dfOrqjiUYQC0"
      },
      "execution_count": null,
      "outputs": []
    },
    {
      "cell_type": "markdown",
      "source": [
        "## 11. How do you structure a Flask app using Blueprints?"
      ],
      "metadata": {
        "id": "wkIISk8IYU54"
      }
    },
    {
      "cell_type": "code",
      "source": [
        "# project/user/routes.py\n",
        "from flask import Blueprint\n",
        "\n",
        "user_bp = Blueprint('user', __name__)\n",
        "\n",
        "@user_bp.route('/login')\n",
        "def login():\n",
        "    return 'User Login'"
      ],
      "metadata": {
        "id": "w989yT5uYWz9"
      },
      "execution_count": null,
      "outputs": []
    },
    {
      "cell_type": "code",
      "source": [
        "# In your main app:\n",
        "from project.user.routes import user_bp\n",
        "app.register_blueprint(user_bp, url_prefix='/user')"
      ],
      "metadata": {
        "id": "n6yY5i1TYboa"
      },
      "execution_count": null,
      "outputs": []
    },
    {
      "cell_type": "markdown",
      "source": [
        "## 12. How do you define a custom Jinja filter in Flask?"
      ],
      "metadata": {
        "id": "T0cJy01WYfXG"
      }
    },
    {
      "cell_type": "code",
      "source": [
        "@app.template_filter('reverse')\n",
        "def reverse_filter(s):\n",
        "    return s[::-1]\n",
        "\n",
        "\n",
        "# In template:\n",
        "{{ 'Flask'|reverse }}  <!-- Output: ksalF -->"
      ],
      "metadata": {
        "id": "aqvEqER2YhXr"
      },
      "execution_count": null,
      "outputs": []
    },
    {
      "cell_type": "markdown",
      "source": [
        "## 13. How can you redirect with query parameters in Flask?"
      ],
      "metadata": {
        "id": "vzuxP4CiYmPi"
      }
    },
    {
      "cell_type": "code",
      "source": [
        "return redirect(url_for('search', q='flask', page=2))"
      ],
      "metadata": {
        "id": "gwZGShTUYo6-"
      },
      "execution_count": null,
      "outputs": []
    },
    {
      "cell_type": "markdown",
      "source": [
        "## 14. How do you return JSON responses in Flask?"
      ],
      "metadata": {
        "id": "Dw_E8oXAYqaQ"
      }
    },
    {
      "cell_type": "code",
      "source": [
        "from flask import jsonify\n",
        "\n",
        "@app.route('/data')\n",
        "def data():\n",
        "    return jsonify({'name': 'Ravi', 'role': 'Analyst'})"
      ],
      "metadata": {
        "id": "0VTLtMBuYsX6"
      },
      "execution_count": null,
      "outputs": []
    },
    {
      "cell_type": "markdown",
      "source": [
        "## 15. How do you capture URL parameters in Flask?"
      ],
      "metadata": {
        "id": "sHmSRNJ0YtsO"
      }
    },
    {
      "cell_type": "code",
      "source": [
        "@app.route('/user/<username>')\n",
        "def profile(username):\n",
        "    return f'Hello, {username}'"
      ],
      "metadata": {
        "id": "tvVi3FqjYvXq"
      },
      "execution_count": null,
      "outputs": []
    }
  ]
}