{
  "nbformat": 4,
  "nbformat_minor": 0,
  "metadata": {
    "colab": {
      "provenance": []
    },
    "kernelspec": {
      "name": "python3",
      "display_name": "Python 3"
    },
    "language_info": {
      "name": "python"
    }
  },
  "cells": [
    {
      "cell_type": "markdown",
      "source": [
        "# Part-1"
      ],
      "metadata": {
        "id": "Ha8_Aq_rXV_f"
      }
    },
    {
      "cell_type": "markdown",
      "source": [
        "1. Write a Python program to generate a random variable and display its value."
      ],
      "metadata": {
        "id": "zC4-dffNXack"
      }
    },
    {
      "cell_type": "code",
      "source": [
        "import random\n",
        "\n",
        "# Generate a random float between 0 and 1\n",
        "random_variable = random.random()\n",
        "print(\"Random Variable:\", random_variable)"
      ],
      "metadata": {
        "id": "NCeDvgBxrZ50"
      },
      "execution_count": null,
      "outputs": []
    },
    {
      "cell_type": "markdown",
      "source": [],
      "metadata": {
        "id": "J_JWNVTxrbnO"
      }
    },
    {
      "cell_type": "markdown",
      "source": [
        "2. Generate a discrete uniform distribution using Python and plot the probability mass function (PMF).\n"
      ],
      "metadata": {
        "id": "JDCFp9GYrVF5"
      }
    },
    {
      "cell_type": "code",
      "source": [
        "import numpy as np\n",
        "import matplotlib.pyplot as plt\n",
        "from scipy.stats import randint\n",
        "\n",
        "# Parameters\n",
        "low, high = 1, 7  # Like rolling a die\n",
        "x = np.arange(low, high)\n",
        "pmf = randint.pmf(x, low, high)\n",
        "\n",
        "plt.stem(x, pmf, use_line_collection=True)\n",
        "plt.title('PMF of Discrete Uniform Distribution (Die Roll)')\n",
        "plt.xlabel('Value')\n",
        "plt.ylabel('Probability')\n",
        "plt.show()"
      ],
      "metadata": {
        "id": "9wlbO2_arzCj"
      },
      "execution_count": null,
      "outputs": []
    },
    {
      "cell_type": "markdown",
      "source": [
        "3. Write a Python function to calculate the probability distribution function (PDF) of a Bernoulli distribution."
      ],
      "metadata": {
        "id": "f0Y3VhedsELz"
      }
    },
    {
      "cell_type": "code",
      "source": [
        "from scipy.stats import bernoulli\n",
        "\n",
        "def bernoulli_pdf(p, x):\n",
        "    return bernoulli.pmf(x, p)\n",
        "\n",
        "# Example\n",
        "p = 0.6\n",
        "print(\"PDF at x=0:\", bernoulli_pdf(p, 0))\n",
        "print(\"PDF at x=1:\", bernoulli_pdf(p, 1))"
      ],
      "metadata": {
        "id": "kV0rLEYlsHDE"
      },
      "execution_count": null,
      "outputs": []
    },
    {
      "cell_type": "markdown",
      "source": [
        "4. Write a Python script to simulate a binomial distribution with n=10 and p=O.5, then plot its histogram."
      ],
      "metadata": {
        "id": "u6nBBpzKsKU7"
      }
    },
    {
      "cell_type": "code",
      "source": [
        "from scipy.stats import binom\n",
        "\n",
        "# Simulate\n",
        "data = binom.rvs(n=10, p=0.5, size=1000)\n",
        "\n",
        "# Plot\n",
        "plt.hist(data, bins=range(12), density=True, alpha=0.7, color='skyblue', edgecolor='black')\n",
        "plt.title('Binomial Distribution Histogram (n=10, p=0.5)')\n",
        "plt.xlabel('Successes')\n",
        "plt.ylabel('Frequency')\n",
        "plt.show()"
      ],
      "metadata": {
        "id": "lVDhzH1SsOhs"
      },
      "execution_count": null,
      "outputs": []
    },
    {
      "cell_type": "markdown",
      "source": [
        "5. Create a Poisson distribution and visualize it using Python."
      ],
      "metadata": {
        "id": "tDgljiBdsTQH"
      }
    },
    {
      "cell_type": "code",
      "source": [
        "from scipy.stats import poisson\n",
        "\n",
        "mu = 3  # average rate\n",
        "x = np.arange(0, 15)\n",
        "pmf = poisson.pmf(x, mu)\n",
        "\n",
        "plt.stem(x, pmf, use_line_collection=True)\n",
        "plt.title('Poisson Distribution (mu = 3)')\n",
        "plt.xlabel('Number of Events')\n",
        "plt.ylabel('Probability')\n",
        "plt.show()"
      ],
      "metadata": {
        "id": "O6mI2fdXsSkD"
      },
      "execution_count": null,
      "outputs": []
    },
    {
      "cell_type": "markdown",
      "source": [
        "6. Write a Python program to calculate and plot the cumulative distribution function (CDF) of a discrete uniform distribution."
      ],
      "metadata": {
        "id": "QsBZdHy-sXbZ"
      }
    },
    {
      "cell_type": "code",
      "source": [
        "cdf = randint.cdf(x, 1, 7)\n",
        "\n",
        "plt.step(x, cdf)\n",
        "plt.title('CDF of Discrete Uniform Distribution')\n",
        "plt.xlabel('Value')\n",
        "plt.ylabel('Cumulative Probability')\n",
        "plt.grid(True)\n",
        "plt.show()"
      ],
      "metadata": {
        "id": "3RCvQsdNsZaC"
      },
      "execution_count": null,
      "outputs": []
    },
    {
      "cell_type": "markdown",
      "source": [
        "7. Generate a continuous uniform distribution using NumPy and visualize it."
      ],
      "metadata": {
        "id": "35XnPdCZskh8"
      }
    },
    {
      "cell_type": "code",
      "source": [
        "from scipy.stats import uniform\n",
        "\n",
        "data = uniform.rvs(loc=0, scale=1, size=1000)\n",
        "\n",
        "plt.hist(data, bins=20, density=True, alpha=0.6, color='purple')\n",
        "plt.title('Continuous Uniform Distribution')\n",
        "plt.xlabel('Value')\n",
        "plt.ylabel('Density')\n",
        "plt.show()"
      ],
      "metadata": {
        "id": "pfwDvF_ossIi"
      },
      "execution_count": null,
      "outputs": []
    },
    {
      "cell_type": "markdown",
      "source": [
        "8. Simulate data from a normal distribution and plot its histogram."
      ],
      "metadata": {
        "id": "wraRYzKrstnU"
      }
    },
    {
      "cell_type": "code",
      "source": [
        "from scipy.stats import norm\n",
        "\n",
        "data = norm.rvs(loc=0, scale=1, size=1000)\n",
        "\n",
        "plt.hist(data, bins=30, density=True, color='orange', edgecolor='black')\n",
        "plt.title('Normal Distribution')\n",
        "plt.xlabel('Value')\n",
        "plt.ylabel('Frequency')\n",
        "plt.show()"
      ],
      "metadata": {
        "id": "6yHw8858swLT"
      },
      "execution_count": null,
      "outputs": []
    },
    {
      "cell_type": "markdown",
      "source": [
        "9. Write a Python function to calculate Z-scores from a dataset and plot them."
      ],
      "metadata": {
        "id": "qT4s3iBWs6V-"
      }
    },
    {
      "cell_type": "code",
      "source": [
        "def calculate_z_scores(data):\n",
        "    mean = np.mean(data)\n",
        "    std = np.std(data)\n",
        "    return (data - mean) / std\n",
        "\n",
        "data = np.random.normal(10, 2, 100)\n",
        "z_scores = calculate_z_scores(data)\n",
        "\n",
        "plt.hist(z_scores, bins=20, color='green', alpha=0.7)\n",
        "plt.title('Z-scores Histogram')\n",
        "plt.xlabel('Z-score')\n",
        "plt.ylabel('Frequency')\n",
        "plt.show()"
      ],
      "metadata": {
        "id": "-bfWp0w6s72s"
      },
      "execution_count": null,
      "outputs": []
    },
    {
      "cell_type": "markdown",
      "source": [
        "1O. Implement the Central Limit Theorem (CLT) using Python for a non-normal distribution."
      ],
      "metadata": {
        "id": "OEqBQAxks-kk"
      }
    },
    {
      "cell_type": "code",
      "source": [
        "samples_means = []\n",
        "\n",
        "for _ in range(1000):\n",
        "    sample = np.random.exponential(scale=2, size=30)\n",
        "    samples_means.append(np.mean(sample))\n",
        "\n",
        "plt.hist(samples_means, bins=30, color='cyan', edgecolor='black')\n",
        "plt.title('CLT: Means of Exponential Samples (n=30)')\n",
        "plt.xlabel('Sample Mean')\n",
        "plt.ylabel('Frequency')\n",
        "plt.show()"
      ],
      "metadata": {
        "id": "vgvakEDztClt"
      },
      "execution_count": null,
      "outputs": []
    },
    {
      "cell_type": "markdown",
      "source": [
        "15. Simulate multiple samples from a normal distribution and verify the Central Limit Theorem."
      ],
      "metadata": {
        "id": "amUnw4katFtj"
      }
    },
    {
      "cell_type": "code",
      "source": [
        "import numpy as np\n",
        "import matplotlib.pyplot as plt\n",
        "\n",
        "means = []\n",
        "for _ in range(1000):\n",
        "    sample = np.random.normal(loc=50, scale=10, size=30)\n",
        "    means.append(np.mean(sample))\n",
        "\n",
        "plt.hist(means, bins=30, density=True, alpha=0.6, color='skyblue')\n",
        "plt.title(\"Distribution of Sample Means (CLT)\")\n",
        "plt.xlabel(\"Sample Mean\")\n",
        "plt.ylabel(\"Frequency\")\n",
        "plt.grid(True)\n",
        "plt.show()"
      ],
      "metadata": {
        "id": "vNG4VjC9zMTS"
      },
      "execution_count": null,
      "outputs": []
    },
    {
      "cell_type": "markdown",
      "source": [
        "16. Write a Python function to calculate and plot the standard normal distribution (mean = O, std = 1)."
      ],
      "metadata": {
        "id": "NoGJJXxKzOnY"
      }
    },
    {
      "cell_type": "code",
      "source": [
        "from scipy.stats import norm\n",
        "\n",
        "def plot_standard_normal():\n",
        "    x = np.linspace(-4, 4, 1000)\n",
        "    y = norm.pdf(x, 0, 1)\n",
        "    plt.plot(x, y, label='Standard Normal Distribution')\n",
        "    plt.title(\"Standard Normal Distribution (mean=0, std=1)\")\n",
        "    plt.xlabel(\"Z-score\")\n",
        "    plt.ylabel(\"Probability Density\")\n",
        "    plt.grid(True)\n",
        "    plt.legend()\n",
        "    plt.show()\n",
        "\n",
        "plot_standard_normal()"
      ],
      "metadata": {
        "id": "EqTS4kKVzRYf"
      },
      "execution_count": null,
      "outputs": []
    },
    {
      "cell_type": "markdown",
      "source": [
        "17. Generate random variables and calculate their corresponding probabilities using the binomial distribution."
      ],
      "metadata": {
        "id": "t36T7eACzeFg"
      }
    },
    {
      "cell_type": "code",
      "source": [
        "from scipy.stats import binom\n",
        "\n",
        "n, p = 10, 0.5\n",
        "x = np.arange(0, n+1)\n",
        "probabilities = binom.pmf(x, n, p)\n",
        "\n",
        "plt.bar(x, probabilities, color='green')\n",
        "plt.title('Binomial Distribution (n=10, p=0.5)')\n",
        "plt.xlabel('Number of Successes')\n",
        "plt.ylabel('Probability')\n",
        "plt.grid(True)\n",
        "plt.show()"
      ],
      "metadata": {
        "id": "GNmk3BCpzggn"
      },
      "execution_count": null,
      "outputs": []
    },
    {
      "cell_type": "markdown",
      "source": [
        "18. Write a Python program to calculate the Z-score for a given data point and compare it to a standard normal distribution."
      ],
      "metadata": {
        "id": "1ixRfVhpziff"
      }
    },
    {
      "cell_type": "code",
      "source": [
        "def calculate_z_score(x, mu, sigma):\n",
        "    return (x - mu) / sigma\n",
        "\n",
        "z = calculate_z_score(75, 70, 5)\n",
        "print(f\"Z-score: {z}\")\n",
        "\n",
        "# Compare with standard normal\n",
        "print(f\"P(Z > {z}) = {1 - norm.cdf(z):.4f}\")"
      ],
      "metadata": {
        "id": "OBpFocHKzk81"
      },
      "execution_count": null,
      "outputs": []
    },
    {
      "cell_type": "markdown",
      "source": [
        "19. Implement hypothesis testing using Z-statistics for a sample dataset."
      ],
      "metadata": {
        "id": "jzn8orPmzm2i"
      }
    },
    {
      "cell_type": "code",
      "source": [
        "def z_test(sample_mean, population_mean, std_dev, n, alpha=0.05):\n",
        "    z = (sample_mean - population_mean) / (std_dev / np.sqrt(n))\n",
        "    p_value = 2 * (1 - norm.cdf(abs(z)))\n",
        "    print(f\"Z = {z:.3f}, P-value = {p_value:.4f}\")\n",
        "    if p_value < alpha:\n",
        "        print(\"Reject null hypothesis\")\n",
        "    else:\n",
        "        print(\"Fail to reject null hypothesis\")\n",
        "\n",
        "z_test(52, 50, 10, 30)"
      ],
      "metadata": {
        "id": "gx8XOnk4zpp0"
      },
      "execution_count": null,
      "outputs": []
    },
    {
      "cell_type": "markdown",
      "source": [
        "20. Create a confidence interval for a dataset using Python and interpret the result."
      ],
      "metadata": {
        "id": "6167WEYszsj4"
      }
    },
    {
      "cell_type": "code",
      "source": [
        "from scipy import stats\n",
        "\n",
        "data = np.random.normal(100, 15, 50)\n",
        "mean = np.mean(data)\n",
        "sem = stats.sem(data)\n",
        "ci = stats.t.interval(0.95, len(data)-1, loc=mean, scale=sem)\n",
        "print(f\"95% Confidence Interval: {ci}\")"
      ],
      "metadata": {
        "id": "zcYEP3Twzu0B"
      },
      "execution_count": null,
      "outputs": []
    },
    {
      "cell_type": "markdown",
      "source": [
        "21. Generate data from a normal distribution, then calculate and interpret the confidence interval for its mean."
      ],
      "metadata": {
        "id": "OqM3Z46gzxpB"
      }
    },
    {
      "cell_type": "code",
      "source": [
        "data = np.random.normal(60, 12, 100)\n",
        "mean = np.mean(data)\n",
        "sem = stats.sem(data)\n",
        "ci = stats.t.interval(0.95, len(data)-1, loc=mean, scale=sem)\n",
        "print(f\"Mean: {mean:.2f}\")\n",
        "print(f\"95% Confidence Interval: {ci}\")"
      ],
      "metadata": {
        "id": "PAiNR2E_z1U4"
      },
      "execution_count": null,
      "outputs": []
    },
    {
      "cell_type": "markdown",
      "source": [
        "22. Write a Python script to calculate and visualize the probability density function (PDF) of a normal distribution."
      ],
      "metadata": {
        "id": "KVFZtyBPz3Gi"
      }
    },
    {
      "cell_type": "code",
      "source": [
        "def plot_pdf(mu=0, sigma=1):\n",
        "    x = np.linspace(mu - 4*sigma, mu + 4*sigma, 1000)\n",
        "    y = norm.pdf(x, mu, sigma)\n",
        "    plt.plot(x, y)\n",
        "    plt.title(\"Normal Distribution PDF\")\n",
        "    plt.xlabel(\"x\")\n",
        "    plt.ylabel(\"PDF\")\n",
        "    plt.grid(True)\n",
        "    plt.show()\n",
        "\n",
        "plot_pdf(0, 1)"
      ],
      "metadata": {
        "id": "jfSfY75Yz6Yp"
      },
      "execution_count": null,
      "outputs": []
    },
    {
      "cell_type": "markdown",
      "source": [
        "23. Use Python to calculate and interpret the cumulative distribution function (CDF) Of a Poisson distribution."
      ],
      "metadata": {
        "id": "VkqX0Ggjz83h"
      }
    },
    {
      "cell_type": "code",
      "source": [
        "from scipy.stats import poisson\n",
        "\n",
        "x = np.arange(0, 20)\n",
        "cdf = poisson.cdf(x, mu=5)\n",
        "plt.step(x, cdf, where='mid', color='purple')\n",
        "plt.title(\"CDF of Poisson Distribution (λ = 5)\")\n",
        "plt.xlabel(\"x\")\n",
        "plt.ylabel(\"CDF\")\n",
        "plt.grid(True)\n",
        "plt.show()"
      ],
      "metadata": {
        "id": "RU3vr0wTz_r1"
      },
      "execution_count": null,
      "outputs": []
    },
    {
      "cell_type": "markdown",
      "source": [
        "24. Simulate a random variable using a continuous uniform distribution and calculate its expected value."
      ],
      "metadata": {
        "id": "yWeLCcXw0CFD"
      }
    },
    {
      "cell_type": "code",
      "source": [
        "data = np.random.uniform(10, 50, 1000)\n",
        "expected_value = np.mean(data)\n",
        "print(f\"Expected Value: {expected_value:.2f}\")"
      ],
      "metadata": {
        "id": "dXdMf87L0EUj"
      },
      "execution_count": null,
      "outputs": []
    },
    {
      "cell_type": "markdown",
      "source": [
        "25. Write a Python program to compare the standard deviations of two datasets and visualize the difference."
      ],
      "metadata": {
        "id": "T6eO04gh0Hiv"
      }
    },
    {
      "cell_type": "code",
      "source": [
        "data1 = np.random.normal(50, 5, 100)\n",
        "data2 = np.random.normal(50, 15, 100)\n",
        "\n",
        "std1 = np.std(data1)\n",
        "std2 = np.std(data2)\n",
        "\n",
        "plt.hist(data1, alpha=0.5, label=f'SD={std1:.2f}')\n",
        "plt.hist(data2, alpha=0.5, label=f'SD={std2:.2f}')\n",
        "plt.title(\"Comparison of Standard Deviations\")\n",
        "plt.legend()\n",
        "plt.show()"
      ],
      "metadata": {
        "id": "-rvc-mAu0KV2"
      },
      "execution_count": null,
      "outputs": []
    },
    {
      "cell_type": "markdown",
      "source": [
        "26. Calculate the range and interquartile range (IQR) of a dataset generated from a normal distribution."
      ],
      "metadata": {
        "id": "TsFcrJQV0NvY"
      }
    },
    {
      "cell_type": "code",
      "source": [
        "data = np.random.normal(100, 20, 1000)\n",
        "data_range = np.ptp(data)\n",
        "iqr = np.percentile(data, 75) - np.percentile(data, 25)\n",
        "print(f\"Range: {data_range:.2f}\")\n",
        "print(f\"IQR: {iqr:.2f}\")"
      ],
      "metadata": {
        "id": "dTENs5Xj0QsC"
      },
      "execution_count": null,
      "outputs": []
    },
    {
      "cell_type": "markdown",
      "source": [
        "27. Implement Z-score normalization on a dataset and visualize its transformation."
      ],
      "metadata": {
        "id": "5_b4yCZP0TPk"
      }
    },
    {
      "cell_type": "code",
      "source": [
        "from sklearn.preprocessing import StandardScaler\n",
        "\n",
        "data = np.random.normal(100, 15, 100).reshape(-1, 1)\n",
        "scaler = StandardScaler()\n",
        "normalized = scaler.fit_transform(data)\n",
        "\n",
        "plt.hist(normalized, bins=20, color='orange')\n",
        "plt.title(\"Z-score Normalized Data\")\n",
        "plt.show()"
      ],
      "metadata": {
        "id": "0R4whywz0VFO"
      },
      "execution_count": null,
      "outputs": []
    },
    {
      "cell_type": "markdown",
      "source": [
        "28. Write a Python function to calculate the skewness and kurtosis of a dataset generated from a normal distribution."
      ],
      "metadata": {
        "id": "knp9Bsqy0W08"
      }
    },
    {
      "cell_type": "code",
      "source": [
        "from scipy.stats import skew, kurtosis\n",
        "\n",
        "data = np.random.normal(0, 1, 1000)\n",
        "print(f\"Skewness: {skew(data):.2f}\")\n",
        "print(f\"Kurtosis: {kurtosis(data):.2f}\")"
      ],
      "metadata": {
        "id": "w68V6rRM0aBI"
      },
      "execution_count": null,
      "outputs": []
    }
  ]
}