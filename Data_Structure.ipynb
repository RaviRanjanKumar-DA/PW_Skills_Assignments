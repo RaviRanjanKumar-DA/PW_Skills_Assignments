{
  "nbformat": 4,
  "nbformat_minor": 0,
  "metadata": {
    "colab": {
      "provenance": []
    },
    "kernelspec": {
      "name": "python3",
      "display_name": "Python 3"
    },
    "language_info": {
      "name": "python"
    }
  },
  "cells": [
    {
      "cell_type": "markdown",
      "source": [
        "# **Theory Questions:**"
      ],
      "metadata": {
        "id": "0XnhPh6Wtet_"
      }
    },
    {
      "cell_type": "markdown",
      "source": [
        "## 1. What are data structures, and why are they important?\n"
      ],
      "metadata": {
        "id": "dhrMIEltte1w"
      }
    },
    {
      "cell_type": "markdown",
      "source": [
        "- A data structure is a specialized way of organizing, storing, and managing data to enable efficient access and modification. It defines the relationship between data and the operations that can be performed on them.\n",
        "  - **Efficient Data Management**: Organizes and processes data effectively for quick retrieval and modification.\n",
        "  - **Optimized Performance**: Helps in faster data access and operations, reducing time complexity.\n",
        "  - **Better Use of Memory**: Reduces memory wastage and enhances space utilization.\n",
        "  - **Foundation for Algorithms**: Many algorithms depend on specific data structures for efficiency.\n",
        "  - **Scalability**: Helps handle large datasets in applications like databases, search engines, and AI systems.\n",
        "  - **Real-World Applications**: Used in operating systems, networking, web development, AI, and more."
      ],
      "metadata": {
        "id": "mOtJaSE4v5fg"
      }
    },
    {
      "cell_type": "markdown",
      "source": [
        "## 2. Explain the difference between mutable and immutable data types with examples?"
      ],
      "metadata": {
        "id": "g6cOVMMXte8a"
      }
    },
    {
      "cell_type": "markdown",
      "source": [
        "  - In Python, **mutable** and **immutable** data types refer to whether an object can be modified after creation.\n",
        "  - **Mutable Data Types:**\n",
        "    - It can be changed after creation.\n",
        "    - Elements can be altered, added, or removed.\n",
        "    - Changes occur in the same memory location.\n",
        "    - Ex:- list, dict, set, bytearray\n",
        "  - **Immutable Data Type:**\n",
        "    - It cannot be changed after creation.\n",
        "    - Any modification creates a new object.\n",
        "    - A new memory location is created for modifications.\n",
        "    - Ex:- int, float, string (str), tuple, frozenset, bytes\n"
      ],
      "metadata": {
        "id": "3Yw2wfsyxXkG"
      }
    },
    {
      "cell_type": "code",
      "source": [
        "# Mutable Data Type\n",
        "my_list = [1, 2, 3]\n",
        "my_list.append(4)  # Modifies the original list\n",
        "print(my_list)\n",
        "\n",
        "my_dict = {'a': 1, 'b': 2}\n",
        "my_dict['c'] = 3  # Adds a new key-value pair\n",
        "print(my_dict)\n",
        "\n",
        "my_set = {1, 2, 3}\n",
        "my_set.add(4)  # Modifies the set\n",
        "print(my_set)\n",
        "\n",
        "\n",
        "# Immutable Data Type\n",
        "my_str1 = \"Hello\"\n",
        "new_str = \"M\" + my_str1[1:]  # Creates a new string\n",
        "print(my_str1, id(my_str1))\n",
        "print(new_str, id(new_str))\n",
        "\n",
        "\n",
        "\n",
        "my_tuple1 = (1, 2, 3)\n",
        "my_tuple1[0] = 5\n",
        "\n",
        "a = 10\n",
        "a = a + 5  # Creates a new integer object\n",
        "print(a)\n",
        "\n",
        "my_str = \"Hello\"\n",
        "my_str[0] = 'M'\n",
        "\n",
        "\n",
        "\n"
      ],
      "metadata": {
        "id": "5j6WKv_9y9s5"
      },
      "execution_count": null,
      "outputs": []
    },
    {
      "cell_type": "markdown",
      "source": [
        "## 3. What are the main differences between lists and tuples in Python?"
      ],
      "metadata": {
        "id": "XQQagNvwte_R"
      }
    },
    {
      "cell_type": "markdown",
      "source": [
        "Differences between lists & tuples are as below:\n",
        "- **List: -**\n",
        "  - It is mutable.\n",
        "  - Defined using []\n",
        "  - Takes more memory.\n",
        "  - Slower due to dynamic nature.\n",
        "  - Used when needs modification in data.\n",
        "- **Tuple: -**\n",
        "  - It is immutable.\n",
        "  - Defined using ()\n",
        "  - Takes less memory\n",
        "  - Faster due to immutability\n",
        "  - Used when data should remain constant\n"
      ],
      "metadata": {
        "id": "OfdyXocN8sll"
      }
    },
    {
      "cell_type": "code",
      "source": [
        "# Lists\n",
        "my_list = [1, 2, 3]\n",
        "my_list.append(4)  # Adding an element\n",
        "print(my_list)\n",
        "\n",
        "# Tuples\n",
        "my_tuple = (1, 2, 3)\n",
        "my_tuple[0] = 5"
      ],
      "metadata": {
        "id": "JQA-0SiR-BcZ"
      },
      "execution_count": null,
      "outputs": []
    },
    {
      "cell_type": "markdown",
      "source": [
        "## 4. Describe how dictionaries store data?"
      ],
      "metadata": {
        "id": "XAzvumSctfER"
      }
    },
    {
      "cell_type": "markdown",
      "source": [
        "- Dictionary is an mutable data structure that stores data in **key-value pair**.\n",
        "  - **Keys**- Unique and immutable\n",
        "  - **Values**- Can be any data type"
      ],
      "metadata": {
        "id": "0krSasGV-h5d"
      }
    },
    {
      "cell_type": "code",
      "source": [
        "my_dict = {'name': 'Ravi', 'age': 28, 'city': 'Delhi'}\n",
        "print(my_dict['name'])"
      ],
      "metadata": {
        "colab": {
          "base_uri": "https://localhost:8080/"
        },
        "id": "FwjPB-G3_jgD",
        "outputId": "3c3dc482-7057-441f-95aa-0bf9b907341c"
      },
      "execution_count": null,
      "outputs": [
        {
          "output_type": "stream",
          "name": "stdout",
          "text": [
            "Ravi\n"
          ]
        }
      ]
    },
    {
      "cell_type": "markdown",
      "source": [
        "## 5. Why might you use a set instead of a list in Python?"
      ],
      "metadata": {
        "id": "xmN137Bbv2uu"
      }
    },
    {
      "cell_type": "markdown",
      "source": [
        "- Set ia an u ordered, mutable collection of unique elements. Set does not allows duplicate values and uses higher memoly while in lists duplicates are allowed  and it is ordered so using less memory."
      ],
      "metadata": {
        "id": "Le6h4eSy_umD"
      }
    },
    {
      "cell_type": "code",
      "source": [
        "# Sets\n",
        "my_set = {1, 2, 3, 4, 5}\n",
        "print(3 in my_set)\n",
        "\n",
        "# Lists\n",
        "my_list = [1, 2, 2, 3, 4, 4, 5]\n",
        "unique_values = set(my_list)\n"
      ],
      "metadata": {
        "colab": {
          "base_uri": "https://localhost:8080/"
        },
        "id": "wqG2KNBkAgcw",
        "outputId": "7bed95f8-bce2-4b05-f704-11115be635a9"
      },
      "execution_count": null,
      "outputs": [
        {
          "output_type": "stream",
          "name": "stdout",
          "text": [
            "True\n"
          ]
        }
      ]
    },
    {
      "cell_type": "markdown",
      "source": [
        "## 6. What is a string in Python, and how is it different from a list?"
      ],
      "metadata": {
        "id": "lU5v2dCqv4bL"
      }
    },
    {
      "cell_type": "markdown",
      "source": [
        "- String is a sequence of characters enclosed in single('), double(\") or triple (''' / \"\"\") quotes. It is immutable means it can not be changed once created."
      ],
      "metadata": {
        "id": "iDNvIAhSv4fe"
      }
    },
    {
      "cell_type": "code",
      "source": [
        "str1 = 'Hello World'\n",
        "str2 = \"Hello World\"\n",
        "str3 = '''Hello World'''\n",
        "str4 = \"\"\"Hello World\"\"\"\n",
        "print(str1)\n",
        "print(str2)\n",
        "print(str3)\n",
        "print(str4)"
      ],
      "metadata": {
        "colab": {
          "base_uri": "https://localhost:8080/"
        },
        "id": "Xe9z011GTKj6",
        "outputId": "9a4abfca-f6fe-4388-f354-f89f58d71e73"
      },
      "execution_count": null,
      "outputs": [
        {
          "output_type": "stream",
          "name": "stdout",
          "text": [
            "Hello World\n",
            "Hello World\n",
            "Hello World\n",
            "Hello World\n"
          ]
        }
      ]
    },
    {
      "cell_type": "markdown",
      "source": [
        "## 7. How do tuples ensure data integrity in Python?"
      ],
      "metadata": {
        "id": "CM-mMDmqVKQ6"
      }
    },
    {
      "cell_type": "markdown",
      "source": [
        "- A tuple is an immutable sequence. This immutability ensure data bintegrity by preventing accidental changes. Tuples uses less memory and avoide unintended modification."
      ],
      "metadata": {
        "id": "IevRFaMgVPOL"
      }
    },
    {
      "cell_type": "code",
      "source": [
        "a = (50, 24.5, 'Banana', True)\n",
        "print(a)\n",
        "\n",
        "a[0] = 100\n",
        "print(a)\n"
      ],
      "metadata": {
        "id": "-fESp02IX4NS"
      },
      "execution_count": null,
      "outputs": []
    },
    {
      "cell_type": "markdown",
      "source": [
        "## 8. What is a hash table, and how does it relate to dictionaries in Python?"
      ],
      "metadata": {
        "id": "8q9sZ6ECa0f3"
      }
    },
    {
      "cell_type": "markdown",
      "source": [
        "- A hash table is a data structure that stores key-value pairs using a hashing function to map keys to memory locations. This enables fast lookups, insertions, and deletions.\n",
        "- In Python, dictionaries (dict) are implemented using hash tables. Each key is hashed to produce an index, which determines where the corresponding value is stored in memory."
      ],
      "metadata": {
        "id": "yiyxSKuwa0Nd"
      }
    },
    {
      "cell_type": "code",
      "source": [
        "my_dict = {\"name\": \"Ravi\", \"age\": 28, \"city\": \"Delhi\"}\n",
        "\n",
        "print(my_dict[\"age\"])"
      ],
      "metadata": {
        "colab": {
          "base_uri": "https://localhost:8080/"
        },
        "id": "BM4NNmIEa3bX",
        "outputId": "db6e2810-5e1f-4f00-e043-2c9cad9850ff"
      },
      "execution_count": null,
      "outputs": [
        {
          "output_type": "stream",
          "name": "stdout",
          "text": [
            "28\n"
          ]
        }
      ]
    },
    {
      "cell_type": "markdown",
      "source": [
        "## 9. Can lists contain different data types in Python?"
      ],
      "metadata": {
        "id": "UgWUfucjbs4E"
      }
    },
    {
      "cell_type": "markdown",
      "source": [
        "- Yes, lists are heterogeneous, it means they can store different data types in the same list."
      ],
      "metadata": {
        "id": "RKbYA4w-bsmB"
      }
    },
    {
      "cell_type": "code",
      "source": [
        "my_list = [28, \"Ravi\", 3.14, True, [1, 2, 3]]\n",
        "print(type(my_list))\n",
        "\n",
        "a = my_list[0]\n",
        "print(type(a))\n",
        "\n",
        "b = my_list[1]\n",
        "print(type(b))\n",
        "\n",
        "c = my_list[4]\n",
        "print(type(c))"
      ],
      "metadata": {
        "colab": {
          "base_uri": "https://localhost:8080/"
        },
        "id": "KWmujh7Ib-4-",
        "outputId": "947c22b0-3ec9-46cf-ff16-c2c4f65610da"
      },
      "execution_count": null,
      "outputs": [
        {
          "output_type": "stream",
          "name": "stdout",
          "text": [
            "<class 'list'>\n",
            "<class 'int'>\n",
            "<class 'str'>\n",
            "<class 'list'>\n"
          ]
        }
      ]
    },
    {
      "cell_type": "markdown",
      "source": [
        "## 10. Explain why strings are immutable in Python?"
      ],
      "metadata": {
        "id": "4S8ruGDUccsR"
      }
    },
    {
      "cell_type": "markdown",
      "source": [
        "- Strings are immutable, it means once created, they cannot be modified. Any operation that appears to change a string actually creates a new string.\n",
        "- Reasons for immutability\n",
        "  - Strings are stored in a shared memory space, that reducing duplication.\n",
        "  - Prevents accidental modifications. Like: Passward, IP address etc.\n",
        "  - Since strings don’t change, they can be used as keys in dictionaries and set elements.\n",
        "  - Multiple threads can safely use the same string without conflicts."
      ],
      "metadata": {
        "id": "RSv6tNpYch2t"
      }
    },
    {
      "cell_type": "code",
      "source": [
        "text = \"Hello\"\n",
        "text[0] = \"M\" # can't be changed\n",
        "\n",
        "new_text = \"M\" + text[1:]\n",
        "print(new_text)\n",
        "\n",
        "print(id(text))\n",
        "print(id(new_text))"
      ],
      "metadata": {
        "colab": {
          "base_uri": "https://localhost:8080/"
        },
        "id": "CJNOmFEPdUDb",
        "outputId": "eb9522d6-5b7f-4631-bcf8-6d8da7312270"
      },
      "execution_count": null,
      "outputs": [
        {
          "output_type": "stream",
          "name": "stdout",
          "text": [
            "Mello\n",
            "134027683530800\n",
            "134026964555824\n"
          ]
        }
      ]
    },
    {
      "cell_type": "markdown",
      "source": [
        "## 11. What advantages do dictionaries offer over lists for certain tasks?"
      ],
      "metadata": {
        "id": "q8QCYWOMdtXK"
      }
    },
    {
      "cell_type": "markdown",
      "source": [
        "- **Faster Lookups (O(1))**: Uses a hash table for quick key-based access, while lists require O(n) searches.\n",
        "- **Key-Value Pair Storage**: Stores structured data (e.g., {\"name\": \"Ravi\", \"age\": 28}) instead of just values.\n",
        "- **More Readable Acces**: Use meaningful keys instead of numeric indices."
      ],
      "metadata": {
        "id": "Zol453Iidu4E"
      }
    },
    {
      "cell_type": "code",
      "source": [
        "student = {\"name\": \"Ravi\", \"age\": 28}\n",
        "print(student[\"name\"])\n",
        "\n",
        "student_list = [\"Ravi\", 28]\n",
        "print(student_list[0])\n"
      ],
      "metadata": {
        "colab": {
          "base_uri": "https://localhost:8080/"
        },
        "id": "PH_zp5mmfTqs",
        "outputId": "b3fb7e07-f135-4daf-f3e8-782e92214f74"
      },
      "execution_count": null,
      "outputs": [
        {
          "output_type": "stream",
          "name": "stdout",
          "text": [
            "Ravi\n",
            "Ravi\n"
          ]
        }
      ]
    },
    {
      "cell_type": "markdown",
      "source": [
        "## 12. Describe a scenario where using a tuple would be preferable over a list?"
      ],
      "metadata": {
        "id": "RErUUVfneCYT"
      }
    },
    {
      "cell_type": "markdown",
      "source": [
        "- While working with fixed data like database records, coordinates, or configuration settings, a tuple is preferred to ensure data integrity and prevent accidental modifications."
      ],
      "metadata": {
        "id": "GIeGRWrjgz82"
      }
    },
    {
      "cell_type": "code",
      "source": [
        "employee_record = (101, \"Ravi\", \"Data Analyst\", \"Delhi\")\n",
        "location_data = {(28.6139, 77.2090): \"New Delhi\"}\n",
        "screen_resolution = (1920, 1080)"
      ],
      "metadata": {
        "id": "QyJaFnsoibb3"
      },
      "execution_count": null,
      "outputs": []
    },
    {
      "cell_type": "markdown",
      "source": [
        "## 13. How do sets handle duplicate values in Python?"
      ],
      "metadata": {
        "id": "gk6m6e8ceCui"
      }
    },
    {
      "cell_type": "markdown",
      "source": [
        "- A set in Python does not allow duplicate values. If duplicate elements are added, only one unique copy is stored."
      ],
      "metadata": {
        "id": "EBtbARySiDB3"
      }
    },
    {
      "cell_type": "code",
      "source": [
        "numbers = {1, 2, 2, 3, 4, 4, 5}\n",
        "print(numbers)\n",
        "\n",
        "my_list = [1, 2, 2, 3, 4, 4, 5]\n",
        "unique_values = set(my_list)  # Converts list to a set (removes duplicates)\n",
        "print(unique_values)\n"
      ],
      "metadata": {
        "colab": {
          "base_uri": "https://localhost:8080/"
        },
        "id": "5NU3kWjZiSov",
        "outputId": "8dea6fb5-85fc-4b49-847c-75ffed44fb3c"
      },
      "execution_count": null,
      "outputs": [
        {
          "output_type": "stream",
          "name": "stdout",
          "text": [
            "{1, 2, 3, 4, 5}\n",
            "{1, 2, 3, 4, 5}\n"
          ]
        }
      ]
    },
    {
      "cell_type": "markdown",
      "source": [
        "## 14. How does the “in” keyword work differently for lists and dictionaries?"
      ],
      "metadata": {
        "id": "Xxncm4pzeDCa"
      }
    },
    {
      "cell_type": "markdown",
      "source": [
        "- **In** keyword is used to check for membership, but it works differently for lists and dictionaries in Python."
      ],
      "metadata": {
        "id": "qTy_2me8ipfx"
      }
    },
    {
      "cell_type": "code",
      "source": [
        "my_list = [10, 20, 30, 40]\n",
        "print(20 in my_list)\n",
        "\n",
        "my_dict = {\"name\": \"Ravi\", \"age\": 28, \"city\": \"Delhi\"}\n",
        "print(\"age\" in my_dict)"
      ],
      "metadata": {
        "colab": {
          "base_uri": "https://localhost:8080/"
        },
        "id": "TEyPSeGujSWa",
        "outputId": "95ced31c-bed4-4baf-f24a-6e29d807fd1f"
      },
      "execution_count": null,
      "outputs": [
        {
          "output_type": "stream",
          "name": "stdout",
          "text": [
            "True\n",
            "True\n"
          ]
        }
      ]
    },
    {
      "cell_type": "markdown",
      "source": [
        "## 15. Can you modify the elements of a tuple? Explain why or why not?"
      ],
      "metadata": {
        "id": "t6P9bseneDVn"
      }
    },
    {
      "cell_type": "markdown",
      "source": [
        "- No, tuples are immutable in Python, it means their elements cannot be modified, added, or removed after creation."
      ],
      "metadata": {
        "id": "lBmInHnxjYY_"
      }
    },
    {
      "cell_type": "code",
      "source": [
        "my_tuple = (1, 2, 3)\n",
        "my_tuple[0] = 10\n",
        "\n",
        "my_tuple = (1, [2, 3], 4)\n",
        "my_tuple[1][0] = 99\n",
        "print(my_tuple)\n"
      ],
      "metadata": {
        "id": "s8ooN4gtjwXA"
      },
      "execution_count": null,
      "outputs": []
    },
    {
      "cell_type": "markdown",
      "source": [
        "## 16. What is a nested dictionary, and give an example of its use case?"
      ],
      "metadata": {
        "id": "7IGtX_W_eDo1"
      }
    },
    {
      "cell_type": "markdown",
      "source": [
        "- Nested dictionary is a type of dictionary that contains another dictionary as a value.\n",
        "- It helps in storing hierarchical or structured data efficiently."
      ],
      "metadata": {
        "id": "14EyT8L8kF_5"
      }
    },
    {
      "cell_type": "code",
      "source": [
        "students = {\n",
        "    \"101\": {\"name\": \"Ravi\", \"age\": 28, \"course\": \"Data Science\"},\n",
        "    \"102\": {\"name\": \"Amit\", \"age\": 25, \"course\": \"AI & ML\"}\n",
        "}\n",
        "\n",
        "# Accessing nested data\n",
        "print(students[\"101\"][\"name\"])\n",
        "print(students[\"102\"][\"course\"])\n"
      ],
      "metadata": {
        "colab": {
          "base_uri": "https://localhost:8080/"
        },
        "id": "2YT7jaZ5kMby",
        "outputId": "50e30d15-b33a-4c24-d8b4-015dbec15358"
      },
      "execution_count": null,
      "outputs": [
        {
          "output_type": "stream",
          "name": "stdout",
          "text": [
            "Ravi\n",
            "AI & ML\n"
          ]
        }
      ]
    },
    {
      "cell_type": "markdown",
      "source": [
        "## 17. Describe the time complexity of accessing elements in a dictionary?"
      ],
      "metadata": {
        "id": "ctvvRruEeD8c"
      }
    },
    {
      "cell_type": "markdown",
      "source": [
        "- Python dictionaries use hash tables, allowing fast lookups.\n",
        "- Retrieving a value by key takes constant time, regardless of the dictionary’s size."
      ],
      "metadata": {
        "id": "joE_Bt6bkl76"
      }
    },
    {
      "cell_type": "code",
      "source": [
        "my_dict = {\"name\": \"Ravi\", \"age\": 28}\n",
        "print(my_dict[\"age\"])"
      ],
      "metadata": {
        "colab": {
          "base_uri": "https://localhost:8080/"
        },
        "id": "wmMTKpZYkpXj",
        "outputId": "0009dffa-89cc-44a7-8a3c-1d767c94e64b"
      },
      "execution_count": null,
      "outputs": [
        {
          "output_type": "stream",
          "name": "stdout",
          "text": [
            "28\n"
          ]
        }
      ]
    },
    {
      "cell_type": "markdown",
      "source": [
        "## 18. In what situations are lists preferred over dictionaries?"
      ],
      "metadata": {
        "id": "zNYMUyuZeZ4v"
      }
    },
    {
      "cell_type": "markdown",
      "source": [
        "- Lists maintain insertion order, useful for ordered collections.\n",
        "- Lists are simpler when storing just values, without needing keys.\n",
        "- Lists allow easy iteration and operations like sorting, slicing, etc.\n",
        "- Lists use less memory than dictionaries, which require extra space for keys and hashing.\n",
        "- Lists support sorting, reversing, indexing, and slicing, which dictionaries do not."
      ],
      "metadata": {
        "id": "3L9Ohi_OlFX-"
      }
    },
    {
      "cell_type": "code",
      "source": [
        "my_list = [10, 20, 30]\n",
        "print(my_list[1])\n",
        "\n",
        "students = [\"Ravi\", \"Amit\", \"Neha\"]\n",
        "for student in students:\n",
        "    print(student)"
      ],
      "metadata": {
        "colab": {
          "base_uri": "https://localhost:8080/"
        },
        "id": "1NQGQVFflFzR",
        "outputId": "5bf7cd55-7e58-4075-dd80-c2e12214764a"
      },
      "execution_count": null,
      "outputs": [
        {
          "output_type": "stream",
          "name": "stdout",
          "text": [
            "20\n",
            "Ravi\n",
            "Amit\n",
            "Neha\n"
          ]
        }
      ]
    },
    {
      "cell_type": "markdown",
      "source": [
        "## 19. Why are dictionaries considered unordered, and how does that affect data retrieval?"
      ],
      "metadata": {
        "id": "vjLze6gpeZOc"
      }
    },
    {
      "cell_type": "markdown",
      "source": [
        "- Before Python 3.7, dictionaries were unordered, meaning elements were stored in an arbitrary order based on hashing, not insertion order.\n",
        "- However, since Python 3.7, dictionaries maintain insertion order, though they are still technically implemented as hash tables.\n",
        "- It affect data retrival:-\n",
        "  - Dictionaries retrieve values by key, not by position.\n",
        "  - Unlike lists, you cannot access dictionary elements by position.\n",
        "  - Dictionaries now iterate in insertion order (but this is not guaranteed in older versions).\n"
      ],
      "metadata": {
        "id": "4URspTRosgUv"
      }
    },
    {
      "cell_type": "code",
      "source": [
        "my_dict = {\"name\": \"Ravi\", \"age\": 28}\n",
        "print(my_dict[\"age\"])\n",
        "\n",
        "my_dict = {\"name\": \"Ravi\", \"age\": 28}\n",
        "print(my_dict[0])\n",
        "\n",
        "my_dict = {\"a\": 1, \"b\": 2, \"c\": 3}\n",
        "for key in my_dict:\n",
        "    print(key)"
      ],
      "metadata": {
        "id": "ywKfKcxYuhnS"
      },
      "execution_count": null,
      "outputs": []
    },
    {
      "cell_type": "markdown",
      "source": [
        "## 20. Explain the difference between a list and a dictionary in terms of data retrieval.?"
      ],
      "metadata": {
        "id": "n-pJu38hv4kG"
      }
    },
    {
      "cell_type": "markdown",
      "source": [
        "1. **Retrieval Method:**\n",
        "  - List: Uses index-based retrieval (position matters).\n",
        "  - Dictionary: Uses key-based retrieval (position does not matter).\n",
        "\n",
        "2. **Time Complexity:**\n",
        "  - List: Searching (in or index()) takes O(n) (slower).\n",
        "  - Dictionary: Key lookups are O(1) (faster due to hashing).\n",
        "\n",
        "3. **Flexibility:**\n",
        "  - Lists: Store values without explicit labels.\n",
        "  - Dictionaries: Store key-value pairs, making data more structured.\n",
        "\n",
        "4. **Order Preservantion:**\n",
        "  - Lists: Maintain strict order (always).\n",
        "  - Dictionaries: Preserve insertion order only in Python 3.7+."
      ],
      "metadata": {
        "id": "pTLQlm7Jv4oW"
      }
    },
    {
      "cell_type": "code",
      "source": [
        "students = [\"Ravi\", \"Amit\", \"Neha\"]\n",
        "print(students[1])\n",
        "print(\"Neha\" in students)\n",
        "\n",
        "student_ages = {\"Ravi\": 28, \"Amit\": 25, \"Neha\": 30}\n",
        "print(student_ages[\"Neha\"])"
      ],
      "metadata": {
        "colab": {
          "base_uri": "https://localhost:8080/"
        },
        "id": "pBU5g7XbyBp1",
        "outputId": "d88c9cde-b32c-4840-ed8a-136b0929af57"
      },
      "execution_count": 34,
      "outputs": [
        {
          "output_type": "stream",
          "name": "stdout",
          "text": [
            "Amit\n",
            "True\n",
            "30\n"
          ]
        }
      ]
    },
    {
      "cell_type": "markdown",
      "source": [
        "# Theory Questions"
      ],
      "metadata": {
        "id": "17eXDBUwwkU7"
      }
    },
    {
      "cell_type": "markdown",
      "source": [
        "1. Write a code to create a string with your name and print it?"
      ],
      "metadata": {
        "id": "8Kuki87-yO7t"
      }
    },
    {
      "cell_type": "code",
      "source": [
        "my_name = \"Ravi Kumar\"\n",
        "print(my_name)"
      ],
      "metadata": {
        "colab": {
          "base_uri": "https://localhost:8080/"
        },
        "id": "lgtZJ5DzycWD",
        "outputId": "8be03fb6-1079-4d48-922e-c7960ed9b823"
      },
      "execution_count": 35,
      "outputs": [
        {
          "output_type": "stream",
          "name": "stdout",
          "text": [
            "Ravi Kumar\n"
          ]
        }
      ]
    },
    {
      "cell_type": "markdown",
      "source": [
        "2. Write a code to find the length of the string \"Hello World\"?"
      ],
      "metadata": {
        "id": "OoeIr9vCyoF0"
      }
    },
    {
      "cell_type": "code",
      "source": [
        "str_word = \"Hello World\"\n",
        "print(len(str_word))"
      ],
      "metadata": {
        "colab": {
          "base_uri": "https://localhost:8080/"
        },
        "id": "6zfSzEV7yrKx",
        "outputId": "3e3c0753-9ab5-4142-c97c-dbe4ef8864aa"
      },
      "execution_count": 37,
      "outputs": [
        {
          "output_type": "stream",
          "name": "stdout",
          "text": [
            "11\n"
          ]
        }
      ]
    },
    {
      "cell_type": "markdown",
      "source": [
        "3. Write a code to slice the first 3 characters from the string \"Python Programming\"?"
      ],
      "metadata": {
        "id": "LJ-ujNPJ2OjL"
      }
    },
    {
      "cell_type": "code",
      "source": [
        "course = \"Python Programming\"\n",
        "print(course[:3])"
      ],
      "metadata": {
        "colab": {
          "base_uri": "https://localhost:8080/"
        },
        "id": "Rogz_SXV2RLv",
        "outputId": "45b7766b-8b1e-4d2a-8d7e-bfdedeca2bfa"
      },
      "execution_count": 38,
      "outputs": [
        {
          "output_type": "stream",
          "name": "stdout",
          "text": [
            "Pyt\n"
          ]
        }
      ]
    },
    {
      "cell_type": "markdown",
      "source": [
        "4. Write a code to convert the string \"hello\" to uppercase?"
      ],
      "metadata": {
        "id": "4-oxoidu2b_r"
      }
    },
    {
      "cell_type": "code",
      "source": [
        "word = \"hello\"\n",
        "upper_word = word.upper()\n",
        "print(upper_word)"
      ],
      "metadata": {
        "colab": {
          "base_uri": "https://localhost:8080/"
        },
        "id": "m5D5-iwM2dnu",
        "outputId": "acf033e4-8d6a-4350-880e-287ca360e856"
      },
      "execution_count": 39,
      "outputs": [
        {
          "output_type": "stream",
          "name": "stdout",
          "text": [
            "HELLO\n"
          ]
        }
      ]
    },
    {
      "cell_type": "markdown",
      "source": [
        "5. Write a code to replace the word \"apple\" with \"orange\" in the string \"I like apple\"?"
      ],
      "metadata": {
        "id": "GgP-kDVh3BA4"
      }
    },
    {
      "cell_type": "code",
      "source": [
        "text = \"I like apple\"\n",
        "newtext = text.replace('apple', 'orange')\n",
        "print(newtext)"
      ],
      "metadata": {
        "colab": {
          "base_uri": "https://localhost:8080/"
        },
        "id": "cMjrKmee3CsK",
        "outputId": "4296350f-51d6-430d-d45c-0f2d777f450d"
      },
      "execution_count": 40,
      "outputs": [
        {
          "output_type": "stream",
          "name": "stdout",
          "text": [
            "I like orange\n"
          ]
        }
      ]
    },
    {
      "cell_type": "markdown",
      "source": [
        "6. Write a code to create a list with numbers 1 to 5 and print it?"
      ],
      "metadata": {
        "id": "DlAocji-3ixN"
      }
    },
    {
      "cell_type": "code",
      "source": [
        "list1 = [1, 2, 3, 4, 5]\n",
        "print(list1)"
      ],
      "metadata": {
        "colab": {
          "base_uri": "https://localhost:8080/"
        },
        "id": "epTVknBB3kXq",
        "outputId": "554566b9-0f7c-4b1e-979d-69f4039a4c73"
      },
      "execution_count": 41,
      "outputs": [
        {
          "output_type": "stream",
          "name": "stdout",
          "text": [
            "[1, 2, 3, 4, 5]\n"
          ]
        }
      ]
    },
    {
      "cell_type": "markdown",
      "source": [
        "7. Write a code to append the number 10 to the list [1, 2, 3, 4]?"
      ],
      "metadata": {
        "id": "4VegyRx73uOF"
      }
    },
    {
      "cell_type": "code",
      "source": [
        "list2 = [1, 2, 3, 4]\n",
        "list2.append(10)\n",
        "print(list2)"
      ],
      "metadata": {
        "colab": {
          "base_uri": "https://localhost:8080/"
        },
        "id": "xaGKoC983v-g",
        "outputId": "99e77303-ff9d-4672-8c4a-2fd15e95c3c5"
      },
      "execution_count": 42,
      "outputs": [
        {
          "output_type": "stream",
          "name": "stdout",
          "text": [
            "[1, 2, 3, 4, 10]\n"
          ]
        }
      ]
    },
    {
      "cell_type": "markdown",
      "source": [
        "8. Write a code to remove the number 3 from the list [1, 2, 3, 4, 5]?"
      ],
      "metadata": {
        "id": "6-mm13J336rM"
      }
    },
    {
      "cell_type": "code",
      "source": [
        "list3 = [1, 2, 3, 4, 5]\n",
        "list3.remove(3)\n",
        "print(list3)"
      ],
      "metadata": {
        "colab": {
          "base_uri": "https://localhost:8080/"
        },
        "id": "fuwwxwAM38S1",
        "outputId": "45c2dbe9-f192-4313-da99-b177a0f514c5"
      },
      "execution_count": 43,
      "outputs": [
        {
          "output_type": "stream",
          "name": "stdout",
          "text": [
            "[1, 2, 4, 5]\n"
          ]
        }
      ]
    },
    {
      "cell_type": "markdown",
      "source": [
        "9. Write a code to access the second element in the list ['a', 'b', 'c', 'd']?"
      ],
      "metadata": {
        "id": "rM5Fvtf54ahY"
      }
    },
    {
      "cell_type": "code",
      "source": [
        "list4 = ['a', 'b', 'c', 'd']\n",
        "print(list4[1])"
      ],
      "metadata": {
        "colab": {
          "base_uri": "https://localhost:8080/"
        },
        "id": "EEMNIVyB4b9f",
        "outputId": "d1b27d10-600c-4b9b-faea-68e942fdab22"
      },
      "execution_count": 44,
      "outputs": [
        {
          "output_type": "stream",
          "name": "stdout",
          "text": [
            "b\n"
          ]
        }
      ]
    },
    {
      "cell_type": "markdown",
      "source": [
        "10. Write a code to reverse the list [10, 20, 30, 40, 50]."
      ],
      "metadata": {
        "id": "MYeokMsB4jwx"
      }
    },
    {
      "cell_type": "code",
      "source": [
        "lst = [1, 2, 3, 4]\n",
        "lst.reverse()\n",
        "print(lst)\n",
        "\n",
        "lst2 = [1, 2, 3, 4]\n",
        "reverse_lst2 = lst2[::-1]\n",
        "print(reverse_lst2)"
      ],
      "metadata": {
        "colab": {
          "base_uri": "https://localhost:8080/"
        },
        "id": "4vFc5pKU4m_1",
        "outputId": "192d562c-3136-475d-9674-cfb57d884603"
      },
      "execution_count": 49,
      "outputs": [
        {
          "output_type": "stream",
          "name": "stdout",
          "text": [
            "[4, 3, 2, 1]\n",
            "[4, 3, 2, 1]\n"
          ]
        }
      ]
    },
    {
      "cell_type": "markdown",
      "source": [
        "11. Write a code to create a tuple with the elements 100, 200, 300 and print it."
      ],
      "metadata": {
        "id": "KGYQKa2U5rs0"
      }
    },
    {
      "cell_type": "code",
      "source": [
        "tupl = (100, 200, 300)\n",
        "print(tupl)\n",
        "print(type(tupl))"
      ],
      "metadata": {
        "colab": {
          "base_uri": "https://localhost:8080/"
        },
        "id": "ZbHuh_Cs5syr",
        "outputId": "cf31d8b4-0867-4785-9df9-b5c01aa2d49f"
      },
      "execution_count": 51,
      "outputs": [
        {
          "output_type": "stream",
          "name": "stdout",
          "text": [
            "(100, 200, 300)\n",
            "<class 'tuple'>\n"
          ]
        }
      ]
    },
    {
      "cell_type": "markdown",
      "source": [
        "12. Write a code to access the second-to-last element of the tuple ('red', 'green', 'blue', 'yellow')."
      ],
      "metadata": {
        "id": "3xpO2DP_59Nm"
      }
    },
    {
      "cell_type": "code",
      "source": [
        "tupl2 = ('red', 'green', 'blue', 'yellow')\n",
        "second_element = tupl2[-2]\n",
        "print(second_element)"
      ],
      "metadata": {
        "colab": {
          "base_uri": "https://localhost:8080/"
        },
        "id": "JFPsb_7m5-fK",
        "outputId": "553fb447-a2ed-4ed7-e64e-34381dec3e0f"
      },
      "execution_count": 52,
      "outputs": [
        {
          "output_type": "stream",
          "name": "stdout",
          "text": [
            "blue\n"
          ]
        }
      ]
    },
    {
      "cell_type": "markdown",
      "source": [
        "13. Write a code to find the minimum number in the tuple (10, 20, 5, 15)."
      ],
      "metadata": {
        "id": "tNZnACX_6WR7"
      }
    },
    {
      "cell_type": "code",
      "source": [
        "nos = (10, 20, 5, 15)\n",
        "min_no = min(nos)\n",
        "print(min_no)"
      ],
      "metadata": {
        "colab": {
          "base_uri": "https://localhost:8080/"
        },
        "id": "v0SRrK-n6XjU",
        "outputId": "5988bdb8-d5b1-4c03-99d3-a2ae9f7f4f2e"
      },
      "execution_count": 53,
      "outputs": [
        {
          "output_type": "stream",
          "name": "stdout",
          "text": [
            "5\n"
          ]
        }
      ]
    },
    {
      "cell_type": "markdown",
      "source": [
        "14. Write a code to find the index of the element \"cat\" in the tuple ('dog', 'cat', 'rabbit')."
      ],
      "metadata": {
        "id": "aABN1ECt6wR4"
      }
    },
    {
      "cell_type": "code",
      "source": [
        "word = ('dog', 'cat', 'rabbit')\n",
        "index = word.index('cat')\n",
        "print(index)"
      ],
      "metadata": {
        "colab": {
          "base_uri": "https://localhost:8080/"
        },
        "id": "RyYXSj-U6xaa",
        "outputId": "f74a52c7-b02f-4769-9a55-c5de81fcb5b1"
      },
      "execution_count": 54,
      "outputs": [
        {
          "output_type": "stream",
          "name": "stdout",
          "text": [
            "1\n"
          ]
        }
      ]
    },
    {
      "cell_type": "markdown",
      "source": [
        "15. Write a code to create a tuple containing three different fruits and check if \"kiwi\" is in it."
      ],
      "metadata": {
        "id": "4ttvpb-37B2i"
      }
    },
    {
      "cell_type": "code",
      "source": [
        "basket = ('apple', 'banana', 'orange')\n",
        "print('kiwi' in basket)"
      ],
      "metadata": {
        "colab": {
          "base_uri": "https://localhost:8080/"
        },
        "id": "k3KW_uBY7DH7",
        "outputId": "bc046a46-532b-4032-b75f-b5e3a4bd6160"
      },
      "execution_count": 55,
      "outputs": [
        {
          "output_type": "stream",
          "name": "stdout",
          "text": [
            "False\n"
          ]
        }
      ]
    },
    {
      "cell_type": "markdown",
      "source": [
        "16. Write a code to create a set with the elements 'a', 'b', 'c' and print it."
      ],
      "metadata": {
        "id": "12QHgYLK7MVX"
      }
    },
    {
      "cell_type": "code",
      "source": [
        "set1 = {'a', 'b', 'c'}\n",
        "print(set1)"
      ],
      "metadata": {
        "colab": {
          "base_uri": "https://localhost:8080/"
        },
        "id": "wrEIcuDC7NcT",
        "outputId": "9bc29dad-3bd7-4115-b6b7-bed5c8f1fcc4"
      },
      "execution_count": 56,
      "outputs": [
        {
          "output_type": "stream",
          "name": "stdout",
          "text": [
            "{'b', 'a', 'c'}\n"
          ]
        }
      ]
    },
    {
      "cell_type": "markdown",
      "source": [
        "17. Write a code to clear all elements from the set {1, 2, 3, 4, 5}."
      ],
      "metadata": {
        "id": "xV3EUbc97rF2"
      }
    },
    {
      "cell_type": "code",
      "source": [
        "set2 = {1, 2, 3, 4, 5}\n",
        "set2.clear()\n",
        "print(set2)"
      ],
      "metadata": {
        "colab": {
          "base_uri": "https://localhost:8080/"
        },
        "id": "p_Fa2oid7sor",
        "outputId": "b70db7e9-e29e-471f-b6f4-56248808f184"
      },
      "execution_count": 57,
      "outputs": [
        {
          "output_type": "stream",
          "name": "stdout",
          "text": [
            "set()\n"
          ]
        }
      ]
    },
    {
      "cell_type": "markdown",
      "source": [
        "18. Write a code to remove the element 4 from the set {1, 2, 3, 4}."
      ],
      "metadata": {
        "id": "5yA6i3RF7yiM"
      }
    },
    {
      "cell_type": "code",
      "source": [
        "set4 = {1, 2, 3, 4}\n",
        "set4.remove(4)\n",
        "print(set4)"
      ],
      "metadata": {
        "colab": {
          "base_uri": "https://localhost:8080/"
        },
        "id": "NhUU7Moz7zpy",
        "outputId": "6c52980f-8e62-47c1-a4dd-0cbdd49b3b2d"
      },
      "execution_count": 58,
      "outputs": [
        {
          "output_type": "stream",
          "name": "stdout",
          "text": [
            "{1, 2, 3}\n"
          ]
        }
      ]
    },
    {
      "cell_type": "markdown",
      "source": [
        "19. Write a code to find the union of two sets {1, 2, 3} and {3, 4, 5}."
      ],
      "metadata": {
        "id": "ZqJUbfze75n7"
      }
    },
    {
      "cell_type": "code",
      "source": [
        "set_a = {1, 2, 3}\n",
        "set_b = {3, 4, 5}\n",
        "union_set = set_a.union(set_b)\n",
        "print(union_set)"
      ],
      "metadata": {
        "colab": {
          "base_uri": "https://localhost:8080/"
        },
        "id": "cutI9nbx76ZN",
        "outputId": "2bd139e3-1422-4c48-824a-d69ef8934488"
      },
      "execution_count": 59,
      "outputs": [
        {
          "output_type": "stream",
          "name": "stdout",
          "text": [
            "{1, 2, 3, 4, 5}\n"
          ]
        }
      ]
    },
    {
      "cell_type": "markdown",
      "source": [
        "20. Write a code to find the intersection of two sets {1, 2, 3} and {2, 3, 4}."
      ],
      "metadata": {
        "id": "SobCzB5f8DQO"
      }
    },
    {
      "cell_type": "code",
      "source": [
        "setno1 = {1, 2, 3}\n",
        "setno2 = {2, 3, 4}\n",
        "intersection_set = setno1.intersection(setno2)\n",
        "print(intersection_set)"
      ],
      "metadata": {
        "colab": {
          "base_uri": "https://localhost:8080/"
        },
        "id": "Vn25iI1C8EaR",
        "outputId": "702a9664-50e8-4e7c-f78c-dd4d6ae4ea1d"
      },
      "execution_count": 61,
      "outputs": [
        {
          "output_type": "stream",
          "name": "stdout",
          "text": [
            "{2, 3}\n"
          ]
        }
      ]
    },
    {
      "cell_type": "markdown",
      "source": [
        "21. Write a code to create a dictionary with the keys \"name\", \"age\", and \"city\", and print it."
      ],
      "metadata": {
        "id": "MSeMzbiW8RE1"
      }
    },
    {
      "cell_type": "code",
      "source": [
        "dict1 = {\"name\": \"Ravi\", \"age\": 28, \"city\": \"Delhi\"}\n",
        "print(dict1)"
      ],
      "metadata": {
        "colab": {
          "base_uri": "https://localhost:8080/"
        },
        "id": "nWKcXsbd8SCs",
        "outputId": "6353c8a7-8e9e-4b4a-d7b2-4e30c2d84d78"
      },
      "execution_count": 62,
      "outputs": [
        {
          "output_type": "stream",
          "name": "stdout",
          "text": [
            "{'name': 'Ravi', 'age': 28, 'city': 'Delhi'}\n"
          ]
        }
      ]
    },
    {
      "cell_type": "markdown",
      "source": [
        "22. Write a code to add a new key-value pair \"country\": \"USA\" to the dictionary {'name': 'John', 'age': 25}."
      ],
      "metadata": {
        "id": "uAFEEZ3F8ghe"
      }
    },
    {
      "cell_type": "code",
      "source": [
        "\n",
        "dict2 = {'name': 'John', 'age': 25}\n",
        "dict2['country'] = 'USA'\n",
        "print(dict2)"
      ],
      "metadata": {
        "colab": {
          "base_uri": "https://localhost:8080/"
        },
        "id": "rB8iGRhn8hZt",
        "outputId": "325612f5-8f42-4d41-ea62-fe73106b03f2"
      },
      "execution_count": 63,
      "outputs": [
        {
          "output_type": "stream",
          "name": "stdout",
          "text": [
            "{'name': 'John', 'age': 25, 'country': 'USA'}\n"
          ]
        }
      ]
    },
    {
      "cell_type": "markdown",
      "source": [
        "23. Write a code to access the value associated with the key \"name\" in the dictionary {'name': 'Alice', 'age': 30}."
      ],
      "metadata": {
        "id": "CGpn8nuh_zI6"
      }
    },
    {
      "cell_type": "code",
      "source": [
        "dict3 = {'name': 'Alice', 'age': 30}\n",
        "print(dict3['name'])"
      ],
      "metadata": {
        "colab": {
          "base_uri": "https://localhost:8080/"
        },
        "id": "MwUZCxYf_0FC",
        "outputId": "3bcee32e-1591-480e-f6fb-ab75d6626d0f"
      },
      "execution_count": 64,
      "outputs": [
        {
          "output_type": "stream",
          "name": "stdout",
          "text": [
            "Alice\n"
          ]
        }
      ]
    },
    {
      "cell_type": "markdown",
      "source": [
        "24. Write a code to remove the key \"age\" from the dictionary {'name': 'Bob', 'age': 22, 'city': 'New York'}."
      ],
      "metadata": {
        "id": "Q7tlQbDq_9Dt"
      }
    },
    {
      "cell_type": "code",
      "source": [
        "dict4 = {'name': 'Bob', 'age': 22, 'city': 'New York'}\n",
        "del dict4['age']\n",
        "print(dict4)"
      ],
      "metadata": {
        "colab": {
          "base_uri": "https://localhost:8080/"
        },
        "id": "rChUu_LN_-Qx",
        "outputId": "b7136818-ae82-4fda-f1d8-0a16c55cf8bb"
      },
      "execution_count": 65,
      "outputs": [
        {
          "output_type": "stream",
          "name": "stdout",
          "text": [
            "{'name': 'Bob', 'city': 'New York'}\n"
          ]
        }
      ]
    },
    {
      "cell_type": "markdown",
      "source": [
        "25. Write a code to check if the key \"city\" exists in the dictionary {'name': 'Alice', 'city': 'Paris'}."
      ],
      "metadata": {
        "id": "iwa4mP85ADYN"
      }
    },
    {
      "cell_type": "code",
      "source": [
        "dict5 = {'name': 'Alice', 'city': 'Paris'}\n",
        "print('city' in dict5)"
      ],
      "metadata": {
        "colab": {
          "base_uri": "https://localhost:8080/"
        },
        "id": "4TotgFBPAF27",
        "outputId": "fb0cbfae-d2bd-4e43-980a-e93e5ca59915"
      },
      "execution_count": 66,
      "outputs": [
        {
          "output_type": "stream",
          "name": "stdout",
          "text": [
            "True\n"
          ]
        }
      ]
    },
    {
      "cell_type": "markdown",
      "source": [
        "26. Write a code to create a list, a tuple, and a dictionary, and print them all."
      ],
      "metadata": {
        "id": "rHgXdOIWAL7_"
      }
    },
    {
      "cell_type": "code",
      "source": [
        "my_lst = [1, 2, 3]\n",
        "my_tuple = (4, 5, 6)\n",
        "my_dict = {'a': 1, 'b': 2, 'c': 3}\n",
        "\n",
        "print(my_lst)\n",
        "print(my_tuple)\n",
        "print(my_dict)"
      ],
      "metadata": {
        "colab": {
          "base_uri": "https://localhost:8080/"
        },
        "id": "ExGj0C7MAM4M",
        "outputId": "8b90e620-4b4a-406d-8f8d-0aa9dc2353a1"
      },
      "execution_count": 68,
      "outputs": [
        {
          "output_type": "stream",
          "name": "stdout",
          "text": [
            "[1, 2, 3]\n",
            "(4, 5, 6)\n",
            "{'a': 1, 'b': 2, 'c': 3}\n"
          ]
        }
      ]
    },
    {
      "cell_type": "markdown",
      "source": [
        "27. Write a code to create a list of 5 random numbers between 1 and 100, sort it in ascending order, and print the result.(replaced)"
      ],
      "metadata": {
        "id": "lGHLaoXyAalA"
      }
    },
    {
      "cell_type": "code",
      "source": [
        "lst_no = [10, 5, 20, 15, 30]\n",
        "#lst_no = input(\"Enter your numbers b/w 1-100 separated by spaces: \").split()\n",
        "lst_no.sort()\n",
        "print(lst_no)"
      ],
      "metadata": {
        "colab": {
          "base_uri": "https://localhost:8080/"
        },
        "id": "NotB_knAAa3C",
        "outputId": "c4305ee2-fdf5-4449-9a94-cccbbd983674"
      },
      "execution_count": 71,
      "outputs": [
        {
          "output_type": "stream",
          "name": "stdout",
          "text": [
            "[5, 10, 15, 20, 30]\n"
          ]
        }
      ]
    },
    {
      "cell_type": "markdown",
      "source": [
        "28. Write a code to create a list with strings and print the element at the third index."
      ],
      "metadata": {
        "id": "kc65-fS43kq1"
      }
    },
    {
      "cell_type": "code",
      "source": [
        "list_value = ['Yudhisthir', 'Arjun', 'Bhim', 'Nakul', 'Sahdev']\n",
        "print(list_value[3])"
      ],
      "metadata": {
        "colab": {
          "base_uri": "https://localhost:8080/"
        },
        "id": "XhxttVsQBDe4",
        "outputId": "cd56cbc9-58f6-4ced-c9c3-1b708b69d2b4"
      },
      "execution_count": 73,
      "outputs": [
        {
          "output_type": "stream",
          "name": "stdout",
          "text": [
            "Nakul\n"
          ]
        }
      ]
    },
    {
      "cell_type": "markdown",
      "source": [
        "29. Write a code to combine two dictionaries into one and print the result."
      ],
      "metadata": {
        "id": "9-o2L3qIBCdb"
      }
    },
    {
      "cell_type": "code",
      "source": [
        "dict_a = {'Ravi': 28, 'Shivam': 24}\n",
        "dict_b = {'Arti': 27, 'Amit': 31}\n",
        "combined_dict = {**dict_a, **dict_b}\n",
        "print(combined_dict)"
      ],
      "metadata": {
        "colab": {
          "base_uri": "https://localhost:8080/"
        },
        "id": "ACmT0ktTBGLG",
        "outputId": "33df46ea-a238-4c0b-da78-f12ec450b66f"
      },
      "execution_count": 75,
      "outputs": [
        {
          "output_type": "stream",
          "name": "stdout",
          "text": [
            "{'Ravi': 28, 'Shivam': 24, 'Arti': 27, 'Amit': 31}\n"
          ]
        }
      ]
    },
    {
      "cell_type": "markdown",
      "source": [
        "30. Write a code to convert a list of strings into a set\n"
      ],
      "metadata": {
        "id": "8JUqXzyCwnvJ"
      }
    },
    {
      "cell_type": "code",
      "source": [
        "string_list = [\"apple\", \"banana\", \"mango\", \"banana\", \"apple\"]\n",
        "string_set = set(string_list)\n",
        "print(string_set)"
      ],
      "metadata": {
        "colab": {
          "base_uri": "https://localhost:8080/"
        },
        "id": "WBjmVCp0BGx0",
        "outputId": "c2533762-aef7-47b4-aadc-c6b48c87c1c7"
      },
      "execution_count": 78,
      "outputs": [
        {
          "output_type": "stream",
          "name": "stdout",
          "text": [
            "{'mango', 'banana', 'apple'}\n"
          ]
        }
      ]
    }
  ]
}