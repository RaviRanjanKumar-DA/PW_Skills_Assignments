{
  "nbformat": 4,
  "nbformat_minor": 0,
  "metadata": {
    "colab": {
      "provenance": []
    },
    "kernelspec": {
      "name": "python3",
      "display_name": "Python 3"
    },
    "language_info": {
      "name": "python"
    }
  },
  "cells": [
    {
      "cell_type": "markdown",
      "source": [
        "# 1. Calculate Mean, Median, Mode"
      ],
      "metadata": {
        "id": "j5G7lUN84HiZ"
      }
    },
    {
      "cell_type": "code",
      "source": [
        "import statistics as stats\n",
        "\n",
        "data = [4, 5, 6, 6, 7, 8, 9]\n",
        "mean = stats.mean(data)\n",
        "median = stats.median(data)\n",
        "mode = stats.mode(data)\n",
        "\n",
        "print(\"Mean:\", mean)\n",
        "print(\"Median:\", median)\n",
        "print(\"Mode:\", mode)"
      ],
      "metadata": {
        "id": "PviPSEmq4Pgs"
      },
      "execution_count": null,
      "outputs": []
    },
    {
      "cell_type": "markdown",
      "source": [
        "# 2. Variance & Standard Deviation"
      ],
      "metadata": {
        "id": "2RE-bkZh4Ooq"
      }
    },
    {
      "cell_type": "code",
      "source": [
        "import statistics as stats\n",
        "\n",
        "data = [10, 12, 23, 23, 16, 23, 21, 16]\n",
        "variance = stats.variance(data)\n",
        "std_dev = stats.stdev(data)\n",
        "\n",
        "print(\"Variance:\", variance)\n",
        "print(\"Standard Deviation:\", std_dev)"
      ],
      "metadata": {
        "id": "3A-tSl-J4Zhi"
      },
      "execution_count": null,
      "outputs": []
    },
    {
      "cell_type": "markdown",
      "source": [
        "# 3. Dataset for Nominal, Ordinal, Interval, Ratio"
      ],
      "metadata": {
        "id": "PPZ5Hzjv4bas"
      }
    },
    {
      "cell_type": "code",
      "source": [
        "dataset = {\n",
        "    \"Nominal\": [\"Red\", \"Blue\", \"Green\"],\n",
        "    \"Ordinal\": [\"Low\", \"Medium\", \"High\"],\n",
        "    \"Interval\": [10, 20, 30],  # No true zero (e.g., temperature in Celsius)\n",
        "    \"Ratio\": [100, 200, 300]   # True zero (e.g., income, height)\n",
        "}"
      ],
      "metadata": {
        "id": "rp2ffTjn4e9s"
      },
      "execution_count": null,
      "outputs": []
    },
    {
      "cell_type": "markdown",
      "source": [
        "# 4. Random & Stratified Sampling"
      ],
      "metadata": {
        "id": "ijtp3aUv4gHS"
      }
    },
    {
      "cell_type": "code",
      "source": [
        "import pandas as pd\n",
        "from sklearn.model_selection import train_test_split\n",
        "\n",
        "# Random Sampling\n",
        "data = pd.DataFrame({'value': range(100)})\n",
        "random_sample = data.sample(n=10)\n",
        "\n",
        "# Stratified Sampling\n",
        "data['category'] = ['A']*50 + ['B']*50\n",
        "stratified_sample = data.groupby('category', group_keys=False).apply(lambda x: x.sample(5))\n",
        "\n",
        "print(\"Random Sample:\\n\", random_sample)\n",
        "print(\"\\nStratified Sample:\\n\", stratified_sample)"
      ],
      "metadata": {
        "id": "fCxLUG2x4uNT"
      },
      "execution_count": null,
      "outputs": []
    },
    {
      "cell_type": "markdown",
      "source": [
        "# 5. Function to Calculate Range"
      ],
      "metadata": {
        "id": "3KTZGYE9CGiR"
      }
    },
    {
      "cell_type": "code",
      "source": [
        "def calculate_range(data):\n",
        "    return max(data) - min(data)\n",
        "\n",
        "data = [5, 10, 15, 20, 25]\n",
        "print(\"Range:\", calculate_range(data))"
      ],
      "metadata": {
        "id": "4VpHw0cKCJEu"
      },
      "execution_count": null,
      "outputs": []
    },
    {
      "cell_type": "markdown",
      "source": [
        "# 6. Plot Histogram to Visualize Skewness"
      ],
      "metadata": {
        "id": "rv4sq-3JCKe5"
      }
    },
    {
      "cell_type": "code",
      "source": [
        "import matplotlib.pyplot as plt\n",
        "import numpy as np\n",
        "\n",
        "data = np.random.exponential(scale=2, size=1000)  # Skewed data\n",
        "plt.hist(data, bins=30, edgecolor='black')\n",
        "plt.title('Histogram to Visualize Skewness')\n",
        "plt.xlabel('Values')\n",
        "plt.ylabel('Frequency')\n",
        "plt.show()"
      ],
      "metadata": {
        "id": "FR-05UZbCMYe"
      },
      "execution_count": null,
      "outputs": []
    },
    {
      "cell_type": "markdown",
      "source": [
        "# 7. Skewness and Kurtosis"
      ],
      "metadata": {
        "id": "bVNophR4CNqv"
      }
    },
    {
      "cell_type": "code",
      "source": [
        "from scipy.stats import skew, kurtosis\n",
        "\n",
        "print(\"Skewness:\", skew(data))\n",
        "print(\"Kurtosis:\", kurtosis(data))"
      ],
      "metadata": {
        "id": "WVgEkXt7CYZ5"
      },
      "execution_count": null,
      "outputs": []
    },
    {
      "cell_type": "markdown",
      "source": [
        "# 8. Positive & Negative Skewness"
      ],
      "metadata": {
        "id": "6j-acQ0YCZxf"
      }
    },
    {
      "cell_type": "code",
      "source": [
        "pos_skew = np.random.exponential(scale=2, size=1000)\n",
        "neg_skew = -np.random.exponential(scale=2, size=1000)\n",
        "\n",
        "plt.figure(figsize=(12, 5))\n",
        "plt.subplot(1, 2, 1)\n",
        "plt.hist(pos_skew, bins=30)\n",
        "plt.title('Positive Skew')\n",
        "\n",
        "plt.subplot(1, 2, 2)\n",
        "plt.hist(neg_skew, bins=30)\n",
        "plt.title('Negative Skew')\n",
        "\n",
        "plt.show()"
      ],
      "metadata": {
        "id": "vsGKzCDNCfLA"
      },
      "execution_count": null,
      "outputs": []
    },
    {
      "cell_type": "markdown",
      "source": [
        "# 9. Covariance Between Two Datasets"
      ],
      "metadata": {
        "id": "bsH4_xxTCgaL"
      }
    },
    {
      "cell_type": "code",
      "source": [
        "import numpy as np\n",
        "\n",
        "x = np.array([2, 4, 6, 8])\n",
        "y = np.array([1, 3, 5, 7])\n",
        "\n",
        "cov_matrix = np.cov(x, y)\n",
        "print(\"Covariance Matrix:\\n\", cov_matrix)"
      ],
      "metadata": {
        "id": "P09xcL2SCjDu"
      },
      "execution_count": null,
      "outputs": []
    },
    {
      "cell_type": "markdown",
      "source": [
        "# 10. Correlation Coefficient"
      ],
      "metadata": {
        "id": "Nn4cusM9CkXL"
      }
    },
    {
      "cell_type": "code",
      "source": [
        "correlation = np.corrcoef(x, y)\n",
        "print(\"Correlation Coefficient Matrix:\\n\", correlation)"
      ],
      "metadata": {
        "id": "piXEVuhzCl70"
      },
      "execution_count": null,
      "outputs": []
    },
    {
      "cell_type": "markdown",
      "source": [
        "#  11. Scatter Plot"
      ],
      "metadata": {
        "id": "jGAnOrKqCzmX"
      }
    },
    {
      "cell_type": "code",
      "source": [
        "plt.scatter(x, y)\n",
        "plt.title('Scatter Plot')\n",
        "plt.xlabel('X')\n",
        "plt.ylabel('Y')\n",
        "plt.grid(True)\n",
        "plt.show()"
      ],
      "metadata": {
        "id": "FY9pAPcmC22v"
      },
      "execution_count": null,
      "outputs": []
    },
    {
      "cell_type": "markdown",
      "source": [
        "# 12. Simple vs Systematic Sampling"
      ],
      "metadata": {
        "id": "trD0lzd9C2I9"
      }
    },
    {
      "cell_type": "code",
      "source": [
        "import pandas as pd\n",
        "\n",
        "data = pd.DataFrame({'value': range(100)})\n",
        "\n",
        "# Simple Random Sampling\n",
        "random_sample = data.sample(n=10)\n",
        "\n",
        "# Systematic Sampling\n",
        "k = 10  # every kth item\n",
        "systematic_sample = data.iloc[::k]\n",
        "\n",
        "print(\"Simple Random Sample:\\n\", random_sample)\n",
        "print(\"Systematic Sample:\\n\", systematic_sample)"
      ],
      "metadata": {
        "id": "4rb4ZZ0LC63I"
      },
      "execution_count": null,
      "outputs": []
    },
    {
      "cell_type": "markdown",
      "source": [
        "# 13. Grouped Data – Mean, Median, Mode"
      ],
      "metadata": {
        "id": "uRYVRJQfC8Ij"
      }
    },
    {
      "cell_type": "code",
      "source": [
        "import pandas as pd\n",
        "import numpy as np\n",
        "\n",
        "grouped_data = {\n",
        "    'Class Interval': ['0-10', '10-20', '20-30'],\n",
        "    'Frequency': [5, 15, 10]\n",
        "}\n",
        "df = pd.DataFrame(grouped_data)\n",
        "\n",
        "# Midpoints\n",
        "df['Midpoint'] = df['Class Interval'].apply(lambda x: (int(x.split('-')[0]) + int(x.split('-')[1])) / 2)\n",
        "df['f*x'] = df['Frequency'] * df['Midpoint']\n",
        "\n",
        "mean = df['f*x'].sum() / df['Frequency'].sum()\n",
        "print(\"Grouped Mean:\", mean)"
      ],
      "metadata": {
        "id": "t4NnpgPXC91J"
      },
      "execution_count": null,
      "outputs": []
    },
    {
      "cell_type": "markdown",
      "source": [
        "# 14. Simulate Data and Calculate Central Tendency & Dispersion"
      ],
      "metadata": {
        "id": "gw1_pwD7C_l_"
      }
    },
    {
      "cell_type": "code",
      "source": [
        "data = np.random.normal(loc=50, scale=10, size=1000)\n",
        "\n",
        "print(\"Mean:\", np.mean(data))\n",
        "print(\"Median:\", np.median(data))\n",
        "print(\"Standard Deviation:\", np.std(data))\n",
        "print(\"Variance:\", np.var(data))"
      ],
      "metadata": {
        "id": "sGUTUxEeDBky"
      },
      "execution_count": null,
      "outputs": []
    },
    {
      "cell_type": "markdown",
      "source": [
        "#  15. Descriptive Stats with NumPy / Pandas"
      ],
      "metadata": {
        "id": "gkBAPzpnDCoS"
      }
    },
    {
      "cell_type": "code",
      "source": [
        "import pandas as pd\n",
        "\n",
        "df = pd.DataFrame({'values': data})\n",
        "print(df.describe())"
      ],
      "metadata": {
        "id": "JThdf5vdDEaK"
      },
      "execution_count": null,
      "outputs": []
    },
    {
      "cell_type": "markdown",
      "source": [
        "# 16. Boxplot for Spread & Outliers"
      ],
      "metadata": {
        "id": "OYr1jrrUDF39"
      }
    },
    {
      "cell_type": "code",
      "source": [
        "plt.boxplot(data)\n",
        "plt.title('Boxplot')\n",
        "plt.show()"
      ],
      "metadata": {
        "id": "o4yd25QiDHo6"
      },
      "execution_count": null,
      "outputs": []
    },
    {
      "cell_type": "markdown",
      "source": [
        "# 17. Calculate IQR"
      ],
      "metadata": {
        "id": "Oct7eKpfDJKs"
      }
    },
    {
      "cell_type": "code",
      "source": [
        "Q1 = np.percentile(data, 25)\n",
        "Q3 = np.percentile(data, 75)\n",
        "IQR = Q3 - Q1\n",
        "print(\"Interquartile Range (IQR):\", IQR)"
      ],
      "metadata": {
        "id": "I0tA7NVnDLFb"
      },
      "execution_count": null,
      "outputs": []
    },
    {
      "cell_type": "markdown",
      "source": [
        "# 18. Z-Score Normalization"
      ],
      "metadata": {
        "id": "kKl8SPDADOj7"
      }
    },
    {
      "cell_type": "code",
      "source": [
        "from scipy.stats import zscore\n",
        "\n",
        "z_scores = zscore(data)\n",
        "print(\"Z-Scores (first 5):\", z_scores[:5])"
      ],
      "metadata": {
        "id": "wZqHqZHdDMQh"
      },
      "execution_count": null,
      "outputs": []
    },
    {
      "cell_type": "markdown",
      "source": [
        "# 19. Compare Two Datasets' Standard Deviations"
      ],
      "metadata": {
        "id": "zr53WusHDRPL"
      }
    },
    {
      "cell_type": "code",
      "source": [
        "data1 = np.random.normal(50, 5, 1000)\n",
        "data2 = np.random.normal(50, 20, 1000)\n",
        "\n",
        "print(\"Std Dev of data1:\", np.std(data1))\n",
        "print(\"Std Dev of data2:\", np.std(data2))"
      ],
      "metadata": {
        "id": "HLm2Cgf5DT0g"
      },
      "execution_count": null,
      "outputs": []
    },
    {
      "cell_type": "markdown",
      "source": [
        "# 20. Covariance Heatmap"
      ],
      "metadata": {
        "id": "GN2J1KKgDVNr"
      }
    },
    {
      "cell_type": "code",
      "source": [
        "import seaborn as sns\n",
        "\n",
        "df = pd.DataFrame({'x': x, 'y': y})\n",
        "sns.heatmap(df.cov(), annot=True, cmap='coolwarm')\n",
        "plt.title('Covariance Heatmap')\n",
        "plt.show()"
      ],
      "metadata": {
        "id": "uuuLfH8GDXQQ"
      },
      "execution_count": null,
      "outputs": []
    },
    {
      "cell_type": "markdown",
      "source": [
        "# 21. Correlation Matrix using Seaborn"
      ],
      "metadata": {
        "id": "sgysV5NrDZMr"
      }
    },
    {
      "cell_type": "code",
      "source": [
        "sns.heatmap(df.corr(), annot=True, cmap='YlGnBu')\n",
        "plt.title('Correlation Matrix')\n",
        "plt.show()"
      ],
      "metadata": {
        "id": "rVXTHR1eDa3B"
      },
      "execution_count": null,
      "outputs": []
    },
    {
      "cell_type": "markdown",
      "source": [
        "# 22. Variance and Standard Deviation"
      ],
      "metadata": {
        "id": "-nL0v94GDcat"
      }
    },
    {
      "cell_type": "code",
      "source": [
        "print(\"Variance:\", np.var(data))\n",
        "print(\"Standard Deviation:\", np.std(data))"
      ],
      "metadata": {
        "id": "U0ESJv3zDfpY"
      },
      "execution_count": null,
      "outputs": []
    },
    {
      "cell_type": "markdown",
      "source": [
        "# 23. Visualize Skewness and Kurtosis"
      ],
      "metadata": {
        "id": "bAAE5YjfDgzb"
      }
    },
    {
      "cell_type": "code",
      "source": [
        "import seaborn as sns\n",
        "sns.histplot(data, kde=True)\n",
        "plt.title(\"Skewness & Kurtosis Visualization\")\n",
        "plt.show()"
      ],
      "metadata": {
        "id": "sUm1wemIDi3p"
      },
      "execution_count": null,
      "outputs": []
    },
    {
      "cell_type": "markdown",
      "source": [
        "# 24. Pearson and Spearman Correlation"
      ],
      "metadata": {
        "id": "xBx3FtfVDj9s"
      }
    },
    {
      "cell_type": "code",
      "source": [
        "from scipy.stats import pearsonr, spearmanr\n",
        "\n",
        "print(\"Pearson Correlation:\", pearsonr(x, y))\n",
        "print(\"Spearman Correlation:\", spearmanr(x, y))"
      ],
      "metadata": {
        "id": "ISM-XRSdDleu"
      },
      "execution_count": null,
      "outputs": []
    }
  ]
}