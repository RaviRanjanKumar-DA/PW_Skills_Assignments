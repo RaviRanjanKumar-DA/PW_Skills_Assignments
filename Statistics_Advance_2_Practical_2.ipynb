{
  "nbformat": 4,
  "nbformat_minor": 0,
  "metadata": {
    "colab": {
      "provenance": []
    },
    "kernelspec": {
      "name": "python3",
      "display_name": "Python 3"
    },
    "language_info": {
      "name": "python"
    }
  },
  "cells": [
    {
      "cell_type": "markdown",
      "source": [
        "# Part-2"
      ],
      "metadata": {
        "id": "NH_26ohy0pBI"
      }
    },
    {
      "cell_type": "markdown",
      "source": [
        "1. Write a Python program to perform a Z-test for comparing a sample mean to a known population mean and interpret the results."
      ],
      "metadata": {
        "id": "rJ_vjD-W0s79"
      }
    },
    {
      "cell_type": "code",
      "source": [
        "from scipy.stats import norm\n",
        "import numpy as np\n",
        "\n",
        "def z_test(sample_mean, pop_mean, std_dev, n, alpha=0.05):\n",
        "    z = (sample_mean - pop_mean) / (std_dev / np.sqrt(n))\n",
        "    p_value = 2 * (1 - norm.cdf(abs(z)))\n",
        "    print(f\"Z = {z:.3f}, P-value = {p_value:.4f}\")\n",
        "    if p_value < alpha:\n",
        "        print(\"Reject null hypothesis\")\n",
        "    else:\n",
        "        print(\"Fail to reject null hypothesis\")\n",
        "\n",
        "z_test(sample_mean=52, pop_mean=50, std_dev=10, n=30)"
      ],
      "metadata": {
        "id": "CVbbg5k72JqJ"
      },
      "execution_count": null,
      "outputs": []
    },
    {
      "cell_type": "markdown",
      "source": [
        "2. Simulate random data to perform hypothesis testing and calculate the corresponding P-value using Python."
      ],
      "metadata": {
        "id": "0wch2W6W2JHI"
      }
    },
    {
      "cell_type": "code",
      "source": [
        "np.random.seed(42)\n",
        "data = np.random.normal(100, 10, 50)\n",
        "sample_mean = np.mean(data)\n",
        "pop_mean = 102\n",
        "std_dev = np.std(data, ddof=1)\n",
        "z = (sample_mean - pop_mean) / (std_dev / np.sqrt(len(data)))\n",
        "p_value = 2 * (1 - norm.cdf(abs(z)))\n",
        "print(f\"Z = {z:.2f}, P = {p_value:.4f}\")"
      ],
      "metadata": {
        "id": "u0-aZ0Br2TwA"
      },
      "execution_count": null,
      "outputs": []
    },
    {
      "cell_type": "markdown",
      "source": [
        "3. Implement a one-sample Z-test using Python to compare the sample mean with the population mean."
      ],
      "metadata": {
        "id": "yiFKErQy2VfR"
      }
    },
    {
      "cell_type": "code",
      "source": [
        "def one_sample_z(data, pop_mean, std_dev):\n",
        "    n = len(data)\n",
        "    sample_mean = np.mean(data)\n",
        "    z = (sample_mean - pop_mean) / (std_dev / np.sqrt(n))\n",
        "    p = 2 * (1 - norm.cdf(abs(z)))\n",
        "    return z, p\n",
        "\n",
        "data = np.random.normal(60, 10, 40)\n",
        "z, p = one_sample_z(data, 62, 10)\n",
        "print(f\"Z = {z:.2f}, P = {p:.4f}\")"
      ],
      "metadata": {
        "id": "BlWRkOWX2YEN"
      },
      "execution_count": null,
      "outputs": []
    },
    {
      "cell_type": "markdown",
      "source": [
        "4. Perform a two-tailed Z-test using Python and visualize the decision region on a plot."
      ],
      "metadata": {
        "id": "J3MwfNtz2aL_"
      }
    },
    {
      "cell_type": "code",
      "source": [
        "import matplotlib.pyplot as plt\n",
        "\n",
        "def visualize_z_test(z_stat, alpha=0.05):\n",
        "    x = np.linspace(-4, 4, 1000)\n",
        "    y = norm.pdf(x)\n",
        "    plt.plot(x, y)\n",
        "    z_crit = norm.ppf(1 - alpha / 2)\n",
        "    plt.axvline(z_crit, color='red', linestyle='--', label='Critical value')\n",
        "    plt.axvline(-z_crit, color='red', linestyle='--')\n",
        "    plt.axvline(z_stat, color='blue', label='Z-stat')\n",
        "    plt.title(\"Two-Tailed Z-Test\")\n",
        "    plt.legend()\n",
        "    plt.show()\n",
        "\n",
        "visualize_z_test(z_stat=2.1)"
      ],
      "metadata": {
        "id": "s3QAH2Ua2jD1"
      },
      "execution_count": null,
      "outputs": []
    },
    {
      "cell_type": "markdown",
      "source": [
        "5. Create a Python function that calculates and visualizes Type 1 and Type 2 errors during hypothesis testing."
      ],
      "metadata": {
        "id": "PdDtQrdD2lyD"
      }
    },
    {
      "cell_type": "code",
      "source": [
        "def plot_errors():\n",
        "    x = np.linspace(-4, 4, 1000)\n",
        "    null = norm.pdf(x, 0, 1)\n",
        "    alt = norm.pdf(x, 1, 1)\n",
        "    plt.plot(x, null, label='Null Hypothesis')\n",
        "    plt.plot(x, alt, label='Alternative Hypothesis')\n",
        "\n",
        "    plt.fill_between(x, null, where=(x > 1.64), color='red', alpha=0.3, label='Type I Error')\n",
        "    plt.fill_between(x, alt, where=(x <= 1.64), color='blue', alpha=0.3, label='Type II Error')\n",
        "\n",
        "    plt.legend()\n",
        "    plt.title(\"Type I and Type II Errors\")\n",
        "    plt.show()\n",
        "\n",
        "plot_errors()"
      ],
      "metadata": {
        "id": "Iwxb8TsS2oB2"
      },
      "execution_count": null,
      "outputs": []
    },
    {
      "cell_type": "markdown",
      "source": [
        "6. Write a Python program to perform an independent T-test and interpret the results."
      ],
      "metadata": {
        "id": "Aa9hAAAs2qLG"
      }
    },
    {
      "cell_type": "code",
      "source": [
        "from scipy.stats import ttest_ind\n",
        "\n",
        "a = np.random.normal(70, 5, 30)\n",
        "b = np.random.normal(75, 5, 30)\n",
        "\n",
        "t_stat, p_val = ttest_ind(a, b)\n",
        "print(f\"T-stat = {t_stat:.2f}, P-value = {p_val:.4f}\")"
      ],
      "metadata": {
        "id": "aK70d1Mm2sgQ"
      },
      "execution_count": null,
      "outputs": []
    },
    {
      "cell_type": "markdown",
      "source": [
        "7. Perform a paired sample T-test using Python and visualize the comparison results."
      ],
      "metadata": {
        "id": "w4wKwjL62uy1"
      }
    },
    {
      "cell_type": "code",
      "source": [
        "from scipy.stats import ttest_rel\n",
        "\n",
        "before = np.random.normal(100, 10, 30)\n",
        "after = before + np.random.normal(-2, 5, 30)\n",
        "t_stat, p_val = ttest_rel(before, after)\n",
        "\n",
        "plt.plot(before, label='Before')\n",
        "plt.plot(after, label='After')\n",
        "plt.title('Paired Samples')\n",
        "plt.legend()\n",
        "plt.show()\n",
        "\n",
        "print(f\"T-stat = {t_stat:.2f}, P = {p_val:.4f}\")"
      ],
      "metadata": {
        "id": "lPGPsAE12w8d"
      },
      "execution_count": null,
      "outputs": []
    },
    {
      "cell_type": "markdown",
      "source": [
        "8. Simulate data and perform both Z-test and T-test, then compare the results using Python."
      ],
      "metadata": {
        "id": "YrA9tjlE21Ib"
      }
    },
    {
      "cell_type": "code",
      "source": [
        "from scipy.stats import ttest_1samp\n",
        "\n",
        "data = np.random.normal(100, 10, 30)\n",
        "pop_mean = 98\n",
        "z, p_z = one_sample_z(data, pop_mean, 10)\n",
        "t_stat, p_t = ttest_1samp(data, pop_mean)\n",
        "print(f\"Z-test: Z={z:.2f}, P={p_z:.4f}\")\n",
        "print(f\"T-test: T={t_stat:.2f}, P={p_t:.4f}\")"
      ],
      "metadata": {
        "id": "7TO4ZZ2U222a"
      },
      "execution_count": null,
      "outputs": []
    },
    {
      "cell_type": "markdown",
      "source": [
        "9. Write a Python function to calculate the confidence interval for a sample mean and explain its significance."
      ],
      "metadata": {
        "id": "Q9Tuxukd245N"
      }
    },
    {
      "cell_type": "code",
      "source": [
        "def confidence_interval(data, confidence=0.95):\n",
        "    mean = np.mean(data)\n",
        "    sem = stats.sem(data)\n",
        "    n = len(data)\n",
        "    h = stats.t.ppf((1 + confidence) / 2., n-1) * sem\n",
        "    return mean - h, mean + h\n",
        "\n",
        "ci = confidence_interval(data)\n",
        "print(\"95% Confidence Interval:\", ci)"
      ],
      "metadata": {
        "id": "TYBchOeK276i"
      },
      "execution_count": null,
      "outputs": []
    },
    {
      "cell_type": "markdown",
      "source": [
        "10. Write a Python program to calculate the margin of error for a given confidence level using sample data."
      ],
      "metadata": {
        "id": "kBkDyROz29n9"
      }
    },
    {
      "cell_type": "code",
      "source": [
        "def margin_of_error(data, confidence=0.95):\n",
        "    sem = stats.sem(data)\n",
        "    n = len(data)\n",
        "    moe = stats.t.ppf((1 + confidence) / 2., n-1) * sem\n",
        "    return moe\n",
        "\n",
        "print(\"Margin of Error:\", margin_of_error(data))"
      ],
      "metadata": {
        "id": "QopMefGf2_83"
      },
      "execution_count": null,
      "outputs": []
    },
    {
      "cell_type": "markdown",
      "source": [
        "11. Implement a Bayesian inference method using Bayes' Theorem in Python and explain the process."
      ],
      "metadata": {
        "id": "e3px-yQf3CUd"
      }
    },
    {
      "cell_type": "code",
      "source": [
        "def bayes_theorem(prior, likelihood, evidence):\n",
        "    return (likelihood * prior) / evidence\n",
        "\n",
        "posterior = bayes_theorem(0.01, 0.9, 0.01*0.9 + 0.99*0.05)\n",
        "print(\"Posterior Probability:\", round(posterior, 4))"
      ],
      "metadata": {
        "id": "iEcOc-jo3Ft4"
      },
      "execution_count": null,
      "outputs": []
    },
    {
      "cell_type": "markdown",
      "source": [
        "12. Perform a Chi-square test for independence between two categorical variables in Python."
      ],
      "metadata": {
        "id": "G2fdi2Ba3Hn6"
      }
    },
    {
      "cell_type": "code",
      "source": [
        "from scipy.stats import chi2_contingency\n",
        "\n",
        "table = [[20, 15], [30, 35]]\n",
        "chi2, p, dof, ex = chi2_contingency(table)\n",
        "print(f\"Chi2 = {chi2:.2f}, P = {p:.4f}\")"
      ],
      "metadata": {
        "id": "yBbvnLp83KHR"
      },
      "execution_count": null,
      "outputs": []
    },
    {
      "cell_type": "markdown",
      "source": [
        "13. Write a Python program to calculate the expected frequencies for a Chi-square test based on observed data."
      ],
      "metadata": {
        "id": "39cpsRRO3Lqk"
      }
    },
    {
      "cell_type": "code",
      "source": [
        "_, _, _, expected = chi2_contingency(table)\n",
        "print(\"Expected Frequencies:\")\n",
        "print(expected)"
      ],
      "metadata": {
        "id": "zdphcWxh3OOW"
      },
      "execution_count": null,
      "outputs": []
    },
    {
      "cell_type": "markdown",
      "source": [
        "14. Perform a goodness-of-fit test using Python to compare the observed data to an expected distribution."
      ],
      "metadata": {
        "id": "mYex5roL3QRL"
      }
    },
    {
      "cell_type": "code",
      "source": [
        "from scipy.stats import chisquare\n",
        "\n",
        "observed = [50, 30, 20]\n",
        "expected = [40, 40, 20]\n",
        "chi2, p = chisquare(f_obs=observed, f_exp=expected)\n",
        "print(f\"Chi2 = {chi2:.2f}, P = {p:.4f}\")"
      ],
      "metadata": {
        "id": "4PVDf8tR3SH9"
      },
      "execution_count": null,
      "outputs": []
    },
    {
      "cell_type": "markdown",
      "source": [
        "15. Create a Python script to simulate and visualize the Chi-square distribution and discuss its characteristics."
      ],
      "metadata": {
        "id": "f8lEtcbc3T7R"
      }
    },
    {
      "cell_type": "code",
      "source": [
        "from scipy.stats import chi2\n",
        "\n",
        "x = np.linspace(0, 20, 1000)\n",
        "y = chi2.pdf(x, df=3)\n",
        "plt.plot(x, y)\n",
        "plt.title(\"Chi-square Distribution (df=3)\")\n",
        "plt.xlabel(\"Value\")\n",
        "plt.ylabel(\"Density\")\n",
        "plt.grid()\n",
        "plt.show()"
      ],
      "metadata": {
        "id": "P-aq0KNr3WUB"
      },
      "execution_count": null,
      "outputs": []
    },
    {
      "cell_type": "markdown",
      "source": [
        "16. Implement an F-test using Python to compare the variances of two random samples."
      ],
      "metadata": {
        "id": "jQRTiFyX3Y5h"
      }
    },
    {
      "cell_type": "code",
      "source": [
        "data1 = np.random.normal(10, 2, 50)\n",
        "data2 = np.random.normal(10, 3, 50)\n",
        "\n",
        "f_stat = np.var(data1, ddof=1) / np.var(data2, ddof=1)\n",
        "print(f\"F-statistic = {f_stat:.2f}\")"
      ],
      "metadata": {
        "id": "K8MtTMUr3a3j"
      },
      "execution_count": null,
      "outputs": []
    },
    {
      "cell_type": "markdown",
      "source": [
        "17. Write a Python program to perform an ANOVA test to compare means between multiple groups and interpret the results."
      ],
      "metadata": {
        "id": "sF9M5jYr3c_W"
      }
    },
    {
      "cell_type": "code",
      "source": [
        "from scipy.stats import f_oneway\n",
        "\n",
        "g1 = np.random.normal(50, 5, 30)\n",
        "g2 = np.random.normal(55, 5, 30)\n",
        "g3 = np.random.normal(52, 5, 30)\n",
        "\n",
        "f, p = f_oneway(g1, g2, g3)\n",
        "print(f\"F = {f:.2f}, P = {p:.4f}\")"
      ],
      "metadata": {
        "id": "Y2ICQC-s3e85"
      },
      "execution_count": null,
      "outputs": []
    },
    {
      "cell_type": "markdown",
      "source": [
        "18. Perform a one-way ANOVA test using Python to compare the means of different groups and plot the results."
      ],
      "metadata": {
        "id": "7pIHI9c33grp"
      }
    },
    {
      "cell_type": "code",
      "source": [
        "plt.boxplot([g1, g2, g3], labels=['Group1', 'Group2', 'Group3'])\n",
        "plt.title(\"ANOVA Group Means\")\n",
        "plt.grid()\n",
        "plt.show()"
      ],
      "metadata": {
        "id": "-Kz4nTMY3ipA"
      },
      "execution_count": null,
      "outputs": []
    },
    {
      "cell_type": "markdown",
      "source": [
        "19. Write a Python function to check the assumptions (normality, independence, and equal variance) for ANOVA."
      ],
      "metadata": {
        "id": "AapnRcIm3lWr"
      }
    },
    {
      "cell_type": "code",
      "source": [
        "from scipy.stats import shapiro, levene\n",
        "\n",
        "print(\"Shapiro Test (Normality):\", shapiro(g1))\n",
        "print(\"Levene Test (Equal Var):\", levene(g1, g2, g3))"
      ],
      "metadata": {
        "id": "nGXKHbpq3nXK"
      },
      "execution_count": null,
      "outputs": []
    },
    {
      "cell_type": "markdown",
      "source": [
        "20. Perform a two-way ANOVA test using Python to study the interaction between two factors and visualize the results."
      ],
      "metadata": {
        "id": "iaXdaqW23ptL"
      }
    },
    {
      "cell_type": "code",
      "source": [
        "import pandas as pd\n",
        "import statsmodels.api as sm\n",
        "from statsmodels.formula.api import ols\n",
        "\n",
        "df = pd.DataFrame({\n",
        "    'score': np.random.normal(60, 10, 60),\n",
        "    'gender': ['M']*30 + ['F']*30,\n",
        "    'group': ['A']*15 + ['B']*15 + ['A']*15 + ['B']*15\n",
        "})\n",
        "\n",
        "model = ols('score ~ C(gender) + C(group) + C(gender):C(group)', data=df).fit()\n",
        "anova_result = sm.stats.anova_lm(model, typ=2)\n",
        "print(anova_result)"
      ],
      "metadata": {
        "id": "7panLBYA3vX4"
      },
      "execution_count": null,
      "outputs": []
    },
    {
      "cell_type": "markdown",
      "source": [
        "21. Write a Python program to visualize the F-distribution and discuss its use in hypothesis testing."
      ],
      "metadata": {
        "id": "xIXB729D3yDc"
      }
    },
    {
      "cell_type": "code",
      "source": [
        "x = np.linspace(0, 5, 1000)\n",
        "y = stats.f.pdf(x, dfn=5, dfd=10)\n",
        "plt.plot(x, y)\n",
        "plt.title(\"F-distribution (dfn=5, dfd=10)\")\n",
        "plt.grid()\n",
        "plt.show()"
      ],
      "metadata": {
        "id": "sppMn52r30Q-"
      },
      "execution_count": null,
      "outputs": []
    },
    {
      "cell_type": "markdown",
      "source": [
        "22. Perform a one-way ANOVA test in Python and visualize the results with boxplots to compare group means."
      ],
      "metadata": {
        "id": "Rkm8q87n32Ws"
      }
    },
    {
      "cell_type": "code",
      "source": [
        "plt.boxplot([g1, g2, g3], labels=['A', 'B', 'C'])\n",
        "plt.title(\"Boxplot for ANOVA\")\n",
        "plt.grid()\n",
        "plt.show()"
      ],
      "metadata": {
        "id": "MwC3eIy835UY"
      },
      "execution_count": null,
      "outputs": []
    },
    {
      "cell_type": "markdown",
      "source": [
        "23. Simulate random data from a normal distribution, then perform hypothesis testing to evaluate the means."
      ],
      "metadata": {
        "id": "Y3DF7bTi392Q"
      }
    },
    {
      "cell_type": "code",
      "source": [
        "data = np.random.normal(70, 10, 50)\n",
        "print(ttest_1samp(data, 72))"
      ],
      "metadata": {
        "id": "osuEk8IV3-ib"
      },
      "execution_count": null,
      "outputs": []
    },
    {
      "cell_type": "markdown",
      "source": [
        "24. Perform a hypothesis test for population variance using a Chi-square distribution and interpret the results."
      ],
      "metadata": {
        "id": "preHjcC04AVe"
      }
    },
    {
      "cell_type": "code",
      "source": [
        "sample = np.random.normal(50, 5, 30)\n",
        "sample_var = np.var(sample, ddof=1)\n",
        "chi2_stat = (len(sample) - 1) * sample_var / 25\n",
        "p = 1 - chi2.cdf(chi2_stat, df=29)\n",
        "print(f\"Chi2 stat = {chi2_stat:.2f}, P = {p:.4f}\")"
      ],
      "metadata": {
        "id": "kmMgEzVB4Dp-"
      },
      "execution_count": null,
      "outputs": []
    },
    {
      "cell_type": "markdown",
      "source": [
        "25. Write a Python script to perform a Z-test for comparing proportions between two datasets or groups."
      ],
      "metadata": {
        "id": "jKV9CqzR4D3z"
      }
    },
    {
      "cell_type": "code",
      "source": [
        "from statsmodels.stats.proportion import proportions_ztest\n",
        "\n",
        "count = np.array([40, 30])\n",
        "nobs = np.array([100, 100])\n",
        "stat, p = proportions_ztest(count, nobs)\n",
        "print(f\"Z = {stat:.2f}, P = {p:.4f}\")"
      ],
      "metadata": {
        "id": "KNDW6yI64G7S"
      },
      "execution_count": null,
      "outputs": []
    },
    {
      "cell_type": "markdown",
      "source": [
        "26. Implement an F-test for comparing the variances of two datasets, then interpret and visualize the results."
      ],
      "metadata": {
        "id": "6w6Atngn4F47"
      }
    },
    {
      "cell_type": "code",
      "source": [
        "var1 = np.var(data1, ddof=1)\n",
        "var2 = np.var(data2, ddof=1)\n",
        "f = var1 / var2\n",
        "print(f\"F-statistic: {f:.2f}\")\n",
        "plt.hist([data1, data2], label=['Group 1', 'Group 2'], alpha=0.7)\n",
        "plt.legend()\n",
        "plt.show()"
      ],
      "metadata": {
        "id": "2QYXjCF94I2Z"
      },
      "execution_count": null,
      "outputs": []
    },
    {
      "cell_type": "markdown",
      "source": [
        "27. Perform a Chi-square test for goodness of fit with simulated data and analyze the results."
      ],
      "metadata": {
        "id": "uDN37b2M4JO3"
      }
    },
    {
      "cell_type": "code",
      "source": [
        "observed = [25, 35, 40]\n",
        "expected = [30, 30, 40]\n",
        "chi2, p = chisquare(observed, expected)\n",
        "print(f\"Chi2 = {chi2:.2f}, P = {p:.4f}\")"
      ],
      "metadata": {
        "id": "PdYTstg14L06"
      },
      "execution_count": null,
      "outputs": []
    }
  ]
}